{
 "cells": [
  {
   "cell_type": "markdown",
   "metadata": {
    "id": "etniX_KTlJ5U"
   },
   "source": [
    "# USAD"
   ]
  },
  {
   "cell_type": "markdown",
   "metadata": {
    "id": "N3jM0qLU8MgZ"
   },
   "source": [
    "## Environment"
   ]
  },
  {
   "cell_type": "code",
   "execution_count": 1,
   "metadata": {
    "id": "6u1DGKsAlLF-"
   },
   "outputs": [],
   "source": [
    "from utils import *\n",
    "from usad import *\n",
    "\n",
    "import numpy as np\n",
    "import pandas as pd\n",
    "import matplotlib.pyplot as plt\n",
    "import seaborn as sns\n",
    "import tensorflow as tf\n",
    "\n",
    "tf.enable_eager_execution()"
   ]
  },
  {
   "cell_type": "code",
   "execution_count": null,
   "metadata": {},
   "outputs": [],
   "source": []
  },
  {
   "cell_type": "markdown",
   "metadata": {
    "id": "1crx5rGP9ONf"
   },
   "source": [
    "## EDA - Data Pre-Processing"
   ]
  },
  {
   "cell_type": "markdown",
   "metadata": {
    "id": "kfSj4FYL9W8Y"
   },
   "source": [
    "### Normal period"
   ]
  },
  {
   "cell_type": "code",
   "execution_count": 2,
   "metadata": {
    "colab": {
     "base_uri": "https://localhost:8080/",
     "height": 87
    },
    "id": "XeDLxV_r1G9n",
    "outputId": "576538dd-64f2-46fa-8e6f-6c2ffdebad15"
   },
   "outputs": [],
   "source": [
    "data_path = \"C:\\\\Users\\\\PC\\\\OneDrive\\\\문서\\\\GitHub\\\\datasets\\\\\"\n",
    "\n",
    "#Read data\n",
    "#data1_1 = pd.read_csv(data_path + \"Bearing1_1.csv_wavelet_result.csv\", usecols=['cD3', 'cD3.1'])\n",
    "#data1_3 = pd.read_csv(data_path + \"Bearing1_3.csv_wavelet_result.csv\", usecols=['cD3', 'cD3.1'])\n",
    "\n",
    "data1_1 = pd.read_csv(data_path + \"Bearing1_1.csv\")\n",
    "data1_3 = pd.read_csv(data_path + \"Bearing1_3.csv\")"
   ]
  },
  {
   "cell_type": "code",
   "execution_count": 3,
   "metadata": {},
   "outputs": [
    {
     "data": {
      "text/html": [
       "<div>\n",
       "<style scoped>\n",
       "    .dataframe tbody tr th:only-of-type {\n",
       "        vertical-align: middle;\n",
       "    }\n",
       "\n",
       "    .dataframe tbody tr th {\n",
       "        vertical-align: top;\n",
       "    }\n",
       "\n",
       "    .dataframe thead th {\n",
       "        text-align: right;\n",
       "    }\n",
       "</style>\n",
       "<table border=\"1\" class=\"dataframe\">\n",
       "  <thead>\n",
       "    <tr style=\"text-align: right;\">\n",
       "      <th></th>\n",
       "      <th>Horiz</th>\n",
       "      <th>Verti</th>\n",
       "    </tr>\n",
       "  </thead>\n",
       "  <tbody>\n",
       "    <tr>\n",
       "      <th>0</th>\n",
       "      <td>2.908484</td>\n",
       "      <td>1.458611</td>\n",
       "    </tr>\n",
       "    <tr>\n",
       "      <th>1</th>\n",
       "      <td>2.651959</td>\n",
       "      <td>1.457905</td>\n",
       "    </tr>\n",
       "    <tr>\n",
       "      <th>2</th>\n",
       "      <td>2.621243</td>\n",
       "      <td>1.364296</td>\n",
       "    </tr>\n",
       "    <tr>\n",
       "      <th>3</th>\n",
       "      <td>2.602309</td>\n",
       "      <td>1.617538</td>\n",
       "    </tr>\n",
       "    <tr>\n",
       "      <th>4</th>\n",
       "      <td>2.035000</td>\n",
       "      <td>1.228749</td>\n",
       "    </tr>\n",
       "  </tbody>\n",
       "</table>\n",
       "</div>"
      ],
      "text/plain": [
       "      Horiz     Verti\n",
       "0  2.908484  1.458611\n",
       "1  2.651959  1.457905\n",
       "2  2.621243  1.364296\n",
       "3  2.602309  1.617538\n",
       "4  2.035000  1.228749"
      ]
     },
     "execution_count": 3,
     "metadata": {},
     "output_type": "execute_result"
    }
   ],
   "source": [
    "data1_1.head()"
   ]
  },
  {
   "cell_type": "code",
   "execution_count": 4,
   "metadata": {},
   "outputs": [
    {
     "data": {
      "text/plain": [
       "(2778, 2)"
      ]
     },
     "execution_count": 4,
     "metadata": {},
     "output_type": "execute_result"
    }
   ],
   "source": [
    "data1_1.shape"
   ]
  },
  {
   "cell_type": "code",
   "execution_count": null,
   "metadata": {},
   "outputs": [],
   "source": []
  },
  {
   "cell_type": "markdown",
   "metadata": {
    "id": "zxFNH5kU9hIE"
   },
   "source": [
    "#### Normalization"
   ]
  },
  {
   "cell_type": "code",
   "execution_count": 5,
   "metadata": {
    "id": "Mfxj4Uxn9kv4"
   },
   "outputs": [],
   "source": [
    "from sklearn import preprocessing\n",
    "min_max_scaler = preprocessing.MinMaxScaler()\n",
    "\n",
    "x = data1_1.values\n",
    "x_scaled = min_max_scaler.fit_transform(x)\n",
    "scaled_data = pd.DataFrame(x_scaled)"
   ]
  },
  {
   "cell_type": "code",
   "execution_count": 6,
   "metadata": {
    "colab": {
     "base_uri": "https://localhost:8080/",
     "height": 126
    },
    "id": "mQ6_U4jn9nlw",
    "outputId": "f1cc1bd6-f1cc-4764-b1cc-2fd989ac4918"
   },
   "outputs": [
    {
     "data": {
      "text/html": [
       "<div>\n",
       "<style scoped>\n",
       "    .dataframe tbody tr th:only-of-type {\n",
       "        vertical-align: middle;\n",
       "    }\n",
       "\n",
       "    .dataframe tbody tr th {\n",
       "        vertical-align: top;\n",
       "    }\n",
       "\n",
       "    .dataframe thead th {\n",
       "        text-align: right;\n",
       "    }\n",
       "</style>\n",
       "<table border=\"1\" class=\"dataframe\">\n",
       "  <thead>\n",
       "    <tr style=\"text-align: right;\">\n",
       "      <th></th>\n",
       "      <th>0</th>\n",
       "      <th>1</th>\n",
       "    </tr>\n",
       "  </thead>\n",
       "  <tbody>\n",
       "    <tr>\n",
       "      <th>0</th>\n",
       "      <td>0.031524</td>\n",
       "      <td>0.018592</td>\n",
       "    </tr>\n",
       "    <tr>\n",
       "      <th>1</th>\n",
       "      <td>0.026699</td>\n",
       "      <td>0.018578</td>\n",
       "    </tr>\n",
       "  </tbody>\n",
       "</table>\n",
       "</div>"
      ],
      "text/plain": [
       "          0         1\n",
       "0  0.031524  0.018592\n",
       "1  0.026699  0.018578"
      ]
     },
     "execution_count": 6,
     "metadata": {},
     "output_type": "execute_result"
    }
   ],
   "source": [
    "scaled_data.head(2)"
   ]
  },
  {
   "cell_type": "code",
   "execution_count": null,
   "metadata": {},
   "outputs": [],
   "source": []
  },
  {
   "cell_type": "markdown",
   "metadata": {
    "id": "xXJi503b-j_d"
   },
   "source": [
    "### Windows"
   ]
  },
  {
   "cell_type": "code",
   "execution_count": 7,
   "metadata": {
    "id": "vyplttZa-BRN"
   },
   "outputs": [],
   "source": [
    "window_size=12"
   ]
  },
  {
   "cell_type": "code",
   "execution_count": 8,
   "metadata": {
    "colab": {
     "base_uri": "https://localhost:8080/",
     "height": 34
    },
    "id": "dzGJMp6Y-BN5",
    "outputId": "2949d278-1313-442c-f06b-275a8c6c6578"
   },
   "outputs": [
    {
     "data": {
      "text/plain": [
       "(2766, 12, 2)"
      ]
     },
     "execution_count": 8,
     "metadata": {},
     "output_type": "execute_result"
    }
   ],
   "source": [
    "windows_normal=scaled_data.values[np.arange(window_size)[None, :] + np.arange(scaled_data.shape[0]-window_size)[:, None]]\n",
    "windows_normal.shape"
   ]
  },
  {
   "cell_type": "code",
   "execution_count": null,
   "metadata": {},
   "outputs": [],
   "source": []
  },
  {
   "cell_type": "markdown",
   "metadata": {
    "id": "k70ZFxGs-_7m"
   },
   "source": [
    "## Training"
   ]
  },
  {
   "cell_type": "code",
   "execution_count": 9,
   "metadata": {},
   "outputs": [],
   "source": [
    "BATCH_SIZE = 32\n",
    "N_EPOCHS = 100\n",
    "hidden_size = 10\n",
    "\n",
    "w_size=windows_normal.shape[1]*windows_normal.shape[2]\n",
    "z_size=windows_normal.shape[1]*hidden_size\n",
    "\n",
    "windows_normal_train = windows_normal[:400]\n",
    "windows_normal_test = windows_normal[400:]"
   ]
  },
  {
   "cell_type": "code",
   "execution_count": 10,
   "metadata": {
    "jupyter": {
     "source_hidden": true
    }
   },
   "outputs": [],
   "source": [
    "from tensorflow.keras.utils import Sequence\n",
    "import math\n",
    "\n",
    "class Dataloader(Sequence):\n",
    "    def __init__(self, x_set, y_set, batch_size, shuffle=False):\n",
    "        self.x, self.y = x_set, y_set\n",
    "        self.batch_size = batch_size\n",
    "        self.shuffle=shuffle\n",
    "        self.on_epoch_end()\n",
    "\n",
    "    def __len__(self):\n",
    "        return math.ceil(len(self.x) / self.batch_size)\n",
    "\n",
    "    # batch 단위로 직접 묶어줘야 함\n",
    "    def __getitem__(self, idx):\n",
    "        # sampler의 역할(index를 batch_size만큼 sampling해줌)\n",
    "        indices = self.indices[idx*self.batch_size:(idx+1)*self.batch_size]\n",
    "\n",
    "        batch_x = [self.x[i] for i in indices]\n",
    "        batch_y = [self.y[i] for i in indices]\n",
    "\n",
    "        return np.array(batch_x), np.array(batch_y)\n",
    "\n",
    "    # epoch이 끝날때마다 실행\n",
    "    def on_epoch_end(self):\n",
    "        self.indices = np.arange(len(self.x))\n",
    "        if self.shuffle == True:\n",
    "            np.random.shuffle(self.indices)"
   ]
  },
  {
   "cell_type": "code",
   "execution_count": 11,
   "metadata": {},
   "outputs": [],
   "source": [
    "windows_normal_train_re = windows_normal_train.reshape(windows_normal_train.shape[0], w_size)\n",
    "windows_normal_test_re = windows_normal_test.reshape(windows_normal_test.shape[0], w_size)\n",
    "windows_normal_re = windows_normal.reshape(windows_normal.shape[0], w_size)"
   ]
  },
  {
   "cell_type": "code",
   "execution_count": 12,
   "metadata": {},
   "outputs": [],
   "source": [
    "train_loader = Dataloader(windows_normal_train_re,windows_normal_train_re,BATCH_SIZE)\n",
    "test_loader = Dataloader(windows_normal_test_re,windows_normal_test_re,BATCH_SIZE)\n",
    "whole_loader = Dataloader(windows_normal_re,windows_normal_re,BATCH_SIZE)"
   ]
  },
  {
   "cell_type": "code",
   "execution_count": null,
   "metadata": {},
   "outputs": [],
   "source": []
  },
  {
   "cell_type": "markdown",
   "metadata": {},
   "source": [
    "* USAD tensorflow"
   ]
  },
  {
   "cell_type": "code",
   "execution_count": 13,
   "metadata": {
    "jupyter": {
     "source_hidden": true
    }
   },
   "outputs": [],
   "source": [
    "class Encoder(tf.keras.Model) :\n",
    "    def __init__(self, in_size, latent_size):\n",
    "        super().__init__()\n",
    "        self.model = tf.keras.Sequential([\n",
    "            tf.keras.Input(shape = (in_size)),\n",
    "            tf.keras.layers.Dense(int(in_size/2), activation = \"relu\"),\n",
    "            tf.keras.layers.Dense(int(in_size/4), activation = \"relu\"),\n",
    "            tf.keras.layers.Dense(latent_size, activation = \"relu\")\n",
    "        ])\n",
    "    \n",
    "    def call(self, x) :\n",
    "        z = self.model(x)\n",
    "        return z\n",
    "    \n",
    "class Decoder(tf.keras.Model) :\n",
    "    def __init__(self, latent_size, out_size):\n",
    "        super().__init__()\n",
    "        self.model = tf.keras.Sequential([\n",
    "            tf.keras.Input(shape = (latent_size)),\n",
    "            tf.keras.layers.Dense(int(out_size/4), activation = \"relu\"),\n",
    "            tf.keras.layers.Dense(int(out_size/2), activation = \"relu\"),\n",
    "            tf.keras.layers.Dense(out_size, activation = \"sigmoid\")\n",
    "        ])\n",
    "    \n",
    "    def call(self, x) :\n",
    "        w = self.model(x)\n",
    "        return w\n",
    "    \n",
    "class UsadModel(tf.keras.Model):\n",
    "    def __init__(self, w_size, z_size, alpha = .5, beta = .5):\n",
    "        super().__init__()\n",
    "        self.encoder = Encoder(w_size, z_size)\n",
    "        self.decoder1 = Decoder(z_size, w_size)\n",
    "        self.decoder2 = Decoder(z_size, w_size)\n",
    "        \n",
    "        self.latent_vector = self.encoder(self.encoder.model.inputs)\n",
    "        self.ae_output1 = self.decoder1(self.latent_vector)\n",
    "        self.ae_output2 = self.decoder2(self.latent_vector)\n",
    "\n",
    "        self.ae_model1 = tf.keras.Model(inputs = self.encoder.model.inputs, outputs = self.ae_output1)\n",
    "        self.ae_model2 = tf.keras.Model(inputs = self.encoder.model.inputs, outputs = self.ae_output2)\n",
    "        \n",
    "        self.optimizer = tf.keras.optimizers.Adam()\n",
    "        \n",
    "        self.alpha, self.beta = alpha, beta\n",
    "        \n",
    "    def evaluate(self, val_loader, n):\n",
    "        outputs = [self.validation_step(batch, n) for batch in val_loader]\n",
    "        return self.validation_epoch_end(outputs)\n",
    "    \n",
    "    def testing(self, test_loader):\n",
    "        results=[]\n",
    "        for batch, _ in test_loader:\n",
    "            w1=self.ae_model1(batch)\n",
    "            w2=self.ae_model2(w1)\n",
    "            results.append(self.alpha*np.mean((batch-w1).numpy()**2, axis = 1)+self.beta*np.mean((batch-w2).numpy()**2, axis = 1))\n",
    "        return results\n",
    "        \n",
    "    def call(self, x):\n",
    "        z = self.encoder(x)\n",
    "        w1 = self.decoder1(z)\n",
    "        w2 = self.decoder2(z)\n",
    "        w3 = self.decoder2(self.encoder(w1))\n",
    "        return w1, w2, w3\n",
    "    \n",
    "    def loss_fn(self, batch, n) :\n",
    "        loss1 = 1/n*tf.reduce_mean(tf.square(batch-self.w1)) + (1-1/n)*tf.reduce_mean(tf.square(batch-self.w3))\n",
    "        loss2 = 1/n*tf.reduce_mean(tf.square(batch-self.w2)) + (1-1/n)*tf.reduce_mean(tf.square(batch-self.w3))\n",
    "        \n",
    "        return loss1, loss2\n",
    "    \n",
    "    def training(self, train_loader, val_loader, num_epochs):\n",
    "        for n in range(num_epochs): \n",
    "            n += 1\n",
    "            \n",
    "            loss1_list, loss2_list = [], []\n",
    "            self.history = []\n",
    "            \n",
    "            # Iterate over the batches of a dataset.\n",
    "            for x_batch_train, y_batch_train in train_loader:\n",
    "                with tf.GradientTape() as ae1_tape, tf.GradientTape() as ae2_tape:\n",
    "                    self.z = self.encoder(x_batch_train)\n",
    "                    self.w1 = self.decoder1(self.z)\n",
    "                    self.w2 = self.decoder2(self.z)\n",
    "                    self.w3 = self.decoder2(self.encoder(self.w1))\n",
    "\n",
    "                    # Loss value for this minibatch\n",
    "                    loss1, loss2 = self.loss_fn(x_batch_train, n)\n",
    "                    \n",
    "                    # Add extra losses created during this forward pass:\n",
    "                    #loss_value += sum(model.losses)\n",
    "\n",
    "                grads_ae1 = ae1_tape.gradient(loss1, self.ae_model1.trainable_weights)\n",
    "                self.optimizer.apply_gradients(zip(grads_ae1, self.ae_model1.trainable_weights))\n",
    "                grads_ae2 = ae2_tape.gradient(loss2, self.ae_model2.trainable_weights)\n",
    "                self.optimizer.apply_gradients(zip(grads_ae2, self.ae_model2.trainable_weights))\n",
    "                loss1_list.append(loss1)\n",
    "                loss2_list.append(loss2)\n",
    "                \n",
    "            #print(\"Epoch [{}], train_loss1: {:.4f}, train_loss2: {:.4f}\".format(n, np.mean(loss1_list), np.mean(loss2_list)))\n",
    "            result = self.evaluate(val_loader, n)\n",
    "            self.epoch_end(n, result)\n",
    "            self.history.append(result)\n",
    "            \n",
    "    def validation_step(self, batch, n):\n",
    "        z = self.encoder(batch)\n",
    "        w1 = self.decoder1(z)\n",
    "        w2 = self.decoder2(z)\n",
    "        w3 = self.decoder2(self.encoder(w1))\n",
    "        loss1 = 1/n*tf.reduce_mean(tf.square(batch-w1)) + (1-1/n)*tf.reduce_mean(tf.square(batch-w3))\n",
    "        loss2 = 1/n*tf.reduce_mean(tf.square(batch-w2)) + (1-1/n)*tf.reduce_mean(tf.square(batch-w3))\n",
    "        \n",
    "        return {'val_loss1': loss1, 'val_loss2': loss2}\n",
    "    \n",
    "    def validation_epoch_end(self, outputs):\n",
    "        batch_losses1 = [x['val_loss1'] for x in outputs]\n",
    "        epoch_loss1 = tf.reduce_mean(batch_losses1)\n",
    "        batch_losses2 = [x['val_loss2'] for x in outputs]\n",
    "        epoch_loss2 = tf.reduce_mean(batch_losses2)\n",
    "        return {'val_loss1': epoch_loss1.numpy(), 'val_loss2': epoch_loss2.numpy()}\n",
    "    \n",
    "    def epoch_end(self, epoch, result):\n",
    "        print(\"Epoch [{}], val_loss1: {:.4f}, val_loss2: {:.4f}\".format(epoch, result['val_loss1'], result['val_loss2']))"
   ]
  },
  {
   "cell_type": "code",
   "execution_count": 14,
   "metadata": {
    "collapsed": true,
    "jupyter": {
     "outputs_hidden": true
    }
   },
   "outputs": [
    {
     "name": "stdout",
     "output_type": "stream",
     "text": [
      "WARNING:tensorflow:Entity <bound method Encoder.call of <__main__.Encoder object at 0x00000204CBB0D588>> could not be transformed and will be executed as-is. Please report this to the AutoGraph team. When filing the bug, set the verbosity to 10 (on Linux, `export AUTOGRAPH_VERBOSITY=10`) and attach the full output. Cause: Bad argument number for Name: 3, expecting 4\n",
      "WARNING: Entity <bound method Encoder.call of <__main__.Encoder object at 0x00000204CBB0D588>> could not be transformed and will be executed as-is. Please report this to the AutoGraph team. When filing the bug, set the verbosity to 10 (on Linux, `export AUTOGRAPH_VERBOSITY=10`) and attach the full output. Cause: Bad argument number for Name: 3, expecting 4\n",
      "WARNING:tensorflow:Entity <bound method Decoder.call of <__main__.Decoder object at 0x00000204CBB55848>> could not be transformed and will be executed as-is. Please report this to the AutoGraph team. When filing the bug, set the verbosity to 10 (on Linux, `export AUTOGRAPH_VERBOSITY=10`) and attach the full output. Cause: Bad argument number for Name: 3, expecting 4\n",
      "WARNING: Entity <bound method Decoder.call of <__main__.Decoder object at 0x00000204CBB55848>> could not be transformed and will be executed as-is. Please report this to the AutoGraph team. When filing the bug, set the verbosity to 10 (on Linux, `export AUTOGRAPH_VERBOSITY=10`) and attach the full output. Cause: Bad argument number for Name: 3, expecting 4\n",
      "WARNING:tensorflow:Entity <bound method Decoder.call of <__main__.Decoder object at 0x00000204CBB4B6C8>> could not be transformed and will be executed as-is. Please report this to the AutoGraph team. When filing the bug, set the verbosity to 10 (on Linux, `export AUTOGRAPH_VERBOSITY=10`) and attach the full output. Cause: Bad argument number for Name: 3, expecting 4\n",
      "WARNING: Entity <bound method Decoder.call of <__main__.Decoder object at 0x00000204CBB4B6C8>> could not be transformed and will be executed as-is. Please report this to the AutoGraph team. When filing the bug, set the verbosity to 10 (on Linux, `export AUTOGRAPH_VERBOSITY=10`) and attach the full output. Cause: Bad argument number for Name: 3, expecting 4\n",
      "Epoch [1], val_loss1: 0.2214, val_loss2: 0.2171\n",
      "Epoch [2], val_loss1: 0.1896, val_loss2: 0.1803\n",
      "Epoch [3], val_loss1: 0.1391, val_loss2: 0.1237\n",
      "Epoch [4], val_loss1: 0.0843, val_loss2: 0.0657\n",
      "Epoch [5], val_loss1: 0.0433, val_loss2: 0.0255\n",
      "Epoch [6], val_loss1: 0.0259, val_loss2: 0.0121\n",
      "Epoch [7], val_loss1: 0.0163, val_loss2: 0.0081\n",
      "Epoch [8], val_loss1: 0.0098, val_loss2: 0.0061\n",
      "Epoch [9], val_loss1: 0.0060, val_loss2: 0.0049\n",
      "Epoch [10], val_loss1: 0.0047, val_loss2: 0.0045\n",
      "Epoch [11], val_loss1: 0.0042, val_loss2: 0.0042\n",
      "Epoch [12], val_loss1: 0.0041, val_loss2: 0.0040\n",
      "Epoch [13], val_loss1: 0.0040, val_loss2: 0.0040\n",
      "Epoch [14], val_loss1: 0.0040, val_loss2: 0.0040\n",
      "Epoch [15], val_loss1: 0.0040, val_loss2: 0.0040\n",
      "Epoch [16], val_loss1: 0.0040, val_loss2: 0.0040\n",
      "Epoch [17], val_loss1: 0.0041, val_loss2: 0.0040\n",
      "Epoch [18], val_loss1: 0.0041, val_loss2: 0.0040\n",
      "Epoch [19], val_loss1: 0.0041, val_loss2: 0.0041\n",
      "Epoch [20], val_loss1: 0.0041, val_loss2: 0.0041\n",
      "Epoch [21], val_loss1: 0.0042, val_loss2: 0.0041\n",
      "Epoch [22], val_loss1: 0.0042, val_loss2: 0.0042\n",
      "Epoch [23], val_loss1: 0.0042, val_loss2: 0.0042\n",
      "Epoch [24], val_loss1: 0.0042, val_loss2: 0.0042\n",
      "Epoch [25], val_loss1: 0.0042, val_loss2: 0.0042\n",
      "Epoch [26], val_loss1: 0.0042, val_loss2: 0.0042\n",
      "Epoch [27], val_loss1: 0.0042, val_loss2: 0.0042\n",
      "Epoch [28], val_loss1: 0.0042, val_loss2: 0.0042\n",
      "Epoch [29], val_loss1: 0.0043, val_loss2: 0.0042\n",
      "Epoch [30], val_loss1: 0.0043, val_loss2: 0.0043\n",
      "Epoch [31], val_loss1: 0.0043, val_loss2: 0.0043\n",
      "Epoch [32], val_loss1: 0.0043, val_loss2: 0.0043\n",
      "Epoch [33], val_loss1: 0.0043, val_loss2: 0.0043\n",
      "Epoch [34], val_loss1: 0.0043, val_loss2: 0.0043\n",
      "Epoch [35], val_loss1: 0.0043, val_loss2: 0.0043\n",
      "Epoch [36], val_loss1: 0.0043, val_loss2: 0.0043\n",
      "Epoch [37], val_loss1: 0.0043, val_loss2: 0.0043\n",
      "Epoch [38], val_loss1: 0.0043, val_loss2: 0.0043\n",
      "Epoch [39], val_loss1: 0.0043, val_loss2: 0.0043\n",
      "Epoch [40], val_loss1: 0.0043, val_loss2: 0.0043\n",
      "Epoch [41], val_loss1: 0.0043, val_loss2: 0.0043\n",
      "Epoch [42], val_loss1: 0.0043, val_loss2: 0.0043\n",
      "Epoch [43], val_loss1: 0.0043, val_loss2: 0.0043\n",
      "Epoch [44], val_loss1: 0.0043, val_loss2: 0.0043\n",
      "Epoch [45], val_loss1: 0.0043, val_loss2: 0.0043\n",
      "Epoch [46], val_loss1: 0.0043, val_loss2: 0.0043\n",
      "Epoch [47], val_loss1: 0.0043, val_loss2: 0.0043\n",
      "Epoch [48], val_loss1: 0.0043, val_loss2: 0.0043\n",
      "Epoch [49], val_loss1: 0.0043, val_loss2: 0.0043\n",
      "Epoch [50], val_loss1: 0.0043, val_loss2: 0.0043\n",
      "Epoch [51], val_loss1: 0.0043, val_loss2: 0.0043\n",
      "Epoch [52], val_loss1: 0.0043, val_loss2: 0.0043\n",
      "Epoch [53], val_loss1: 0.0043, val_loss2: 0.0043\n",
      "Epoch [54], val_loss1: 0.0043, val_loss2: 0.0043\n",
      "Epoch [55], val_loss1: 0.0043, val_loss2: 0.0042\n",
      "Epoch [56], val_loss1: 0.0042, val_loss2: 0.0042\n",
      "Epoch [57], val_loss1: 0.0042, val_loss2: 0.0042\n",
      "Epoch [58], val_loss1: 0.0042, val_loss2: 0.0042\n",
      "Epoch [59], val_loss1: 0.0042, val_loss2: 0.0042\n",
      "Epoch [60], val_loss1: 0.0042, val_loss2: 0.0042\n",
      "Epoch [61], val_loss1: 0.0042, val_loss2: 0.0042\n",
      "Epoch [62], val_loss1: 0.0042, val_loss2: 0.0042\n",
      "Epoch [63], val_loss1: 0.0042, val_loss2: 0.0042\n",
      "Epoch [64], val_loss1: 0.0042, val_loss2: 0.0042\n",
      "Epoch [65], val_loss1: 0.0042, val_loss2: 0.0042\n",
      "Epoch [66], val_loss1: 0.0042, val_loss2: 0.0042\n",
      "Epoch [67], val_loss1: 0.0042, val_loss2: 0.0042\n",
      "Epoch [68], val_loss1: 0.0042, val_loss2: 0.0042\n",
      "Epoch [69], val_loss1: 0.0042, val_loss2: 0.0042\n",
      "Epoch [70], val_loss1: 0.0042, val_loss2: 0.0042\n",
      "Epoch [71], val_loss1: 0.0042, val_loss2: 0.0042\n",
      "Epoch [72], val_loss1: 0.0042, val_loss2: 0.0042\n",
      "Epoch [73], val_loss1: 0.0042, val_loss2: 0.0042\n",
      "Epoch [74], val_loss1: 0.0042, val_loss2: 0.0042\n",
      "Epoch [75], val_loss1: 0.0042, val_loss2: 0.0042\n",
      "Epoch [76], val_loss1: 0.0042, val_loss2: 0.0042\n",
      "Epoch [77], val_loss1: 0.0042, val_loss2: 0.0042\n",
      "Epoch [78], val_loss1: 0.0042, val_loss2: 0.0042\n",
      "Epoch [79], val_loss1: 0.0042, val_loss2: 0.0042\n",
      "Epoch [80], val_loss1: 0.0042, val_loss2: 0.0042\n",
      "Epoch [81], val_loss1: 0.0042, val_loss2: 0.0042\n",
      "Epoch [82], val_loss1: 0.0042, val_loss2: 0.0042\n",
      "Epoch [83], val_loss1: 0.0042, val_loss2: 0.0042\n",
      "Epoch [84], val_loss1: 0.0042, val_loss2: 0.0042\n",
      "Epoch [85], val_loss1: 0.0042, val_loss2: 0.0042\n",
      "Epoch [86], val_loss1: 0.0042, val_loss2: 0.0041\n",
      "Epoch [87], val_loss1: 0.0041, val_loss2: 0.0041\n",
      "Epoch [88], val_loss1: 0.0041, val_loss2: 0.0041\n",
      "Epoch [89], val_loss1: 0.0041, val_loss2: 0.0041\n",
      "Epoch [90], val_loss1: 0.0041, val_loss2: 0.0041\n",
      "Epoch [91], val_loss1: 0.0041, val_loss2: 0.0041\n",
      "Epoch [92], val_loss1: 0.0041, val_loss2: 0.0041\n",
      "Epoch [93], val_loss1: 0.0041, val_loss2: 0.0041\n",
      "Epoch [94], val_loss1: 0.0041, val_loss2: 0.0041\n",
      "Epoch [95], val_loss1: 0.0041, val_loss2: 0.0041\n",
      "Epoch [96], val_loss1: 0.0041, val_loss2: 0.0041\n",
      "Epoch [97], val_loss1: 0.0041, val_loss2: 0.0041\n",
      "Epoch [98], val_loss1: 0.0041, val_loss2: 0.0041\n",
      "Epoch [99], val_loss1: 0.0041, val_loss2: 0.0041\n",
      "Epoch [100], val_loss1: 0.0041, val_loss2: 0.0041\n"
     ]
    }
   ],
   "source": [
    "model_usad = UsadModel(w_size, z_size)\n",
    "model_usad.training(train_loader, test_loader, N_EPOCHS)"
   ]
  },
  {
   "cell_type": "code",
   "execution_count": 15,
   "metadata": {},
   "outputs": [],
   "source": [
    "a = model_usad.testing(whole_loader)\n",
    "a = np.concatenate([np.stack(a[:-1]).flatten(), a[-1].flatten()])\n",
    "b = model_usad.testing(train_loader)\n",
    "b = np.concatenate([np.stack(b[:-1]).flatten(), b[-1].flatten()])"
   ]
  },
  {
   "cell_type": "code",
   "execution_count": 16,
   "metadata": {},
   "outputs": [
    {
     "data": {
      "image/png": "[encoded data removed]",
      "text/plain": [
       "<Figure size 432x288 with 1 Axes>"
      ]
     },
     "metadata": {
      "needs_background": "light"
     },
     "output_type": "display_data"
    }
   ],
   "source": [
    "from matplotlib import pyplot as plt\n",
    "\n",
    "plt.plot([x for x in range(a.shape[0])], a)\n",
    "plt.axhline(y=b.mean() + 5 * b.std(), color='r', linewidth=1)\n",
    "plt.title('Anomaly Detection')\n",
    "plt.xlabel('Time')\n",
    "plt.ylabel('Anomaly Score')\n",
    "plt.show()"
   ]
  },
  {
   "cell_type": "code",
   "execution_count": 17,
   "metadata": {},
   "outputs": [
    {
     "data": {
      "text/plain": [
       "0.00023435933144355658"
      ]
     },
     "execution_count": 17,
     "metadata": {},
     "output_type": "execute_result"
    }
   ],
   "source": [
    "b.mean() + 5 * b.std()"
   ]
  },
  {
   "cell_type": "code",
   "execution_count": 18,
   "metadata": {},
   "outputs": [
    {
     "data": {
      "text/plain": [
       "1895"
      ]
     },
     "execution_count": 18,
     "metadata": {},
     "output_type": "execute_result"
    }
   ],
   "source": [
    "start_idx = np.max(np.where(a < b.mean() + 5 * b.std())[0]); start_idx"
   ]
  },
  {
   "cell_type": "code",
   "execution_count": 20,
   "metadata": {},
   "outputs": [
    {
     "data": {
      "text/plain": [
       "(705,)"
      ]
     },
     "execution_count": 20,
     "metadata": {},
     "output_type": "execute_result"
    }
   ],
   "source": [
    "a_ = a[:1895]\n",
    "np.where(a_ > b.mean() + 5 * b.std())[0].shape"
   ]
  },
  {
   "cell_type": "code",
   "execution_count": null,
   "metadata": {},
   "outputs": [],
   "source": []
  },
  {
   "cell_type": "markdown",
   "metadata": {},
   "source": [
    "## Anomaly gap maximize net\n",
    "\n",
    "* 제안 아이디어 검증"
   ]
  },
  {
   "cell_type": "code",
   "execution_count": 21,
   "metadata": {
    "jupyter": {
     "source_hidden": true
    }
   },
   "outputs": [],
   "source": [
    "class UsadModel_AGM(tf.keras.Model):\n",
    "    def __init__(self, w_size, z_size, alpha = .5, beta = .5):\n",
    "        super().__init__()\n",
    "        self.encoder = Encoder(w_size, z_size)\n",
    "        self.decoder1 = Decoder(z_size, w_size)\n",
    "        self.decoder2 = Decoder(z_size, w_size)\n",
    "        \n",
    "        self.latent_vector = self.encoder(self.encoder.model.inputs)\n",
    "        self.ae_output1 = self.decoder1(self.latent_vector)\n",
    "        self.ae_output2 = self.decoder2(self.latent_vector)\n",
    "\n",
    "        self.ae_model1 = tf.keras.Model(inputs = self.encoder.model.inputs, outputs = self.ae_output1)\n",
    "        self.ae_model2 = tf.keras.Model(inputs = self.encoder.model.inputs, outputs = self.ae_output2)\n",
    "        \n",
    "        self.optimizer = tf.keras.optimizers.Adam()\n",
    "        \n",
    "        self.alpha, self.beta = alpha, beta\n",
    "        \n",
    "    def evaluate(self, val_loader, n):\n",
    "        outputs = [self.validation_step(batch, n) for batch in val_loader]\n",
    "        return self.validation_epoch_end(outputs)\n",
    "\n",
    "    def testing(self, test_loader):\n",
    "        results=[]\n",
    "        for batch, _ in test_loader:\n",
    "            w1=self.ae_model1(batch)\n",
    "            w2=self.ae_model2(w1)\n",
    "            results.append(self.alpha*np.mean((batch-w1).numpy()**2, axis = 1)+self.beta*np.mean((batch-w2).numpy()**2, axis = 1))\n",
    "        return results\n",
    "        \n",
    "    def call(self, x):\n",
    "        z = self.encoder(x)\n",
    "        w1 = self.decoder1(z)\n",
    "        w2 = self.decoder2(z)\n",
    "        w3 = self.decoder2(self.encoder(w1))\n",
    "        return w1, w2, w3\n",
    "    \n",
    "    def loss_fn(self, batch, n) :\n",
    "        loss1 = 1/n*tf.reduce_mean(tf.square(batch-self.w1)) + (1-1/n)*tf.reduce_mean(tf.square(batch-self.w3))\n",
    "        loss2 = 1/n*tf.reduce_mean(tf.square(batch-self.w2)) + (1-1/n)*tf.reduce_mean(tf.square(batch-self.w3))\n",
    "        \n",
    "        return loss1, loss2\n",
    "    \n",
    "    def training(self, train_loader, val_loader, num_epochs):\n",
    "        self.history = []\n",
    "        \n",
    "        for n in range(num_epochs): \n",
    "            n += 1\n",
    "            \n",
    "            loss1_list, loss2_list, loss3_list = [], [], []\n",
    "            \n",
    "            # Iterate over the batches of a dataset.\n",
    "            for x_batch_train, y_batch_train in train_loader:\n",
    "                with tf.GradientTape() as ae1_tape, tf.GradientTape() as ae2_tape, tf.GradientTape() as pg_tape:\n",
    "                    self.z = self.encoder(x_batch_train)\n",
    "                    self.w1 = self.decoder1(self.z)\n",
    "                    self.w2 = self.decoder2(self.z)\n",
    "                    self.w3 = self.decoder2(self.encoder(self.w1))\n",
    "                    \n",
    "                    real_recon1 = x_batch_train-self.w1\n",
    "                    real_recon2 = x_batch_train-self.w2\n",
    "                    fake_recon = x_batch_train-self.w3\n",
    "\n",
    "                    # Loss value for this minibatch\n",
    "                    loss1, loss2 = self.loss_fn(x_batch_train, n)\n",
    "                    \n",
    "                    pg_advantage = tf.stop_gradient(tf.reduce_mean(tf.square(fake_recon))-tf.reduce_mean(tf.square(real_recon2)))\n",
    "                    loss3 = -tf.reduce_mean(tf.math.log(self.w3+1e-6) * pg_advantage)\n",
    "        \n",
    "                    \n",
    "                    # Add extra losses created during this forward pass:\n",
    "                    #loss_value += sum(model.losses)\n",
    "\n",
    "                grads_ae1 = ae1_tape.gradient(loss1, self.ae_model1.trainable_weights)\n",
    "                self.optimizer.apply_gradients(zip(grads_ae1, self.ae_model1.trainable_weights))\n",
    "                grads_ae2 = ae2_tape.gradient(loss2, self.ae_model2.trainable_weights)\n",
    "                self.optimizer.apply_gradients(zip(grads_ae2, self.ae_model2.trainable_weights))\n",
    "                grads_ae3 = pg_tape.gradient(loss3, self.ae_model2.trainable_weights)\n",
    "                self.optimizer.apply_gradients(zip(grads_ae3, self.ae_model2.trainable_weights))\n",
    "                \n",
    "                loss1_list.append(loss1)\n",
    "                loss2_list.append(loss2)\n",
    "                loss3_list.append(loss3)\n",
    "                \n",
    "            result = self.evaluate(val_loader, n)\n",
    "            self.epoch_end(n, result)\n",
    "            self.history.append(result)\n",
    "                \n",
    "            #print(\"Epoch [{}], train_loss1: {:.4f}, train_loss2: {:.4f}, train_loss3: {:.4f}\".format(n, np.mean(loss1_list), np.mean(loss2_list), np.mean(loss3_list)))\n",
    "            \n",
    "    def validation_step(self, batch, n):\n",
    "        z = self.encoder(batch)\n",
    "        w1 = self.decoder1(z)\n",
    "        w2 = self.decoder2(z)\n",
    "        w3 = self.decoder2(self.encoder(w1))\n",
    "        \n",
    "        real_recon1 = batch-w1\n",
    "        real_recon2 = batch-w2\n",
    "        fake_recon = batch-w3\n",
    "                \n",
    "        loss1 = 1/n*tf.reduce_mean(tf.square(batch-w1)) + (1-1/n)*tf.reduce_mean(tf.square(batch-w3))\n",
    "        loss2 = 1/n*tf.reduce_mean(tf.square(batch-w2)) + (1-1/n)*tf.reduce_mean(tf.square(batch-w3))\n",
    "        \n",
    "        pg_advantage = tf.reduce_mean(tf.square(fake_recon))-tf.reduce_mean(tf.square(real_recon2))\n",
    "        loss3 = -tf.reduce_mean(tf.math.log(w3+1e-6) * pg_advantage)\n",
    "        \n",
    "        return {'val_loss1': loss1, 'val_loss2': loss2, 'val_loss3': loss3}\n",
    "    \n",
    "    def validation_epoch_end(self, outputs):\n",
    "        batch_losses1 = [x['val_loss1'] for x in outputs]\n",
    "        epoch_loss1 = tf.reduce_mean(batch_losses1)\n",
    "        batch_losses2 = [x['val_loss2'] for x in outputs]\n",
    "        epoch_loss2 = tf.reduce_mean(batch_losses2)\n",
    "        batch_losses3 = [x['val_loss3'] for x in outputs]\n",
    "        epoch_loss3 = tf.reduce_mean(batch_losses3)\n",
    "        return {'val_loss1': epoch_loss1.numpy(), 'val_loss2': epoch_loss2.numpy(), 'val_loss3': epoch_loss3.numpy()}\n",
    "    \n",
    "    def epoch_end(self, epoch, result):\n",
    "        print(\"Epoch [{}], val_loss1: {:.4f}, val_loss2: {:.4f}, val_loss2: {:.4f}\".format(epoch, result['val_loss1'], result['val_loss2'], result['val_loss3']))"
   ]
  },
  {
   "cell_type": "code",
   "execution_count": 22,
   "metadata": {
    "collapsed": true,
    "jupyter": {
     "outputs_hidden": true
    }
   },
   "outputs": [
    {
     "name": "stdout",
     "output_type": "stream",
     "text": [
      "WARNING:tensorflow:Entity <bound method Encoder.call of <__main__.Encoder object at 0x00000204D0381B08>> could not be transformed and will be executed as-is. Please report this to the AutoGraph team. When filing the bug, set the verbosity to 10 (on Linux, `export AUTOGRAPH_VERBOSITY=10`) and attach the full output. Cause: Bad argument number for Name: 3, expecting 4\n",
      "WARNING: Entity <bound method Encoder.call of <__main__.Encoder object at 0x00000204D0381B08>> could not be transformed and will be executed as-is. Please report this to the AutoGraph team. When filing the bug, set the verbosity to 10 (on Linux, `export AUTOGRAPH_VERBOSITY=10`) and attach the full output. Cause: Bad argument number for Name: 3, expecting 4\n",
      "WARNING:tensorflow:Entity <bound method Decoder.call of <__main__.Decoder object at 0x00000204CDF717C8>> could not be transformed and will be executed as-is. Please report this to the AutoGraph team. When filing the bug, set the verbosity to 10 (on Linux, `export AUTOGRAPH_VERBOSITY=10`) and attach the full output. Cause: Bad argument number for Name: 3, expecting 4\n",
      "WARNING: Entity <bound method Decoder.call of <__main__.Decoder object at 0x00000204CDF717C8>> could not be transformed and will be executed as-is. Please report this to the AutoGraph team. When filing the bug, set the verbosity to 10 (on Linux, `export AUTOGRAPH_VERBOSITY=10`) and attach the full output. Cause: Bad argument number for Name: 3, expecting 4\n",
      "WARNING:tensorflow:Entity <bound method Decoder.call of <__main__.Decoder object at 0x00000204D033C148>> could not be transformed and will be executed as-is. Please report this to the AutoGraph team. When filing the bug, set the verbosity to 10 (on Linux, `export AUTOGRAPH_VERBOSITY=10`) and attach the full output. Cause: Bad argument number for Name: 3, expecting 4\n",
      "WARNING: Entity <bound method Decoder.call of <__main__.Decoder object at 0x00000204D033C148>> could not be transformed and will be executed as-is. Please report this to the AutoGraph team. When filing the bug, set the verbosity to 10 (on Linux, `export AUTOGRAPH_VERBOSITY=10`) and attach the full output. Cause: Bad argument number for Name: 3, expecting 4\n"
     ]
    }
   ],
   "source": [
    "usad_agm = UsadModel_AGM(w_size,z_size)"
   ]
  },
  {
   "cell_type": "code",
   "execution_count": 23,
   "metadata": {
    "collapsed": true,
    "jupyter": {
     "outputs_hidden": true
    }
   },
   "outputs": [
    {
     "name": "stdout",
     "output_type": "stream",
     "text": [
      "Epoch [1], val_loss1: 0.2208, val_loss2: 0.2198, val_loss2: -0.0002\n",
      "Epoch [2], val_loss1: 0.2010, val_loss2: 0.1972, val_loss2: -0.0125\n",
      "Epoch [3], val_loss1: 0.1459, val_loss2: 0.1322, val_loss2: -0.0470\n",
      "Epoch [4], val_loss1: 0.0804, val_loss2: 0.0627, val_loss2: -0.0721\n",
      "Epoch [5], val_loss1: 0.0240, val_loss2: 0.0087, val_loss2: -0.1207\n",
      "Epoch [6], val_loss1: 0.0145, val_loss2: 0.0055, val_loss2: -0.0313\n",
      "Epoch [7], val_loss1: 0.0095, val_loss2: 0.0053, val_loss2: -0.0164\n",
      "Epoch [8], val_loss1: 0.0069, val_loss2: 0.0051, val_loss2: -0.0116\n",
      "Epoch [9], val_loss1: 0.0057, val_loss2: 0.0049, val_loss2: -0.0086\n",
      "Epoch [10], val_loss1: 0.0053, val_loss2: 0.0049, val_loss2: -0.0061\n",
      "Epoch [11], val_loss1: 0.0051, val_loss2: 0.0050, val_loss2: -0.0043\n",
      "Epoch [12], val_loss1: 0.0051, val_loss2: 0.0050, val_loss2: -0.0032\n",
      "Epoch [13], val_loss1: 0.0050, val_loss2: 0.0050, val_loss2: -0.0025\n",
      "Epoch [14], val_loss1: 0.0050, val_loss2: 0.0050, val_loss2: -0.0022\n",
      "Epoch [15], val_loss1: 0.0050, val_loss2: 0.0050, val_loss2: -0.0019\n",
      "Epoch [16], val_loss1: 0.0051, val_loss2: 0.0051, val_loss2: -0.0018\n",
      "Epoch [17], val_loss1: 0.0051, val_loss2: 0.0051, val_loss2: -0.0016\n",
      "Epoch [18], val_loss1: 0.0051, val_loss2: 0.0051, val_loss2: -0.0016\n",
      "Epoch [19], val_loss1: 0.0051, val_loss2: 0.0051, val_loss2: -0.0015\n",
      "Epoch [20], val_loss1: 0.0051, val_loss2: 0.0051, val_loss2: -0.0015\n",
      "Epoch [21], val_loss1: 0.0051, val_loss2: 0.0051, val_loss2: -0.0015\n",
      "Epoch [22], val_loss1: 0.0051, val_loss2: 0.0051, val_loss2: -0.0015\n",
      "Epoch [23], val_loss1: 0.0051, val_loss2: 0.0051, val_loss2: -0.0015\n",
      "Epoch [24], val_loss1: 0.0051, val_loss2: 0.0051, val_loss2: -0.0015\n",
      "Epoch [25], val_loss1: 0.0051, val_loss2: 0.0051, val_loss2: -0.0015\n",
      "Epoch [26], val_loss1: 0.0051, val_loss2: 0.0051, val_loss2: -0.0015\n",
      "Epoch [27], val_loss1: 0.0051, val_loss2: 0.0051, val_loss2: -0.0015\n",
      "Epoch [28], val_loss1: 0.0051, val_loss2: 0.0051, val_loss2: -0.0015\n",
      "Epoch [29], val_loss1: 0.0051, val_loss2: 0.0051, val_loss2: -0.0015\n",
      "Epoch [30], val_loss1: 0.0051, val_loss2: 0.0051, val_loss2: -0.0015\n",
      "Epoch [31], val_loss1: 0.0051, val_loss2: 0.0051, val_loss2: -0.0015\n",
      "Epoch [32], val_loss1: 0.0051, val_loss2: 0.0051, val_loss2: -0.0015\n",
      "Epoch [33], val_loss1: 0.0051, val_loss2: 0.0051, val_loss2: -0.0015\n",
      "Epoch [34], val_loss1: 0.0051, val_loss2: 0.0051, val_loss2: -0.0016\n",
      "Epoch [35], val_loss1: 0.0051, val_loss2: 0.0051, val_loss2: -0.0016\n",
      "Epoch [36], val_loss1: 0.0051, val_loss2: 0.0051, val_loss2: -0.0016\n",
      "Epoch [37], val_loss1: 0.0051, val_loss2: 0.0051, val_loss2: -0.0016\n",
      "Epoch [38], val_loss1: 0.0051, val_loss2: 0.0051, val_loss2: -0.0016\n",
      "Epoch [39], val_loss1: 0.0051, val_loss2: 0.0051, val_loss2: -0.0016\n",
      "Epoch [40], val_loss1: 0.0051, val_loss2: 0.0051, val_loss2: -0.0016\n",
      "Epoch [41], val_loss1: 0.0051, val_loss2: 0.0051, val_loss2: -0.0016\n",
      "Epoch [42], val_loss1: 0.0051, val_loss2: 0.0051, val_loss2: -0.0016\n",
      "Epoch [43], val_loss1: 0.0051, val_loss2: 0.0051, val_loss2: -0.0016\n",
      "Epoch [44], val_loss1: 0.0051, val_loss2: 0.0051, val_loss2: -0.0016\n",
      "Epoch [45], val_loss1: 0.0051, val_loss2: 0.0051, val_loss2: -0.0016\n",
      "Epoch [46], val_loss1: 0.0051, val_loss2: 0.0051, val_loss2: -0.0016\n",
      "Epoch [47], val_loss1: 0.0051, val_loss2: 0.0051, val_loss2: -0.0016\n",
      "Epoch [48], val_loss1: 0.0051, val_loss2: 0.0051, val_loss2: -0.0016\n",
      "Epoch [49], val_loss1: 0.0051, val_loss2: 0.0051, val_loss2: -0.0016\n",
      "Epoch [50], val_loss1: 0.0051, val_loss2: 0.0051, val_loss2: -0.0016\n",
      "Epoch [51], val_loss1: 0.0051, val_loss2: 0.0051, val_loss2: -0.0016\n",
      "Epoch [52], val_loss1: 0.0050, val_loss2: 0.0051, val_loss2: -0.0017\n",
      "Epoch [53], val_loss1: 0.0050, val_loss2: 0.0051, val_loss2: -0.0017\n",
      "Epoch [54], val_loss1: 0.0050, val_loss2: 0.0050, val_loss2: -0.0017\n",
      "Epoch [55], val_loss1: 0.0050, val_loss2: 0.0050, val_loss2: -0.0017\n",
      "Epoch [56], val_loss1: 0.0050, val_loss2: 0.0050, val_loss2: -0.0017\n",
      "Epoch [57], val_loss1: 0.0050, val_loss2: 0.0050, val_loss2: -0.0017\n",
      "Epoch [58], val_loss1: 0.0050, val_loss2: 0.0050, val_loss2: -0.0017\n",
      "Epoch [59], val_loss1: 0.0050, val_loss2: 0.0050, val_loss2: -0.0017\n",
      "Epoch [60], val_loss1: 0.0050, val_loss2: 0.0050, val_loss2: -0.0017\n",
      "Epoch [61], val_loss1: 0.0050, val_loss2: 0.0050, val_loss2: -0.0017\n",
      "Epoch [62], val_loss1: 0.0050, val_loss2: 0.0050, val_loss2: -0.0017\n",
      "Epoch [63], val_loss1: 0.0050, val_loss2: 0.0050, val_loss2: -0.0017\n",
      "Epoch [64], val_loss1: 0.0050, val_loss2: 0.0050, val_loss2: -0.0017\n",
      "Epoch [65], val_loss1: 0.0050, val_loss2: 0.0050, val_loss2: -0.0017\n",
      "Epoch [66], val_loss1: 0.0050, val_loss2: 0.0050, val_loss2: -0.0017\n",
      "Epoch [67], val_loss1: 0.0050, val_loss2: 0.0050, val_loss2: -0.0017\n",
      "Epoch [68], val_loss1: 0.0050, val_loss2: 0.0050, val_loss2: -0.0017\n",
      "Epoch [69], val_loss1: 0.0050, val_loss2: 0.0050, val_loss2: -0.0017\n",
      "Epoch [70], val_loss1: 0.0050, val_loss2: 0.0050, val_loss2: -0.0017\n",
      "Epoch [71], val_loss1: 0.0050, val_loss2: 0.0050, val_loss2: -0.0017\n",
      "Epoch [72], val_loss1: 0.0050, val_loss2: 0.0050, val_loss2: -0.0017\n",
      "Epoch [73], val_loss1: 0.0050, val_loss2: 0.0050, val_loss2: -0.0017\n",
      "Epoch [74], val_loss1: 0.0050, val_loss2: 0.0050, val_loss2: -0.0017\n",
      "Epoch [75], val_loss1: 0.0050, val_loss2: 0.0050, val_loss2: -0.0017\n",
      "Epoch [76], val_loss1: 0.0050, val_loss2: 0.0050, val_loss2: -0.0017\n",
      "Epoch [77], val_loss1: 0.0050, val_loss2: 0.0050, val_loss2: -0.0017\n",
      "Epoch [78], val_loss1: 0.0050, val_loss2: 0.0050, val_loss2: -0.0017\n",
      "Epoch [79], val_loss1: 0.0050, val_loss2: 0.0050, val_loss2: -0.0017\n",
      "Epoch [80], val_loss1: 0.0050, val_loss2: 0.0050, val_loss2: -0.0017\n",
      "Epoch [81], val_loss1: 0.0050, val_loss2: 0.0050, val_loss2: -0.0017\n",
      "Epoch [82], val_loss1: 0.0050, val_loss2: 0.0050, val_loss2: -0.0017\n",
      "Epoch [83], val_loss1: 0.0050, val_loss2: 0.0050, val_loss2: -0.0017\n",
      "Epoch [84], val_loss1: 0.0050, val_loss2: 0.0050, val_loss2: -0.0017\n",
      "Epoch [85], val_loss1: 0.0050, val_loss2: 0.0050, val_loss2: -0.0017\n",
      "Epoch [86], val_loss1: 0.0050, val_loss2: 0.0050, val_loss2: -0.0017\n",
      "Epoch [87], val_loss1: 0.0050, val_loss2: 0.0050, val_loss2: -0.0017\n",
      "Epoch [88], val_loss1: 0.0050, val_loss2: 0.0050, val_loss2: -0.0017\n",
      "Epoch [89], val_loss1: 0.0050, val_loss2: 0.0050, val_loss2: -0.0017\n",
      "Epoch [90], val_loss1: 0.0050, val_loss2: 0.0050, val_loss2: -0.0017\n",
      "Epoch [91], val_loss1: 0.0050, val_loss2: 0.0050, val_loss2: -0.0017\n",
      "Epoch [92], val_loss1: 0.0050, val_loss2: 0.0050, val_loss2: -0.0018\n",
      "Epoch [93], val_loss1: 0.0050, val_loss2: 0.0050, val_loss2: -0.0018\n",
      "Epoch [94], val_loss1: 0.0050, val_loss2: 0.0050, val_loss2: -0.0018\n",
      "Epoch [95], val_loss1: 0.0050, val_loss2: 0.0050, val_loss2: -0.0018\n",
      "Epoch [96], val_loss1: 0.0050, val_loss2: 0.0050, val_loss2: -0.0018\n",
      "Epoch [97], val_loss1: 0.0050, val_loss2: 0.0050, val_loss2: -0.0018\n",
      "Epoch [98], val_loss1: 0.0050, val_loss2: 0.0050, val_loss2: -0.0018\n",
      "Epoch [99], val_loss1: 0.0050, val_loss2: 0.0050, val_loss2: -0.0018\n",
      "Epoch [100], val_loss1: 0.0050, val_loss2: 0.0050, val_loss2: -0.0018\n"
     ]
    }
   ],
   "source": [
    "usad_agm.training(train_loader, test_loader, N_EPOCHS)"
   ]
  },
  {
   "cell_type": "code",
   "execution_count": null,
   "metadata": {},
   "outputs": [],
   "source": []
  },
  {
   "cell_type": "markdown",
   "metadata": {
    "id": "ymhjbmvR_DgJ"
   },
   "source": [
    "## Testing"
   ]
  },
  {
   "cell_type": "code",
   "execution_count": 27,
   "metadata": {},
   "outputs": [],
   "source": [
    "a = model_usad.testing(whole_loader)\n",
    "a = np.concatenate([np.stack(a[:-1]).flatten(), a[-1].flatten()])\n",
    "b = model_usad.testing(train_loader)\n",
    "b = np.concatenate([np.stack(b[:-1]).flatten(), b[-1].flatten()])"
   ]
  },
  {
   "cell_type": "code",
   "execution_count": 28,
   "metadata": {},
   "outputs": [
    {
     "data": {
      "image/png": "[encoded data removed]",
      "text/plain": [
       "<Figure size 432x288 with 1 Axes>"
      ]
     },
     "metadata": {
      "needs_background": "light"
     },
     "output_type": "display_data"
    }
   ],
   "source": [
    "from matplotlib import pyplot as plt\n",
    "\n",
    "plt.plot([x for x in range(a.shape[0])], a)\n",
    "plt.axhline(y=b.mean() + 5 * b.std(), color='r', linewidth=1)\n",
    "plt.title('Anomaly Detection')\n",
    "plt.xlabel('Time')\n",
    "plt.ylabel('Anomaly Score')\n",
    "plt.show()"
   ]
  },
  {
   "cell_type": "code",
   "execution_count": 29,
   "metadata": {},
   "outputs": [
    {
     "data": {
      "text/plain": [
       "0.00023435933144355658"
      ]
     },
     "execution_count": 29,
     "metadata": {},
     "output_type": "execute_result"
    }
   ],
   "source": [
    "b.mean() + 5 * b.std()"
   ]
  },
  {
   "cell_type": "code",
   "execution_count": 30,
   "metadata": {},
   "outputs": [
    {
     "data": {
      "text/plain": [
       "1895"
      ]
     },
     "execution_count": 30,
     "metadata": {},
     "output_type": "execute_result"
    }
   ],
   "source": [
    "start_idx = np.max(np.where(a < b.mean() + 5 * b.std())[0]); start_idx"
   ]
  },
  {
   "cell_type": "code",
   "execution_count": 31,
   "metadata": {},
   "outputs": [
    {
     "data": {
      "text/plain": [
       "(583,)"
      ]
     },
     "execution_count": 31,
     "metadata": {},
     "output_type": "execute_result"
    }
   ],
   "source": [
    "a_ = a[:start_idx]\n",
    "np.where(a_ > b.mean() + 5 * b.std())[0].shape"
   ]
  },
  {
   "cell_type": "code",
   "execution_count": null,
   "metadata": {},
   "outputs": [],
   "source": []
  },
  {
   "cell_type": "markdown",
   "metadata": {},
   "source": [
    "## bearing 1_3"
   ]
  },
  {
   "cell_type": "markdown",
   "metadata": {
    "id": "zxFNH5kU9hIE"
   },
   "source": [
    "#### Normalization"
   ]
  },
  {
   "cell_type": "code",
   "execution_count": 32,
   "metadata": {
    "id": "Mfxj4Uxn9kv4"
   },
   "outputs": [],
   "source": [
    "from sklearn import preprocessing\n",
    "min_max_scaler = preprocessing.MinMaxScaler()\n",
    "\n",
    "x = data1_3.values\n",
    "x_scaled = min_max_scaler.fit_transform(x)\n",
    "scaled_data = pd.DataFrame(x_scaled)"
   ]
  },
  {
   "cell_type": "code",
   "execution_count": 33,
   "metadata": {
    "colab": {
     "base_uri": "https://localhost:8080/",
     "height": 126
    },
    "id": "mQ6_U4jn9nlw",
    "outputId": "f1cc1bd6-f1cc-4764-b1cc-2fd989ac4918"
   },
   "outputs": [
    {
     "data": {
      "text/html": [
       "<div>\n",
       "<style scoped>\n",
       "    .dataframe tbody tr th:only-of-type {\n",
       "        vertical-align: middle;\n",
       "    }\n",
       "\n",
       "    .dataframe tbody tr th {\n",
       "        vertical-align: top;\n",
       "    }\n",
       "\n",
       "    .dataframe thead th {\n",
       "        text-align: right;\n",
       "    }\n",
       "</style>\n",
       "<table border=\"1\" class=\"dataframe\">\n",
       "  <thead>\n",
       "    <tr style=\"text-align: right;\">\n",
       "      <th></th>\n",
       "      <th>0</th>\n",
       "      <th>1</th>\n",
       "    </tr>\n",
       "  </thead>\n",
       "  <tbody>\n",
       "    <tr>\n",
       "      <th>0</th>\n",
       "      <td>0.009587</td>\n",
       "      <td>0.014028</td>\n",
       "    </tr>\n",
       "    <tr>\n",
       "      <th>1</th>\n",
       "      <td>0.012601</td>\n",
       "      <td>0.009091</td>\n",
       "    </tr>\n",
       "  </tbody>\n",
       "</table>\n",
       "</div>"
      ],
      "text/plain": [
       "          0         1\n",
       "0  0.009587  0.014028\n",
       "1  0.012601  0.009091"
      ]
     },
     "execution_count": 33,
     "metadata": {},
     "output_type": "execute_result"
    }
   ],
   "source": [
    "scaled_data.head(2)"
   ]
  },
  {
   "cell_type": "code",
   "execution_count": null,
   "metadata": {},
   "outputs": [],
   "source": []
  },
  {
   "cell_type": "markdown",
   "metadata": {
    "id": "xXJi503b-j_d"
   },
   "source": [
    "### Windows"
   ]
  },
  {
   "cell_type": "code",
   "execution_count": 34,
   "metadata": {
    "id": "vyplttZa-BRN"
   },
   "outputs": [],
   "source": [
    "window_size=12"
   ]
  },
  {
   "cell_type": "code",
   "execution_count": 35,
   "metadata": {
    "colab": {
     "base_uri": "https://localhost:8080/",
     "height": 34
    },
    "id": "dzGJMp6Y-BN5",
    "outputId": "2949d278-1313-442c-f06b-275a8c6c6578"
   },
   "outputs": [
    {
     "data": {
      "text/plain": [
       "(2341, 12, 2)"
      ]
     },
     "execution_count": 35,
     "metadata": {},
     "output_type": "execute_result"
    }
   ],
   "source": [
    "windows_normal=scaled_data.values[np.arange(window_size)[None, :] + np.arange(scaled_data.shape[0]-window_size)[:, None]]\n",
    "windows_normal.shape"
   ]
  },
  {
   "cell_type": "code",
   "execution_count": null,
   "metadata": {},
   "outputs": [],
   "source": []
  },
  {
   "cell_type": "markdown",
   "metadata": {
    "id": "k70ZFxGs-_7m"
   },
   "source": [
    "## Training"
   ]
  },
  {
   "cell_type": "code",
   "execution_count": 36,
   "metadata": {},
   "outputs": [],
   "source": [
    "BATCH_SIZE = 32\n",
    "N_EPOCHS = 100\n",
    "hidden_size = 10\n",
    "\n",
    "w_size=windows_normal.shape[1]*windows_normal.shape[2]\n",
    "z_size=windows_normal.shape[1]*hidden_size\n",
    "\n",
    "windows_normal_train = windows_normal[:400]\n",
    "windows_normal_test = windows_normal[400:]"
   ]
  },
  {
   "cell_type": "code",
   "execution_count": 37,
   "metadata": {},
   "outputs": [],
   "source": [
    "windows_normal_train_re = windows_normal_train.reshape(windows_normal_train.shape[0], w_size)\n",
    "windows_normal_test_re = windows_normal_test.reshape(windows_normal_test.shape[0], w_size)\n",
    "windows_normal_re = windows_normal.reshape(windows_normal.shape[0], w_size)"
   ]
  },
  {
   "cell_type": "code",
   "execution_count": 38,
   "metadata": {},
   "outputs": [],
   "source": [
    "train_loader = Dataloader(windows_normal_train_re,windows_normal_train_re,BATCH_SIZE)\n",
    "test_loader = Dataloader(windows_normal_test_re,windows_normal_test_re,BATCH_SIZE)\n",
    "whole_loader = Dataloader(windows_normal_re,windows_normal_re,BATCH_SIZE)"
   ]
  },
  {
   "cell_type": "markdown",
   "metadata": {},
   "source": [
    "* usad"
   ]
  },
  {
   "cell_type": "code",
   "execution_count": 39,
   "metadata": {
    "collapsed": true,
    "jupyter": {
     "outputs_hidden": true
    }
   },
   "outputs": [
    {
     "name": "stdout",
     "output_type": "stream",
     "text": [
      "WARNING:tensorflow:Entity <bound method Encoder.call of <__main__.Encoder object at 0x00000204D170E2C8>> could not be transformed and will be executed as-is. Please report this to the AutoGraph team. When filing the bug, set the verbosity to 10 (on Linux, `export AUTOGRAPH_VERBOSITY=10`) and attach the full output. Cause: Bad argument number for Name: 3, expecting 4\n",
      "WARNING: Entity <bound method Encoder.call of <__main__.Encoder object at 0x00000204D170E2C8>> could not be transformed and will be executed as-is. Please report this to the AutoGraph team. When filing the bug, set the verbosity to 10 (on Linux, `export AUTOGRAPH_VERBOSITY=10`) and attach the full output. Cause: Bad argument number for Name: 3, expecting 4\n",
      "WARNING:tensorflow:Entity <bound method Decoder.call of <__main__.Decoder object at 0x00000204D1711048>> could not be transformed and will be executed as-is. Please report this to the AutoGraph team. When filing the bug, set the verbosity to 10 (on Linux, `export AUTOGRAPH_VERBOSITY=10`) and attach the full output. Cause: Bad argument number for Name: 3, expecting 4\n",
      "WARNING: Entity <bound method Decoder.call of <__main__.Decoder object at 0x00000204D1711048>> could not be transformed and will be executed as-is. Please report this to the AutoGraph team. When filing the bug, set the verbosity to 10 (on Linux, `export AUTOGRAPH_VERBOSITY=10`) and attach the full output. Cause: Bad argument number for Name: 3, expecting 4\n",
      "WARNING:tensorflow:Entity <bound method Decoder.call of <__main__.Decoder object at 0x00000204D1719CC8>> could not be transformed and will be executed as-is. Please report this to the AutoGraph team. When filing the bug, set the verbosity to 10 (on Linux, `export AUTOGRAPH_VERBOSITY=10`) and attach the full output. Cause: Bad argument number for Name: 3, expecting 4\n",
      "WARNING: Entity <bound method Decoder.call of <__main__.Decoder object at 0x00000204D1719CC8>> could not be transformed and will be executed as-is. Please report this to the AutoGraph team. When filing the bug, set the verbosity to 10 (on Linux, `export AUTOGRAPH_VERBOSITY=10`) and attach the full output. Cause: Bad argument number for Name: 3, expecting 4\n",
      "Epoch [1], val_loss1: 0.2044, val_loss2: 0.2019\n",
      "Epoch [2], val_loss1: 0.1738, val_loss2: 0.1653\n",
      "Epoch [3], val_loss1: 0.1337, val_loss2: 0.1200\n",
      "Epoch [4], val_loss1: 0.0901, val_loss2: 0.0754\n",
      "Epoch [5], val_loss1: 0.0482, val_loss2: 0.0356\n",
      "Epoch [6], val_loss1: 0.0233, val_loss2: 0.0155\n",
      "Epoch [7], val_loss1: 0.0149, val_loss2: 0.0115\n",
      "Epoch [8], val_loss1: 0.0112, val_loss2: 0.0100\n",
      "Epoch [9], val_loss1: 0.0101, val_loss2: 0.0097\n",
      "Epoch [10], val_loss1: 0.0098, val_loss2: 0.0097\n",
      "Epoch [11], val_loss1: 0.0098, val_loss2: 0.0098\n",
      "Epoch [12], val_loss1: 0.0099, val_loss2: 0.0098\n",
      "Epoch [13], val_loss1: 0.0100, val_loss2: 0.0099\n",
      "Epoch [14], val_loss1: 0.0101, val_loss2: 0.0100\n",
      "Epoch [15], val_loss1: 0.0102, val_loss2: 0.0101\n",
      "Epoch [16], val_loss1: 0.0102, val_loss2: 0.0102\n",
      "Epoch [17], val_loss1: 0.0103, val_loss2: 0.0103\n",
      "Epoch [18], val_loss1: 0.0104, val_loss2: 0.0103\n",
      "Epoch [19], val_loss1: 0.0104, val_loss2: 0.0104\n",
      "Epoch [20], val_loss1: 0.0105, val_loss2: 0.0105\n",
      "Epoch [21], val_loss1: 0.0105, val_loss2: 0.0105\n",
      "Epoch [22], val_loss1: 0.0106, val_loss2: 0.0106\n",
      "Epoch [23], val_loss1: 0.0106, val_loss2: 0.0106\n",
      "Epoch [24], val_loss1: 0.0107, val_loss2: 0.0107\n",
      "Epoch [25], val_loss1: 0.0107, val_loss2: 0.0107\n",
      "Epoch [26], val_loss1: 0.0107, val_loss2: 0.0107\n",
      "Epoch [27], val_loss1: 0.0108, val_loss2: 0.0108\n",
      "Epoch [28], val_loss1: 0.0108, val_loss2: 0.0108\n",
      "Epoch [29], val_loss1: 0.0108, val_loss2: 0.0108\n",
      "Epoch [30], val_loss1: 0.0109, val_loss2: 0.0109\n",
      "Epoch [31], val_loss1: 0.0109, val_loss2: 0.0109\n",
      "Epoch [32], val_loss1: 0.0109, val_loss2: 0.0109\n",
      "Epoch [33], val_loss1: 0.0109, val_loss2: 0.0109\n",
      "Epoch [34], val_loss1: 0.0110, val_loss2: 0.0110\n",
      "Epoch [35], val_loss1: 0.0110, val_loss2: 0.0110\n",
      "Epoch [36], val_loss1: 0.0110, val_loss2: 0.0110\n",
      "Epoch [37], val_loss1: 0.0110, val_loss2: 0.0110\n",
      "Epoch [38], val_loss1: 0.0110, val_loss2: 0.0110\n",
      "Epoch [39], val_loss1: 0.0111, val_loss2: 0.0110\n",
      "Epoch [40], val_loss1: 0.0111, val_loss2: 0.0111\n",
      "Epoch [41], val_loss1: 0.0111, val_loss2: 0.0111\n",
      "Epoch [42], val_loss1: 0.0111, val_loss2: 0.0111\n",
      "Epoch [43], val_loss1: 0.0111, val_loss2: 0.0111\n",
      "Epoch [44], val_loss1: 0.0111, val_loss2: 0.0111\n",
      "Epoch [45], val_loss1: 0.0111, val_loss2: 0.0111\n",
      "Epoch [46], val_loss1: 0.0111, val_loss2: 0.0111\n",
      "Epoch [47], val_loss1: 0.0112, val_loss2: 0.0111\n",
      "Epoch [48], val_loss1: 0.0112, val_loss2: 0.0112\n",
      "Epoch [49], val_loss1: 0.0112, val_loss2: 0.0112\n",
      "Epoch [50], val_loss1: 0.0112, val_loss2: 0.0112\n",
      "Epoch [51], val_loss1: 0.0112, val_loss2: 0.0112\n",
      "Epoch [52], val_loss1: 0.0112, val_loss2: 0.0112\n",
      "Epoch [53], val_loss1: 0.0112, val_loss2: 0.0112\n",
      "Epoch [54], val_loss1: 0.0112, val_loss2: 0.0112\n",
      "Epoch [55], val_loss1: 0.0112, val_loss2: 0.0112\n",
      "Epoch [56], val_loss1: 0.0112, val_loss2: 0.0112\n",
      "Epoch [57], val_loss1: 0.0112, val_loss2: 0.0112\n",
      "Epoch [58], val_loss1: 0.0112, val_loss2: 0.0112\n",
      "Epoch [59], val_loss1: 0.0112, val_loss2: 0.0112\n",
      "Epoch [60], val_loss1: 0.0112, val_loss2: 0.0112\n",
      "Epoch [61], val_loss1: 0.0112, val_loss2: 0.0112\n",
      "Epoch [62], val_loss1: 0.0113, val_loss2: 0.0113\n",
      "Epoch [63], val_loss1: 0.0113, val_loss2: 0.0113\n",
      "Epoch [64], val_loss1: 0.0113, val_loss2: 0.0113\n",
      "Epoch [65], val_loss1: 0.0113, val_loss2: 0.0113\n",
      "Epoch [66], val_loss1: 0.0113, val_loss2: 0.0113\n",
      "Epoch [67], val_loss1: 0.0113, val_loss2: 0.0113\n",
      "Epoch [68], val_loss1: 0.0113, val_loss2: 0.0113\n",
      "Epoch [69], val_loss1: 0.0113, val_loss2: 0.0113\n",
      "Epoch [70], val_loss1: 0.0113, val_loss2: 0.0113\n",
      "Epoch [71], val_loss1: 0.0113, val_loss2: 0.0113\n",
      "Epoch [72], val_loss1: 0.0113, val_loss2: 0.0113\n",
      "Epoch [73], val_loss1: 0.0113, val_loss2: 0.0113\n",
      "Epoch [74], val_loss1: 0.0113, val_loss2: 0.0113\n",
      "Epoch [75], val_loss1: 0.0113, val_loss2: 0.0113\n",
      "Epoch [76], val_loss1: 0.0113, val_loss2: 0.0113\n",
      "Epoch [77], val_loss1: 0.0113, val_loss2: 0.0113\n",
      "Epoch [78], val_loss1: 0.0113, val_loss2: 0.0113\n",
      "Epoch [79], val_loss1: 0.0113, val_loss2: 0.0113\n",
      "Epoch [80], val_loss1: 0.0113, val_loss2: 0.0113\n",
      "Epoch [81], val_loss1: 0.0113, val_loss2: 0.0113\n",
      "Epoch [82], val_loss1: 0.0113, val_loss2: 0.0113\n",
      "Epoch [83], val_loss1: 0.0113, val_loss2: 0.0113\n",
      "Epoch [84], val_loss1: 0.0113, val_loss2: 0.0113\n",
      "Epoch [85], val_loss1: 0.0113, val_loss2: 0.0113\n",
      "Epoch [86], val_loss1: 0.0113, val_loss2: 0.0113\n",
      "Epoch [87], val_loss1: 0.0113, val_loss2: 0.0113\n",
      "Epoch [88], val_loss1: 0.0113, val_loss2: 0.0113\n",
      "Epoch [89], val_loss1: 0.0113, val_loss2: 0.0113\n",
      "Epoch [90], val_loss1: 0.0113, val_loss2: 0.0113\n",
      "Epoch [91], val_loss1: 0.0113, val_loss2: 0.0113\n",
      "Epoch [92], val_loss1: 0.0113, val_loss2: 0.0113\n",
      "Epoch [93], val_loss1: 0.0113, val_loss2: 0.0113\n",
      "Epoch [94], val_loss1: 0.0113, val_loss2: 0.0113\n",
      "Epoch [95], val_loss1: 0.0113, val_loss2: 0.0113\n",
      "Epoch [96], val_loss1: 0.0113, val_loss2: 0.0113\n",
      "Epoch [97], val_loss1: 0.0113, val_loss2: 0.0113\n",
      "Epoch [98], val_loss1: 0.0113, val_loss2: 0.0113\n",
      "Epoch [99], val_loss1: 0.0113, val_loss2: 0.0113\n",
      "Epoch [100], val_loss1: 0.0113, val_loss2: 0.0113\n"
     ]
    }
   ],
   "source": [
    "model_usad = UsadModel(w_size, z_size)\n",
    "model_usad.training(train_loader, test_loader, N_EPOCHS)"
   ]
  },
  {
   "cell_type": "code",
   "execution_count": 40,
   "metadata": {},
   "outputs": [],
   "source": [
    "a = model_usad.testing(whole_loader)\n",
    "a = np.concatenate([np.stack(a[:-1]).flatten(), a[-1].flatten()])\n",
    "b = model_usad.testing(train_loader)\n",
    "b = np.concatenate([np.stack(b[:-1]).flatten(), b[-1].flatten()])"
   ]
  },
  {
   "cell_type": "code",
   "execution_count": 41,
   "metadata": {},
   "outputs": [
    {
     "data": {
      "image/png": "[encoded data removed]",
      "text/plain": [
       "<Figure size 432x288 with 1 Axes>"
      ]
     },
     "metadata": {
      "needs_background": "light"
     },
     "output_type": "display_data"
    }
   ],
   "source": [
    "from matplotlib import pyplot as plt\n",
    "\n",
    "plt.plot([x for x in range(a.shape[0])], a)\n",
    "plt.axhline(y=b.mean() + 5 * b.std(), color='r', linewidth=1)\n",
    "plt.title('Anomaly Detection')\n",
    "plt.xlabel('Time')\n",
    "plt.ylabel('Anomaly Score')\n",
    "plt.show()"
   ]
  },
  {
   "cell_type": "code",
   "execution_count": 42,
   "metadata": {},
   "outputs": [
    {
     "data": {
      "text/plain": [
       "0.00010550405386311468"
      ]
     },
     "execution_count": 42,
     "metadata": {},
     "output_type": "execute_result"
    }
   ],
   "source": [
    "b.mean() + 5 * b.std()"
   ]
  },
  {
   "cell_type": "code",
   "execution_count": 43,
   "metadata": {},
   "outputs": [
    {
     "data": {
      "text/plain": [
       "1600"
      ]
     },
     "execution_count": 43,
     "metadata": {},
     "output_type": "execute_result"
    }
   ],
   "source": [
    "start_idx = np.max(np.where(a < b.mean() + 5 * b.std())[0]); start_idx"
   ]
  },
  {
   "cell_type": "code",
   "execution_count": 44,
   "metadata": {},
   "outputs": [
    {
     "data": {
      "text/plain": [
       "(157,)"
      ]
     },
     "execution_count": 44,
     "metadata": {},
     "output_type": "execute_result"
    }
   ],
   "source": [
    "a_ = a[:start_idx]\n",
    "np.where(a_ > b.mean() + 5 * b.std())[0].shape"
   ]
  },
  {
   "cell_type": "code",
   "execution_count": null,
   "metadata": {},
   "outputs": [],
   "source": []
  },
  {
   "cell_type": "markdown",
   "metadata": {},
   "source": [
    "* usad agm"
   ]
  },
  {
   "cell_type": "code",
   "execution_count": 45,
   "metadata": {
    "collapsed": true,
    "jupyter": {
     "outputs_hidden": true
    }
   },
   "outputs": [
    {
     "name": "stdout",
     "output_type": "stream",
     "text": [
      "WARNING:tensorflow:Entity <bound method Encoder.call of <__main__.Encoder object at 0x00000204D06BC8C8>> could not be transformed and will be executed as-is. Please report this to the AutoGraph team. When filing the bug, set the verbosity to 10 (on Linux, `export AUTOGRAPH_VERBOSITY=10`) and attach the full output. Cause: Bad argument number for Name: 3, expecting 4\n",
      "WARNING: Entity <bound method Encoder.call of <__main__.Encoder object at 0x00000204D06BC8C8>> could not be transformed and will be executed as-is. Please report this to the AutoGraph team. When filing the bug, set the verbosity to 10 (on Linux, `export AUTOGRAPH_VERBOSITY=10`) and attach the full output. Cause: Bad argument number for Name: 3, expecting 4\n",
      "WARNING:tensorflow:Entity <bound method Decoder.call of <__main__.Decoder object at 0x00000204D197EF08>> could not be transformed and will be executed as-is. Please report this to the AutoGraph team. When filing the bug, set the verbosity to 10 (on Linux, `export AUTOGRAPH_VERBOSITY=10`) and attach the full output. Cause: Bad argument number for Name: 3, expecting 4\n",
      "WARNING: Entity <bound method Decoder.call of <__main__.Decoder object at 0x00000204D197EF08>> could not be transformed and will be executed as-is. Please report this to the AutoGraph team. When filing the bug, set the verbosity to 10 (on Linux, `export AUTOGRAPH_VERBOSITY=10`) and attach the full output. Cause: Bad argument number for Name: 3, expecting 4\n",
      "WARNING:tensorflow:Entity <bound method Decoder.call of <__main__.Decoder object at 0x00000204D19AE5C8>> could not be transformed and will be executed as-is. Please report this to the AutoGraph team. When filing the bug, set the verbosity to 10 (on Linux, `export AUTOGRAPH_VERBOSITY=10`) and attach the full output. Cause: Bad argument number for Name: 3, expecting 4\n",
      "WARNING: Entity <bound method Decoder.call of <__main__.Decoder object at 0x00000204D19AE5C8>> could not be transformed and will be executed as-is. Please report this to the AutoGraph team. When filing the bug, set the verbosity to 10 (on Linux, `export AUTOGRAPH_VERBOSITY=10`) and attach the full output. Cause: Bad argument number for Name: 3, expecting 4\n"
     ]
    }
   ],
   "source": [
    "usad_agm = UsadModel_AGM(w_size,z_size)"
   ]
  },
  {
   "cell_type": "code",
   "execution_count": 46,
   "metadata": {
    "collapsed": true,
    "jupyter": {
     "outputs_hidden": true
    }
   },
   "outputs": [
    {
     "name": "stdout",
     "output_type": "stream",
     "text": [
      "Epoch [1], val_loss1: 0.2024, val_loss2: 0.2027, val_loss2: 0.0004\n",
      "Epoch [2], val_loss1: 0.1795, val_loss2: 0.1768, val_loss2: -0.0133\n",
      "Epoch [3], val_loss1: 0.1217, val_loss2: 0.1117, val_loss2: -0.0625\n",
      "Epoch [4], val_loss1: 0.0557, val_loss2: 0.0401, val_loss2: -0.1719\n",
      "Epoch [5], val_loss1: 0.0269, val_loss2: 0.0140, val_loss2: -0.1356\n",
      "Epoch [6], val_loss1: 0.0190, val_loss2: 0.0124, val_loss2: -0.0616\n",
      "Epoch [7], val_loss1: 0.0141, val_loss2: 0.0115, val_loss2: -0.0408\n",
      "Epoch [8], val_loss1: 0.0115, val_loss2: 0.0105, val_loss2: -0.0331\n",
      "Epoch [9], val_loss1: 0.0107, val_loss2: 0.0103, val_loss2: -0.0285\n",
      "Epoch [10], val_loss1: 0.0104, val_loss2: 0.0101, val_loss2: -0.0266\n",
      "Epoch [11], val_loss1: 0.0102, val_loss2: 0.0100, val_loss2: -0.0268\n",
      "Epoch [12], val_loss1: 0.0100, val_loss2: 0.0098, val_loss2: -0.0295\n",
      "Epoch [13], val_loss1: 0.0097, val_loss2: 0.0095, val_loss2: -0.0379\n",
      "Epoch [14], val_loss1: 0.0094, val_loss2: 0.0089, val_loss2: -0.0589\n",
      "Epoch [15], val_loss1: 0.0088, val_loss2: 0.0079, val_loss2: -0.1106\n",
      "Epoch [16], val_loss1: 0.0095, val_loss2: 0.0081, val_loss2: -0.2311\n",
      "Epoch [17], val_loss1: 0.0093, val_loss2: 0.0084, val_loss2: -0.2377\n",
      "Epoch [18], val_loss1: 0.0089, val_loss2: 0.0084, val_loss2: -0.2327\n",
      "Epoch [19], val_loss1: 0.0095, val_loss2: 0.0093, val_loss2: -0.2689\n",
      "Epoch [20], val_loss1: 0.0105, val_loss2: 0.0106, val_loss2: -0.3218\n",
      "Epoch [21], val_loss1: 0.0112, val_loss2: 0.0117, val_loss2: -0.3785\n",
      "Epoch [22], val_loss1: 0.0120, val_loss2: 0.0126, val_loss2: -0.4505\n",
      "Epoch [23], val_loss1: 0.0110, val_loss2: 0.0117, val_loss2: -0.4319\n",
      "Epoch [24], val_loss1: 0.0092, val_loss2: 0.0097, val_loss2: -0.3503\n",
      "Epoch [25], val_loss1: 0.0080, val_loss2: 0.0084, val_loss2: -0.2903\n",
      "Epoch [26], val_loss1: 0.0070, val_loss2: 0.0074, val_loss2: -0.2215\n",
      "Epoch [27], val_loss1: 0.0066, val_loss2: 0.0069, val_loss2: -0.1844\n",
      "Epoch [28], val_loss1: 0.0065, val_loss2: 0.0066, val_loss2: -0.1361\n",
      "Epoch [29], val_loss1: 0.0065, val_loss2: 0.0067, val_loss2: -0.1083\n",
      "Epoch [30], val_loss1: 0.0067, val_loss2: 0.0068, val_loss2: -0.0879\n",
      "Epoch [31], val_loss1: 0.0069, val_loss2: 0.0070, val_loss2: -0.0744\n",
      "Epoch [32], val_loss1: 0.0071, val_loss2: 0.0071, val_loss2: -0.0639\n",
      "Epoch [33], val_loss1: 0.0073, val_loss2: 0.0073, val_loss2: -0.0560\n",
      "Epoch [34], val_loss1: 0.0074, val_loss2: 0.0075, val_loss2: -0.0499\n",
      "Epoch [35], val_loss1: 0.0076, val_loss2: 0.0076, val_loss2: -0.0454\n",
      "Epoch [36], val_loss1: 0.0077, val_loss2: 0.0077, val_loss2: -0.0418\n",
      "Epoch [37], val_loss1: 0.0079, val_loss2: 0.0079, val_loss2: -0.0382\n",
      "Epoch [38], val_loss1: 0.0080, val_loss2: 0.0080, val_loss2: -0.0355\n",
      "Epoch [39], val_loss1: 0.0081, val_loss2: 0.0081, val_loss2: -0.0331\n",
      "Epoch [40], val_loss1: 0.0082, val_loss2: 0.0082, val_loss2: -0.0313\n",
      "Epoch [41], val_loss1: 0.0083, val_loss2: 0.0083, val_loss2: -0.0298\n",
      "Epoch [42], val_loss1: 0.0084, val_loss2: 0.0084, val_loss2: -0.0283\n",
      "Epoch [43], val_loss1: 0.0084, val_loss2: 0.0084, val_loss2: -0.0269\n",
      "Epoch [44], val_loss1: 0.0085, val_loss2: 0.0085, val_loss2: -0.0260\n",
      "Epoch [45], val_loss1: 0.0086, val_loss2: 0.0086, val_loss2: -0.0252\n",
      "Epoch [46], val_loss1: 0.0086, val_loss2: 0.0086, val_loss2: -0.0243\n",
      "Epoch [47], val_loss1: 0.0087, val_loss2: 0.0087, val_loss2: -0.0234\n",
      "Epoch [48], val_loss1: 0.0087, val_loss2: 0.0087, val_loss2: -0.0227\n",
      "Epoch [49], val_loss1: 0.0088, val_loss2: 0.0088, val_loss2: -0.0221\n",
      "Epoch [50], val_loss1: 0.0088, val_loss2: 0.0088, val_loss2: -0.0216\n",
      "Epoch [51], val_loss1: 0.0088, val_loss2: 0.0088, val_loss2: -0.0210\n",
      "Epoch [52], val_loss1: 0.0089, val_loss2: 0.0089, val_loss2: -0.0202\n",
      "Epoch [53], val_loss1: 0.0089, val_loss2: 0.0089, val_loss2: -0.0200\n",
      "Epoch [54], val_loss1: 0.0090, val_loss2: 0.0090, val_loss2: -0.0195\n",
      "Epoch [55], val_loss1: 0.0090, val_loss2: 0.0090, val_loss2: -0.0190\n",
      "Epoch [56], val_loss1: 0.0090, val_loss2: 0.0090, val_loss2: -0.0186\n",
      "Epoch [57], val_loss1: 0.0091, val_loss2: 0.0091, val_loss2: -0.0183\n",
      "Epoch [58], val_loss1: 0.0091, val_loss2: 0.0091, val_loss2: -0.0179\n",
      "Epoch [59], val_loss1: 0.0091, val_loss2: 0.0091, val_loss2: -0.0176\n",
      "Epoch [60], val_loss1: 0.0092, val_loss2: 0.0092, val_loss2: -0.0173\n",
      "Epoch [61], val_loss1: 0.0092, val_loss2: 0.0092, val_loss2: -0.0170\n",
      "Epoch [62], val_loss1: 0.0092, val_loss2: 0.0092, val_loss2: -0.0168\n",
      "Epoch [63], val_loss1: 0.0092, val_loss2: 0.0092, val_loss2: -0.0165\n",
      "Epoch [64], val_loss1: 0.0093, val_loss2: 0.0093, val_loss2: -0.0162\n",
      "Epoch [65], val_loss1: 0.0093, val_loss2: 0.0093, val_loss2: -0.0161\n",
      "Epoch [66], val_loss1: 0.0093, val_loss2: 0.0093, val_loss2: -0.0157\n",
      "Epoch [67], val_loss1: 0.0093, val_loss2: 0.0093, val_loss2: -0.0155\n",
      "Epoch [68], val_loss1: 0.0094, val_loss2: 0.0094, val_loss2: -0.0153\n",
      "Epoch [69], val_loss1: 0.0094, val_loss2: 0.0094, val_loss2: -0.0151\n",
      "Epoch [70], val_loss1: 0.0094, val_loss2: 0.0094, val_loss2: -0.0151\n",
      "Epoch [71], val_loss1: 0.0094, val_loss2: 0.0094, val_loss2: -0.0149\n",
      "Epoch [72], val_loss1: 0.0094, val_loss2: 0.0094, val_loss2: -0.0146\n",
      "Epoch [73], val_loss1: 0.0095, val_loss2: 0.0095, val_loss2: -0.0144\n",
      "Epoch [74], val_loss1: 0.0095, val_loss2: 0.0095, val_loss2: -0.0143\n",
      "Epoch [75], val_loss1: 0.0095, val_loss2: 0.0095, val_loss2: -0.0142\n",
      "Epoch [76], val_loss1: 0.0095, val_loss2: 0.0095, val_loss2: -0.0140\n",
      "Epoch [77], val_loss1: 0.0095, val_loss2: 0.0095, val_loss2: -0.0139\n",
      "Epoch [78], val_loss1: 0.0095, val_loss2: 0.0095, val_loss2: -0.0136\n",
      "Epoch [79], val_loss1: 0.0095, val_loss2: 0.0095, val_loss2: -0.0135\n",
      "Epoch [80], val_loss1: 0.0096, val_loss2: 0.0096, val_loss2: -0.0135\n",
      "Epoch [81], val_loss1: 0.0096, val_loss2: 0.0096, val_loss2: -0.0133\n",
      "Epoch [82], val_loss1: 0.0096, val_loss2: 0.0096, val_loss2: -0.0133\n",
      "Epoch [83], val_loss1: 0.0096, val_loss2: 0.0096, val_loss2: -0.0131\n",
      "Epoch [84], val_loss1: 0.0096, val_loss2: 0.0096, val_loss2: -0.0130\n",
      "Epoch [85], val_loss1: 0.0096, val_loss2: 0.0096, val_loss2: -0.0127\n",
      "Epoch [86], val_loss1: 0.0097, val_loss2: 0.0097, val_loss2: -0.0127\n",
      "Epoch [87], val_loss1: 0.0097, val_loss2: 0.0097, val_loss2: -0.0125\n",
      "Epoch [88], val_loss1: 0.0097, val_loss2: 0.0097, val_loss2: -0.0124\n",
      "Epoch [89], val_loss1: 0.0097, val_loss2: 0.0097, val_loss2: -0.0123\n",
      "Epoch [90], val_loss1: 0.0097, val_loss2: 0.0097, val_loss2: -0.0122\n",
      "Epoch [91], val_loss1: 0.0097, val_loss2: 0.0097, val_loss2: -0.0121\n",
      "Epoch [92], val_loss1: 0.0097, val_loss2: 0.0097, val_loss2: -0.0120\n",
      "Epoch [93], val_loss1: 0.0097, val_loss2: 0.0097, val_loss2: -0.0120\n",
      "Epoch [94], val_loss1: 0.0098, val_loss2: 0.0098, val_loss2: -0.0118\n",
      "Epoch [95], val_loss1: 0.0098, val_loss2: 0.0098, val_loss2: -0.0118\n",
      "Epoch [96], val_loss1: 0.0098, val_loss2: 0.0098, val_loss2: -0.0116\n",
      "Epoch [97], val_loss1: 0.0098, val_loss2: 0.0098, val_loss2: -0.0116\n",
      "Epoch [98], val_loss1: 0.0098, val_loss2: 0.0098, val_loss2: -0.0115\n",
      "Epoch [99], val_loss1: 0.0098, val_loss2: 0.0098, val_loss2: -0.0114\n",
      "Epoch [100], val_loss1: 0.0098, val_loss2: 0.0098, val_loss2: -0.0112\n"
     ]
    }
   ],
   "source": [
    "usad_agm.training(train_loader, test_loader, N_EPOCHS)"
   ]
  },
  {
   "cell_type": "code",
   "execution_count": 47,
   "metadata": {},
   "outputs": [],
   "source": [
    "a = model_usad.testing(whole_loader)\n",
    "a = np.concatenate([np.stack(a[:-1]).flatten(), a[-1].flatten()])\n",
    "b = model_usad.testing(train_loader)\n",
    "b = np.concatenate([np.stack(b[:-1]).flatten(), b[-1].flatten()])"
   ]
  },
  {
   "cell_type": "code",
   "execution_count": 48,
   "metadata": {},
   "outputs": [
    {
     "data": {
      "image/png": "[encoded data removed]",
      "text/plain": [
       "<Figure size 432x288 with 1 Axes>"
      ]
     },
     "metadata": {
      "needs_background": "light"
     },
     "output_type": "display_data"
    }
   ],
   "source": [
    "from matplotlib import pyplot as plt\n",
    "\n",
    "plt.plot([x for x in range(a.shape[0])], a)\n",
    "plt.axhline(y=b.mean() + 5 * b.std(), color='r', linewidth=1)\n",
    "plt.title('Anomaly Detection')\n",
    "plt.xlabel('Time')\n",
    "plt.ylabel('Anomaly Score')\n",
    "plt.show()"
   ]
  },
  {
   "cell_type": "code",
   "execution_count": 49,
   "metadata": {},
   "outputs": [
    {
     "data": {
      "text/plain": [
       "0.00010550405386311468"
      ]
     },
     "execution_count": 49,
     "metadata": {},
     "output_type": "execute_result"
    }
   ],
   "source": [
    "b.mean() + 5 * b.std()"
   ]
  },
  {
   "cell_type": "code",
   "execution_count": 50,
   "metadata": {},
   "outputs": [
    {
     "data": {
      "text/plain": [
       "1600"
      ]
     },
     "execution_count": 50,
     "metadata": {},
     "output_type": "execute_result"
    }
   ],
   "source": [
    "start_idx = np.max(np.where(a < b.mean() + 5 * b.std())[0]); start_idx"
   ]
  },
  {
   "cell_type": "code",
   "execution_count": 51,
   "metadata": {},
   "outputs": [
    {
     "data": {
      "text/plain": [
       "(157,)"
      ]
     },
     "execution_count": 51,
     "metadata": {},
     "output_type": "execute_result"
    }
   ],
   "source": [
    "a_ = a[:start_idx]\n",
    "np.where(a_ > b.mean() + 5 * b.std())[0].shape"
   ]
  },
  {
   "cell_type": "code",
   "execution_count": null,
   "metadata": {},
   "outputs": [],
   "source": []
  }
 ],
 "metadata": {
  "accelerator": "GPU",
  "colab": {
   "name": "USAD_test.ipynb",
   "provenance": [],
   "toc_visible": true
  },
  "kernelspec": {
   "display_name": "Python 3",
   "language": "python",
   "name": "python3"
  },
  "language_info": {
   "codemirror_mode": {
    "name": "ipython",
    "version": 3
   },
   "file_extension": ".py",
   "mimetype": "text/x-python",
   "name": "python",
   "nbconvert_exporter": "python",
   "pygments_lexer": "ipython3",
   "version": "3.7.6"
  }
 },
 "nbformat": 4,
 "nbformat_minor": 4
}
