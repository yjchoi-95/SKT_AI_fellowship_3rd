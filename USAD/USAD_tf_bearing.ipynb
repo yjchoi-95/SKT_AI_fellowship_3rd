{
 "cells": [
  {
   "cell_type": "markdown",
   "metadata": {
    "id": "etniX_KTlJ5U"
   },
   "source": [
    "# USAD"
   ]
  },
  {
   "cell_type": "markdown",
   "metadata": {
    "id": "N3jM0qLU8MgZ"
   },
   "source": [
    "## Environment"
   ]
  },
  {
   "cell_type": "code",
   "execution_count": null,
   "metadata": {
    "id": "6u1DGKsAlLF-"
   },
   "outputs": [],
   "source": [
    "from utils import *\n",
    "from usad_tf import *\n",
    "\n",
    "import numpy as np\n",
    "import pandas as pd\n",
    "import matplotlib.pyplot as plt\n",
    "import seaborn as sns\n",
    "import tensorflow as tf\n",
    "\n",
    "tf.enable_eager_execution()"
   ]
  },
  {
   "cell_type": "code",
   "execution_count": null,
   "metadata": {},
   "outputs": [],
   "source": []
  },
  {
   "cell_type": "markdown",
   "metadata": {
    "id": "1crx5rGP9ONf"
   },
   "source": [
    "## EDA - Data Pre-Processing"
   ]
  },
  {
   "cell_type": "markdown",
   "metadata": {
    "id": "kfSj4FYL9W8Y"
   },
   "source": [
    "### Normal period"
   ]
  },
  {
   "cell_type": "code",
   "execution_count": 6,
   "metadata": {
    "colab": {
     "base_uri": "https://localhost:8080/",
     "height": 87
    },
    "id": "XeDLxV_r1G9n",
    "outputId": "576538dd-64f2-46fa-8e6f-6c2ffdebad15"
   },
   "outputs": [
    {
     "name": "stdout",
     "output_type": "stream",
     "text": [
      "(2778, 2) (2353, 2)\n"
     ]
    }
   ],
   "source": [
    "data_path = \"C:\\\\Users\\\\PC0\\\\Documents\\\\GitHub\\\\datasets\\\\\"\n",
    "\n",
    "#Read data\n",
    "data_1 = pd.read_csv(data_path + \"Bearing1_1.csv\")\n",
    "data_3 = pd.read_csv(data_path + \"Bearing1_3.csv\")\n",
    "\n",
    "print(data_1.shape,data_3.shape)"
   ]
  },
  {
   "cell_type": "code",
   "execution_count": null,
   "metadata": {},
   "outputs": [],
   "source": []
  },
  {
   "cell_type": "markdown",
   "metadata": {
    "id": "zxFNH5kU9hIE"
   },
   "source": [
    "#### Normalization"
   ]
  },
  {
   "cell_type": "code",
   "execution_count": 8,
   "metadata": {},
   "outputs": [],
   "source": []
  },
  {
   "cell_type": "code",
   "execution_count": null,
   "metadata": {},
   "outputs": [],
   "source": []
  },
  {
   "cell_type": "markdown",
   "metadata": {
    "id": "k70ZFxGs-_7m"
   },
   "source": [
    "## Training"
   ]
  },
  {
   "cell_type": "code",
   "execution_count": 9,
   "metadata": {},
   "outputs": [],
   "source": [
    "windows_normal, windows_normal_train, windows_normal_test, w_size, z_size = preproc(data_1)"
   ]
  },
  {
   "cell_type": "code",
   "execution_count": 11,
   "metadata": {},
   "outputs": [],
   "source": [
    "train_loader = Dataloader(windows_normal_train_re,windows_normal_train_re,BATCH_SIZE)\n",
    "test_loader = Dataloader(windows_normal_test_re,windows_normal_test_re,BATCH_SIZE)"
   ]
  },
  {
   "cell_type": "code",
   "execution_count": null,
   "metadata": {},
   "outputs": [],
   "source": []
  },
  {
   "cell_type": "markdown",
   "metadata": {},
   "source": [
    "* USAD tensorflow"
   ]
  },
  {
   "cell_type": "code",
   "execution_count": 15,
   "metadata": {
    "collapsed": true,
    "jupyter": {
     "outputs_hidden": true
    }
   },
   "outputs": [
    {
     "name": "stdout",
     "output_type": "stream",
     "text": [
      "WARNING:tensorflow:Entity <bound method Encoder.call of <__main__.Encoder object at 0x000001B05D56D888>> could not be transformed and will be executed as-is. Please report this to the AutoGraph team. When filing the bug, set the verbosity to 10 (on Linux, `export AUTOGRAPH_VERBOSITY=10`) and attach the full output. Cause: Bad argument number for Name: 3, expecting 4\n",
      "WARNING: Entity <bound method Encoder.call of <__main__.Encoder object at 0x000001B05D56D888>> could not be transformed and will be executed as-is. Please report this to the AutoGraph team. When filing the bug, set the verbosity to 10 (on Linux, `export AUTOGRAPH_VERBOSITY=10`) and attach the full output. Cause: Bad argument number for Name: 3, expecting 4\n",
      "WARNING:tensorflow:Entity <bound method Decoder.call of <__main__.Decoder object at 0x000001B05D676188>> could not be transformed and will be executed as-is. Please report this to the AutoGraph team. When filing the bug, set the verbosity to 10 (on Linux, `export AUTOGRAPH_VERBOSITY=10`) and attach the full output. Cause: Bad argument number for Name: 3, expecting 4\n",
      "WARNING: Entity <bound method Decoder.call of <__main__.Decoder object at 0x000001B05D676188>> could not be transformed and will be executed as-is. Please report this to the AutoGraph team. When filing the bug, set the verbosity to 10 (on Linux, `export AUTOGRAPH_VERBOSITY=10`) and attach the full output. Cause: Bad argument number for Name: 3, expecting 4\n",
      "WARNING:tensorflow:Entity <bound method Decoder.call of <__main__.Decoder object at 0x000001B05D669BC8>> could not be transformed and will be executed as-is. Please report this to the AutoGraph team. When filing the bug, set the verbosity to 10 (on Linux, `export AUTOGRAPH_VERBOSITY=10`) and attach the full output. Cause: Bad argument number for Name: 3, expecting 4\n",
      "WARNING: Entity <bound method Decoder.call of <__main__.Decoder object at 0x000001B05D669BC8>> could not be transformed and will be executed as-is. Please report this to the AutoGraph team. When filing the bug, set the verbosity to 10 (on Linux, `export AUTOGRAPH_VERBOSITY=10`) and attach the full output. Cause: Bad argument number for Name: 3, expecting 4\n",
      "Epoch [1], val_loss1: 0.2132, val_loss2: 0.2134\n",
      "Epoch [2], val_loss1: 0.2076, val_loss2: 0.2071\n",
      "Epoch [3], val_loss1: 0.1920, val_loss2: 0.1902\n",
      "Epoch [4], val_loss1: 0.1593, val_loss2: 0.1564\n",
      "Epoch [5], val_loss1: 0.1214, val_loss2: 0.1202\n",
      "Epoch [6], val_loss1: 0.0780, val_loss2: 0.0792\n",
      "Epoch [7], val_loss1: 0.0412, val_loss2: 0.0431\n",
      "Epoch [8], val_loss1: 0.0195, val_loss2: 0.0207\n",
      "Epoch [9], val_loss1: 0.0084, val_loss2: 0.0087\n",
      "Epoch [10], val_loss1: 0.0057, val_loss2: 0.0055\n",
      "Epoch [11], val_loss1: 0.0054, val_loss2: 0.0053\n",
      "Epoch [12], val_loss1: 0.0054, val_loss2: 0.0054\n",
      "Epoch [13], val_loss1: 0.0054, val_loss2: 0.0054\n",
      "Epoch [14], val_loss1: 0.0055, val_loss2: 0.0055\n",
      "Epoch [15], val_loss1: 0.0055, val_loss2: 0.0055\n",
      "Epoch [16], val_loss1: 0.0056, val_loss2: 0.0056\n",
      "Epoch [17], val_loss1: 0.0056, val_loss2: 0.0056\n",
      "Epoch [18], val_loss1: 0.0057, val_loss2: 0.0057\n",
      "Epoch [19], val_loss1: 0.0057, val_loss2: 0.0057\n",
      "Epoch [20], val_loss1: 0.0057, val_loss2: 0.0057\n",
      "Epoch [21], val_loss1: 0.0057, val_loss2: 0.0057\n",
      "Epoch [22], val_loss1: 0.0057, val_loss2: 0.0057\n",
      "Epoch [23], val_loss1: 0.0058, val_loss2: 0.0058\n",
      "Epoch [24], val_loss1: 0.0058, val_loss2: 0.0058\n",
      "Epoch [25], val_loss1: 0.0058, val_loss2: 0.0058\n",
      "Epoch [26], val_loss1: 0.0058, val_loss2: 0.0058\n",
      "Epoch [27], val_loss1: 0.0058, val_loss2: 0.0058\n",
      "Epoch [28], val_loss1: 0.0058, val_loss2: 0.0058\n",
      "Epoch [29], val_loss1: 0.0058, val_loss2: 0.0058\n",
      "Epoch [30], val_loss1: 0.0058, val_loss2: 0.0058\n",
      "Epoch [31], val_loss1: 0.0058, val_loss2: 0.0058\n",
      "Epoch [32], val_loss1: 0.0058, val_loss2: 0.0058\n",
      "Epoch [33], val_loss1: 0.0058, val_loss2: 0.0059\n",
      "Epoch [34], val_loss1: 0.0059, val_loss2: 0.0059\n",
      "Epoch [35], val_loss1: 0.0059, val_loss2: 0.0059\n",
      "Epoch [36], val_loss1: 0.0059, val_loss2: 0.0059\n",
      "Epoch [37], val_loss1: 0.0059, val_loss2: 0.0059\n",
      "Epoch [38], val_loss1: 0.0059, val_loss2: 0.0059\n",
      "Epoch [39], val_loss1: 0.0059, val_loss2: 0.0059\n",
      "Epoch [40], val_loss1: 0.0059, val_loss2: 0.0059\n",
      "Epoch [41], val_loss1: 0.0059, val_loss2: 0.0059\n",
      "Epoch [42], val_loss1: 0.0059, val_loss2: 0.0059\n",
      "Epoch [43], val_loss1: 0.0059, val_loss2: 0.0059\n",
      "Epoch [44], val_loss1: 0.0059, val_loss2: 0.0059\n",
      "Epoch [45], val_loss1: 0.0059, val_loss2: 0.0059\n",
      "Epoch [46], val_loss1: 0.0059, val_loss2: 0.0059\n",
      "Epoch [47], val_loss1: 0.0059, val_loss2: 0.0059\n",
      "Epoch [48], val_loss1: 0.0059, val_loss2: 0.0059\n",
      "Epoch [49], val_loss1: 0.0059, val_loss2: 0.0059\n",
      "Epoch [50], val_loss1: 0.0059, val_loss2: 0.0059\n",
      "Epoch [51], val_loss1: 0.0059, val_loss2: 0.0059\n",
      "Epoch [52], val_loss1: 0.0059, val_loss2: 0.0059\n",
      "Epoch [53], val_loss1: 0.0059, val_loss2: 0.0059\n",
      "Epoch [54], val_loss1: 0.0059, val_loss2: 0.0059\n",
      "Epoch [55], val_loss1: 0.0059, val_loss2: 0.0059\n",
      "Epoch [56], val_loss1: 0.0059, val_loss2: 0.0059\n",
      "Epoch [57], val_loss1: 0.0059, val_loss2: 0.0059\n",
      "Epoch [58], val_loss1: 0.0059, val_loss2: 0.0059\n",
      "Epoch [59], val_loss1: 0.0059, val_loss2: 0.0059\n",
      "Epoch [60], val_loss1: 0.0059, val_loss2: 0.0059\n",
      "Epoch [61], val_loss1: 0.0059, val_loss2: 0.0059\n",
      "Epoch [62], val_loss1: 0.0059, val_loss2: 0.0059\n",
      "Epoch [63], val_loss1: 0.0059, val_loss2: 0.0059\n",
      "Epoch [64], val_loss1: 0.0059, val_loss2: 0.0059\n",
      "Epoch [65], val_loss1: 0.0059, val_loss2: 0.0059\n",
      "Epoch [66], val_loss1: 0.0059, val_loss2: 0.0059\n",
      "Epoch [67], val_loss1: 0.0059, val_loss2: 0.0059\n",
      "Epoch [68], val_loss1: 0.0059, val_loss2: 0.0059\n",
      "Epoch [69], val_loss1: 0.0059, val_loss2: 0.0059\n",
      "Epoch [70], val_loss1: 0.0059, val_loss2: 0.0059\n",
      "Epoch [71], val_loss1: 0.0059, val_loss2: 0.0059\n",
      "Epoch [72], val_loss1: 0.0059, val_loss2: 0.0059\n",
      "Epoch [73], val_loss1: 0.0059, val_loss2: 0.0059\n",
      "Epoch [74], val_loss1: 0.0058, val_loss2: 0.0059\n",
      "Epoch [75], val_loss1: 0.0058, val_loss2: 0.0058\n",
      "Epoch [76], val_loss1: 0.0058, val_loss2: 0.0058\n",
      "Epoch [77], val_loss1: 0.0058, val_loss2: 0.0058\n",
      "Epoch [78], val_loss1: 0.0058, val_loss2: 0.0058\n",
      "Epoch [79], val_loss1: 0.0058, val_loss2: 0.0058\n",
      "Epoch [80], val_loss1: 0.0058, val_loss2: 0.0058\n",
      "Epoch [81], val_loss1: 0.0058, val_loss2: 0.0058\n",
      "Epoch [82], val_loss1: 0.0058, val_loss2: 0.0058\n",
      "Epoch [83], val_loss1: 0.0058, val_loss2: 0.0058\n",
      "Epoch [84], val_loss1: 0.0058, val_loss2: 0.0058\n",
      "Epoch [85], val_loss1: 0.0058, val_loss2: 0.0058\n",
      "Epoch [86], val_loss1: 0.0058, val_loss2: 0.0058\n",
      "Epoch [87], val_loss1: 0.0058, val_loss2: 0.0058\n",
      "Epoch [88], val_loss1: 0.0058, val_loss2: 0.0058\n",
      "Epoch [89], val_loss1: 0.0058, val_loss2: 0.0058\n",
      "Epoch [90], val_loss1: 0.0058, val_loss2: 0.0058\n",
      "Epoch [91], val_loss1: 0.0058, val_loss2: 0.0058\n",
      "Epoch [92], val_loss1: 0.0058, val_loss2: 0.0058\n",
      "Epoch [93], val_loss1: 0.0058, val_loss2: 0.0058\n",
      "Epoch [94], val_loss1: 0.0058, val_loss2: 0.0058\n",
      "Epoch [95], val_loss1: 0.0058, val_loss2: 0.0058\n",
      "Epoch [96], val_loss1: 0.0058, val_loss2: 0.0058\n",
      "Epoch [97], val_loss1: 0.0058, val_loss2: 0.0058\n",
      "Epoch [98], val_loss1: 0.0058, val_loss2: 0.0058\n",
      "Epoch [99], val_loss1: 0.0058, val_loss2: 0.0058\n",
      "Epoch [100], val_loss1: 0.0058, val_loss2: 0.0058\n"
     ]
    }
   ],
   "source": [
    "model_usad = UsadModel(w_size, z_size)\n",
    "model_usad.training(train_loader, test_loader, N_EPOCHS)"
   ]
  },
  {
   "cell_type": "code",
   "execution_count": 16,
   "metadata": {},
   "outputs": [],
   "source": [
    "results = model_usad.testing(test_loader)"
   ]
  },
  {
   "cell_type": "code",
   "execution_count": 17,
   "metadata": {},
   "outputs": [],
   "source": [
    "y_pred = np.concatenate([np.stack(results[:-1]).flatten(), results[-1].flatten()])\n",
    "#y_test = np.concatenate([np.zeros(windows_normal_test.shape[0]),np.ones(windows_attack.shape[0])])"
   ]
  },
  {
   "cell_type": "code",
   "execution_count": 20,
   "metadata": {},
   "outputs": [
    {
     "data": {
      "text/plain": [
       "<matplotlib.axes._subplots.AxesSubplot at 0x1b05db14708>"
      ]
     },
     "execution_count": 20,
     "metadata": {},
     "output_type": "execute_result"
    },
    {
     "data": {
      "image/png": "[encoded data removed]",
      "text/plain": [
       "<Figure size 432x288 with 1 Axes>"
      ]
     },
     "metadata": {
      "needs_background": "light"
     },
     "output_type": "display_data"
    }
   ],
   "source": [
    "pd.DataFrame(y_pred).plot()"
   ]
  },
  {
   "cell_type": "code",
   "execution_count": null,
   "metadata": {},
   "outputs": [],
   "source": []
  },
  {
   "cell_type": "markdown",
   "metadata": {},
   "source": [
    "## Anomaly gap maximize net\n",
    "\n",
    "* 제안 아이디어 검증"
   ]
  },
  {
   "cell_type": "code",
   "execution_count": 22,
   "metadata": {},
   "outputs": [
    {
     "name": "stdout",
     "output_type": "stream",
     "text": [
      "WARNING:tensorflow:Entity <bound method Encoder.call of <__main__.Encoder object at 0x000001B0642F4D08>> could not be transformed and will be executed as-is. Please report this to the AutoGraph team. When filing the bug, set the verbosity to 10 (on Linux, `export AUTOGRAPH_VERBOSITY=10`) and attach the full output. Cause: Bad argument number for Name: 3, expecting 4\n",
      "WARNING: Entity <bound method Encoder.call of <__main__.Encoder object at 0x000001B0642F4D08>> could not be transformed and will be executed as-is. Please report this to the AutoGraph team. When filing the bug, set the verbosity to 10 (on Linux, `export AUTOGRAPH_VERBOSITY=10`) and attach the full output. Cause: Bad argument number for Name: 3, expecting 4\n",
      "WARNING:tensorflow:Entity <bound method Decoder.call of <__main__.Decoder object at 0x000001B0642F44C8>> could not be transformed and will be executed as-is. Please report this to the AutoGraph team. When filing the bug, set the verbosity to 10 (on Linux, `export AUTOGRAPH_VERBOSITY=10`) and attach the full output. Cause: Bad argument number for Name: 3, expecting 4\n",
      "WARNING: Entity <bound method Decoder.call of <__main__.Decoder object at 0x000001B0642F44C8>> could not be transformed and will be executed as-is. Please report this to the AutoGraph team. When filing the bug, set the verbosity to 10 (on Linux, `export AUTOGRAPH_VERBOSITY=10`) and attach the full output. Cause: Bad argument number for Name: 3, expecting 4\n",
      "WARNING:tensorflow:Entity <bound method Decoder.call of <__main__.Decoder object at 0x000001B0642D4888>> could not be transformed and will be executed as-is. Please report this to the AutoGraph team. When filing the bug, set the verbosity to 10 (on Linux, `export AUTOGRAPH_VERBOSITY=10`) and attach the full output. Cause: Bad argument number for Name: 3, expecting 4\n",
      "WARNING: Entity <bound method Decoder.call of <__main__.Decoder object at 0x000001B0642D4888>> could not be transformed and will be executed as-is. Please report this to the AutoGraph team. When filing the bug, set the verbosity to 10 (on Linux, `export AUTOGRAPH_VERBOSITY=10`) and attach the full output. Cause: Bad argument number for Name: 3, expecting 4\n"
     ]
    }
   ],
   "source": [
    "usad_agm = UsadModel_AGM(w_size,z_size)"
   ]
  },
  {
   "cell_type": "code",
   "execution_count": 23,
   "metadata": {
    "collapsed": true,
    "jupyter": {
     "outputs_hidden": true
    }
   },
   "outputs": [
    {
     "name": "stdout",
     "output_type": "stream",
     "text": [
      "Epoch [1], val_loss1: 0.2063, val_loss2: 0.2080, val_loss2: -0.0068\n",
      "Epoch [2], val_loss1: 0.1681, val_loss2: 0.1669, val_loss2: -0.0303\n",
      "Epoch [3], val_loss1: 0.1154, val_loss2: 0.1174, val_loss2: -0.0316\n",
      "Epoch [4], val_loss1: 0.0613, val_loss2: 0.0685, val_loss2: -0.0410\n",
      "Epoch [5], val_loss1: 0.0339, val_loss2: 0.0393, val_loss2: -0.0280\n",
      "Epoch [6], val_loss1: 0.0178, val_loss2: 0.0203, val_loss2: -0.0255\n",
      "Epoch [7], val_loss1: 0.0085, val_loss2: 0.0092, val_loss2: -0.0311\n",
      "Epoch [8], val_loss1: 0.0063, val_loss2: 0.0062, val_loss2: -0.0376\n",
      "Epoch [9], val_loss1: 0.0062, val_loss2: 0.0058, val_loss2: -0.0366\n",
      "Epoch [10], val_loss1: 0.0062, val_loss2: 0.0057, val_loss2: -0.0337\n",
      "Epoch [11], val_loss1: 0.0062, val_loss2: 0.0057, val_loss2: -0.0322\n",
      "Epoch [12], val_loss1: 0.0060, val_loss2: 0.0056, val_loss2: -0.0289\n",
      "Epoch [13], val_loss1: 0.0058, val_loss2: 0.0053, val_loss2: -0.0252\n",
      "Epoch [14], val_loss1: 0.0055, val_loss2: 0.0051, val_loss2: -0.0208\n",
      "Epoch [15], val_loss1: 0.0053, val_loss2: 0.0050, val_loss2: -0.0170\n",
      "Epoch [16], val_loss1: 0.0052, val_loss2: 0.0049, val_loss2: -0.0147\n",
      "Epoch [17], val_loss1: 0.0051, val_loss2: 0.0049, val_loss2: -0.0133\n",
      "Epoch [18], val_loss1: 0.0050, val_loss2: 0.0048, val_loss2: -0.0123\n",
      "Epoch [19], val_loss1: 0.0050, val_loss2: 0.0048, val_loss2: -0.0116\n",
      "Epoch [20], val_loss1: 0.0049, val_loss2: 0.0048, val_loss2: -0.0110\n",
      "Epoch [21], val_loss1: 0.0049, val_loss2: 0.0048, val_loss2: -0.0106\n",
      "Epoch [22], val_loss1: 0.0049, val_loss2: 0.0048, val_loss2: -0.0101\n",
      "Epoch [23], val_loss1: 0.0049, val_loss2: 0.0048, val_loss2: -0.0097\n",
      "Epoch [24], val_loss1: 0.0049, val_loss2: 0.0048, val_loss2: -0.0094\n",
      "Epoch [25], val_loss1: 0.0048, val_loss2: 0.0048, val_loss2: -0.0090\n",
      "Epoch [26], val_loss1: 0.0048, val_loss2: 0.0048, val_loss2: -0.0087\n",
      "Epoch [27], val_loss1: 0.0048, val_loss2: 0.0048, val_loss2: -0.0083\n",
      "Epoch [28], val_loss1: 0.0048, val_loss2: 0.0048, val_loss2: -0.0079\n",
      "Epoch [29], val_loss1: 0.0048, val_loss2: 0.0048, val_loss2: -0.0074\n",
      "Epoch [30], val_loss1: 0.0048, val_loss2: 0.0048, val_loss2: -0.0067\n",
      "Epoch [31], val_loss1: 0.0049, val_loss2: 0.0049, val_loss2: -0.0061\n",
      "Epoch [32], val_loss1: 0.0050, val_loss2: 0.0050, val_loss2: -0.0055\n",
      "Epoch [33], val_loss1: 0.0051, val_loss2: 0.0051, val_loss2: -0.0051\n",
      "Epoch [34], val_loss1: 0.0052, val_loss2: 0.0052, val_loss2: -0.0048\n",
      "Epoch [35], val_loss1: 0.0052, val_loss2: 0.0052, val_loss2: -0.0046\n",
      "Epoch [36], val_loss1: 0.0053, val_loss2: 0.0053, val_loss2: -0.0044\n",
      "Epoch [37], val_loss1: 0.0053, val_loss2: 0.0053, val_loss2: -0.0043\n",
      "Epoch [38], val_loss1: 0.0053, val_loss2: 0.0053, val_loss2: -0.0043\n",
      "Epoch [39], val_loss1: 0.0054, val_loss2: 0.0054, val_loss2: -0.0042\n",
      "Epoch [40], val_loss1: 0.0054, val_loss2: 0.0054, val_loss2: -0.0041\n",
      "Epoch [41], val_loss1: 0.0054, val_loss2: 0.0054, val_loss2: -0.0040\n",
      "Epoch [42], val_loss1: 0.0054, val_loss2: 0.0054, val_loss2: -0.0040\n",
      "Epoch [43], val_loss1: 0.0055, val_loss2: 0.0055, val_loss2: -0.0039\n",
      "Epoch [44], val_loss1: 0.0055, val_loss2: 0.0055, val_loss2: -0.0038\n",
      "Epoch [45], val_loss1: 0.0055, val_loss2: 0.0055, val_loss2: -0.0038\n",
      "Epoch [46], val_loss1: 0.0055, val_loss2: 0.0055, val_loss2: -0.0037\n",
      "Epoch [47], val_loss1: 0.0056, val_loss2: 0.0056, val_loss2: -0.0036\n",
      "Epoch [48], val_loss1: 0.0056, val_loss2: 0.0056, val_loss2: -0.0036\n",
      "Epoch [49], val_loss1: 0.0056, val_loss2: 0.0056, val_loss2: -0.0035\n",
      "Epoch [50], val_loss1: 0.0056, val_loss2: 0.0056, val_loss2: -0.0034\n",
      "Epoch [51], val_loss1: 0.0057, val_loss2: 0.0057, val_loss2: -0.0033\n",
      "Epoch [52], val_loss1: 0.0057, val_loss2: 0.0057, val_loss2: -0.0033\n",
      "Epoch [53], val_loss1: 0.0057, val_loss2: 0.0057, val_loss2: -0.0032\n",
      "Epoch [54], val_loss1: 0.0057, val_loss2: 0.0057, val_loss2: -0.0031\n",
      "Epoch [55], val_loss1: 0.0057, val_loss2: 0.0057, val_loss2: -0.0031\n",
      "Epoch [56], val_loss1: 0.0057, val_loss2: 0.0057, val_loss2: -0.0030\n",
      "Epoch [57], val_loss1: 0.0058, val_loss2: 0.0058, val_loss2: -0.0030\n",
      "Epoch [58], val_loss1: 0.0058, val_loss2: 0.0058, val_loss2: -0.0029\n",
      "Epoch [59], val_loss1: 0.0058, val_loss2: 0.0058, val_loss2: -0.0029\n",
      "Epoch [60], val_loss1: 0.0058, val_loss2: 0.0058, val_loss2: -0.0028\n",
      "Epoch [61], val_loss1: 0.0058, val_loss2: 0.0058, val_loss2: -0.0028\n",
      "Epoch [62], val_loss1: 0.0058, val_loss2: 0.0058, val_loss2: -0.0028\n",
      "Epoch [63], val_loss1: 0.0058, val_loss2: 0.0058, val_loss2: -0.0027\n",
      "Epoch [64], val_loss1: 0.0058, val_loss2: 0.0058, val_loss2: -0.0027\n",
      "Epoch [65], val_loss1: 0.0059, val_loss2: 0.0059, val_loss2: -0.0027\n",
      "Epoch [66], val_loss1: 0.0059, val_loss2: 0.0059, val_loss2: -0.0026\n",
      "Epoch [67], val_loss1: 0.0059, val_loss2: 0.0059, val_loss2: -0.0026\n",
      "Epoch [68], val_loss1: 0.0059, val_loss2: 0.0059, val_loss2: -0.0025\n",
      "Epoch [69], val_loss1: 0.0059, val_loss2: 0.0059, val_loss2: -0.0025\n",
      "Epoch [70], val_loss1: 0.0059, val_loss2: 0.0059, val_loss2: -0.0025\n",
      "Epoch [71], val_loss1: 0.0059, val_loss2: 0.0059, val_loss2: -0.0024\n",
      "Epoch [72], val_loss1: 0.0059, val_loss2: 0.0059, val_loss2: -0.0024\n",
      "Epoch [73], val_loss1: 0.0059, val_loss2: 0.0059, val_loss2: -0.0023\n",
      "Epoch [74], val_loss1: 0.0060, val_loss2: 0.0060, val_loss2: -0.0023\n",
      "Epoch [75], val_loss1: 0.0060, val_loss2: 0.0060, val_loss2: -0.0023\n",
      "Epoch [76], val_loss1: 0.0060, val_loss2: 0.0060, val_loss2: -0.0022\n",
      "Epoch [77], val_loss1: 0.0060, val_loss2: 0.0060, val_loss2: -0.0022\n",
      "Epoch [78], val_loss1: 0.0060, val_loss2: 0.0060, val_loss2: -0.0022\n",
      "Epoch [79], val_loss1: 0.0060, val_loss2: 0.0060, val_loss2: -0.0021\n",
      "Epoch [80], val_loss1: 0.0060, val_loss2: 0.0060, val_loss2: -0.0021\n",
      "Epoch [81], val_loss1: 0.0060, val_loss2: 0.0060, val_loss2: -0.0020\n",
      "Epoch [82], val_loss1: 0.0060, val_loss2: 0.0060, val_loss2: -0.0020\n",
      "Epoch [83], val_loss1: 0.0060, val_loss2: 0.0060, val_loss2: -0.0020\n",
      "Epoch [84], val_loss1: 0.0061, val_loss2: 0.0061, val_loss2: -0.0019\n",
      "Epoch [85], val_loss1: 0.0061, val_loss2: 0.0061, val_loss2: -0.0019\n",
      "Epoch [86], val_loss1: 0.0061, val_loss2: 0.0061, val_loss2: -0.0018\n",
      "Epoch [87], val_loss1: 0.0061, val_loss2: 0.0061, val_loss2: -0.0018\n",
      "Epoch [88], val_loss1: 0.0061, val_loss2: 0.0061, val_loss2: -0.0017\n",
      "Epoch [89], val_loss1: 0.0061, val_loss2: 0.0061, val_loss2: -0.0017\n",
      "Epoch [90], val_loss1: 0.0061, val_loss2: 0.0061, val_loss2: -0.0016\n",
      "Epoch [91], val_loss1: 0.0062, val_loss2: 0.0062, val_loss2: -0.0016\n",
      "Epoch [92], val_loss1: 0.0062, val_loss2: 0.0062, val_loss2: -0.0016\n",
      "Epoch [93], val_loss1: 0.0062, val_loss2: 0.0062, val_loss2: -0.0016\n",
      "Epoch [94], val_loss1: 0.0062, val_loss2: 0.0062, val_loss2: -0.0016\n",
      "Epoch [95], val_loss1: 0.0062, val_loss2: 0.0062, val_loss2: -0.0016\n",
      "Epoch [96], val_loss1: 0.0062, val_loss2: 0.0062, val_loss2: -0.0016\n",
      "Epoch [97], val_loss1: 0.0062, val_loss2: 0.0062, val_loss2: -0.0016\n",
      "Epoch [98], val_loss1: 0.0062, val_loss2: 0.0062, val_loss2: -0.0016\n",
      "Epoch [99], val_loss1: 0.0062, val_loss2: 0.0062, val_loss2: -0.0016\n",
      "Epoch [100], val_loss1: 0.0062, val_loss2: 0.0062, val_loss2: -0.0016\n"
     ]
    }
   ],
   "source": [
    "usad_agm.training(train_loader, test_loader, N_EPOCHS)"
   ]
  },
  {
   "cell_type": "code",
   "execution_count": null,
   "metadata": {},
   "outputs": [],
   "source": []
  },
  {
   "cell_type": "markdown",
   "metadata": {
    "id": "ymhjbmvR_DgJ"
   },
   "source": [
    "## Testing"
   ]
  },
  {
   "cell_type": "code",
   "execution_count": 24,
   "metadata": {},
   "outputs": [],
   "source": [
    "results = model_usad.testing(test_loader)"
   ]
  },
  {
   "cell_type": "code",
   "execution_count": 25,
   "metadata": {},
   "outputs": [],
   "source": [
    "y_pred = np.concatenate([np.stack(results[:-1]).flatten(), results[-1].flatten()])"
   ]
  },
  {
   "cell_type": "code",
   "execution_count": 26,
   "metadata": {},
   "outputs": [
    {
     "data": {
      "text/plain": [
       "<matplotlib.axes._subplots.AxesSubplot at 0x1b063c67708>"
      ]
     },
     "execution_count": 26,
     "metadata": {},
     "output_type": "execute_result"
    },
    {
     "data": {
      "image/png": "[encoded data removed]",
      "text/plain": [
       "<Figure size 432x288 with 1 Axes>"
      ]
     },
     "metadata": {
      "needs_background": "light"
     },
     "output_type": "display_data"
    }
   ],
   "source": [
    "pd.DataFrame(y_pred).plot()"
   ]
  },
  {
   "cell_type": "code",
   "execution_count": null,
   "metadata": {},
   "outputs": [],
   "source": []
  }
 ],
 "metadata": {
  "accelerator": "GPU",
  "colab": {
   "name": "USAD_test.ipynb",
   "provenance": [],
   "toc_visible": true
  },
  "kernelspec": {
   "display_name": "Python 3",
   "language": "python",
   "name": "python3"
  },
  "language_info": {
   "codemirror_mode": {
    "name": "ipython",
    "version": 3
   },
   "file_extension": ".py",
   "mimetype": "text/x-python",
   "name": "python",
   "nbconvert_exporter": "python",
   "pygments_lexer": "ipython3",
   "version": "3.7.10"
  }
 },
 "nbformat": 4,
 "nbformat_minor": 4
}
