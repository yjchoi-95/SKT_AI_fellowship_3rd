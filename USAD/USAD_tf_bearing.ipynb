{
 "cells": [
  {
   "cell_type": "markdown",
   "metadata": {
    "id": "etniX_KTlJ5U"
   },
   "source": [
    "# USAD"
   ]
  },
  {
   "cell_type": "markdown",
   "metadata": {
    "id": "N3jM0qLU8MgZ"
   },
   "source": [
    "## Environment"
   ]
  },
  {
   "cell_type": "code",
   "execution_count": 1,
   "metadata": {
    "id": "6u1DGKsAlLF-"
   },
   "outputs": [],
   "source": [
    "from utils import *\n",
    "from usad import *\n",
    "\n",
    "import numpy as np\n",
    "import pandas as pd\n",
    "import matplotlib.pyplot as plt\n",
    "import seaborn as sns\n",
    "import tensorflow as tf\n",
    "\n",
    "tf.enable_eager_execution()"
   ]
  },
  {
   "cell_type": "code",
   "execution_count": null,
   "metadata": {},
   "outputs": [],
   "source": []
  },
  {
   "cell_type": "markdown",
   "metadata": {
    "id": "1crx5rGP9ONf"
   },
   "source": [
    "## EDA - Data Pre-Processing"
   ]
  },
  {
   "cell_type": "markdown",
   "metadata": {
    "id": "kfSj4FYL9W8Y"
   },
   "source": [
    "### Normal period"
   ]
  },
  {
   "cell_type": "code",
   "execution_count": 2,
   "metadata": {
    "colab": {
     "base_uri": "https://localhost:8080/",
     "height": 87
    },
    "id": "XeDLxV_r1G9n",
    "outputId": "576538dd-64f2-46fa-8e6f-6c2ffdebad15"
   },
   "outputs": [
    {
     "data": {
      "text/plain": [
       "(2803, 2)"
      ]
     },
     "execution_count": 2,
     "metadata": {},
     "output_type": "execute_result"
    }
   ],
   "source": [
    "data_path = \"C:\\\\Users\\\\PC\\\\OneDrive\\\\문서\\\\GitHub\\\\datasets\\\\\"\n",
    "\n",
    "#Read data\n",
    "data = pd.read_csv(data_path + \"Bearing1_1_top5_result.csv\")\n",
    "data.shape"
   ]
  },
  {
   "cell_type": "code",
   "execution_count": null,
   "metadata": {},
   "outputs": [],
   "source": []
  },
  {
   "cell_type": "markdown",
   "metadata": {
    "id": "zxFNH5kU9hIE"
   },
   "source": [
    "#### Normalization"
   ]
  },
  {
   "cell_type": "code",
   "execution_count": 4,
   "metadata": {
    "id": "Mfxj4Uxn9kv4"
   },
   "outputs": [],
   "source": [
    "from sklearn import preprocessing\n",
    "min_max_scaler = preprocessing.MinMaxScaler()\n",
    "\n",
    "x = data.values\n",
    "x_scaled = min_max_scaler.fit_transform(x)\n",
    "scaled_data = pd.DataFrame(x_scaled)"
   ]
  },
  {
   "cell_type": "code",
   "execution_count": 5,
   "metadata": {
    "colab": {
     "base_uri": "https://localhost:8080/",
     "height": 126
    },
    "id": "mQ6_U4jn9nlw",
    "outputId": "f1cc1bd6-f1cc-4764-b1cc-2fd989ac4918"
   },
   "outputs": [
    {
     "data": {
      "text/html": [
       "<div>\n",
       "<style scoped>\n",
       "    .dataframe tbody tr th:only-of-type {\n",
       "        vertical-align: middle;\n",
       "    }\n",
       "\n",
       "    .dataframe tbody tr th {\n",
       "        vertical-align: top;\n",
       "    }\n",
       "\n",
       "    .dataframe thead th {\n",
       "        text-align: right;\n",
       "    }\n",
       "</style>\n",
       "<table border=\"1\" class=\"dataframe\">\n",
       "  <thead>\n",
       "    <tr style=\"text-align: right;\">\n",
       "      <th></th>\n",
       "      <th>0</th>\n",
       "      <th>1</th>\n",
       "    </tr>\n",
       "  </thead>\n",
       "  <tbody>\n",
       "    <tr>\n",
       "      <th>0</th>\n",
       "      <td>0.025027</td>\n",
       "      <td>0.014330</td>\n",
       "    </tr>\n",
       "    <tr>\n",
       "      <th>1</th>\n",
       "      <td>0.021423</td>\n",
       "      <td>0.015064</td>\n",
       "    </tr>\n",
       "  </tbody>\n",
       "</table>\n",
       "</div>"
      ],
      "text/plain": [
       "          0         1\n",
       "0  0.025027  0.014330\n",
       "1  0.021423  0.015064"
      ]
     },
     "execution_count": 5,
     "metadata": {},
     "output_type": "execute_result"
    }
   ],
   "source": [
    "scaled_data.head(2)"
   ]
  },
  {
   "cell_type": "code",
   "execution_count": null,
   "metadata": {},
   "outputs": [],
   "source": []
  },
  {
   "cell_type": "markdown",
   "metadata": {
    "id": "xXJi503b-j_d"
   },
   "source": [
    "### Windows"
   ]
  },
  {
   "cell_type": "code",
   "execution_count": 6,
   "metadata": {
    "id": "vyplttZa-BRN"
   },
   "outputs": [],
   "source": [
    "window_size=12"
   ]
  },
  {
   "cell_type": "code",
   "execution_count": 7,
   "metadata": {
    "colab": {
     "base_uri": "https://localhost:8080/",
     "height": 34
    },
    "id": "dzGJMp6Y-BN5",
    "outputId": "2949d278-1313-442c-f06b-275a8c6c6578"
   },
   "outputs": [
    {
     "data": {
      "text/plain": [
       "(2791, 12, 2)"
      ]
     },
     "execution_count": 7,
     "metadata": {},
     "output_type": "execute_result"
    }
   ],
   "source": [
    "windows_normal=scaled_data.values[np.arange(window_size)[None, :] + np.arange(scaled_data.shape[0]-window_size)[:, None]]\n",
    "windows_normal.shape"
   ]
  },
  {
   "cell_type": "code",
   "execution_count": null,
   "metadata": {},
   "outputs": [],
   "source": []
  },
  {
   "cell_type": "markdown",
   "metadata": {
    "id": "k70ZFxGs-_7m"
   },
   "source": [
    "## Training"
   ]
  },
  {
   "cell_type": "code",
   "execution_count": 8,
   "metadata": {},
   "outputs": [],
   "source": [
    "BATCH_SIZE = 32\n",
    "N_EPOCHS = 100\n",
    "hidden_size = 10\n",
    "\n",
    "w_size=windows_normal.shape[1]*windows_normal.shape[2]\n",
    "z_size=windows_normal.shape[1]*hidden_size\n",
    "\n",
    "windows_normal_train = windows_normal[:400]\n",
    "windows_normal_test = windows_normal[400:]"
   ]
  },
  {
   "cell_type": "code",
   "execution_count": 9,
   "metadata": {},
   "outputs": [],
   "source": [
    "from tensorflow.keras.utils import Sequence\n",
    "import math\n",
    "\n",
    "class Dataloader(Sequence):\n",
    "    def __init__(self, x_set, y_set, batch_size, shuffle=False):\n",
    "        self.x, self.y = x_set, y_set\n",
    "        self.batch_size = batch_size\n",
    "        self.shuffle=shuffle\n",
    "        self.on_epoch_end()\n",
    "\n",
    "    def __len__(self):\n",
    "        return math.ceil(len(self.x) / self.batch_size)\n",
    "\n",
    "    # batch 단위로 직접 묶어줘야 함\n",
    "    def __getitem__(self, idx):\n",
    "        # sampler의 역할(index를 batch_size만큼 sampling해줌)\n",
    "        indices = self.indices[idx*self.batch_size:(idx+1)*self.batch_size]\n",
    "\n",
    "        batch_x = [self.x[i] for i in indices]\n",
    "        batch_y = [self.y[i] for i in indices]\n",
    "\n",
    "        return np.array(batch_x), np.array(batch_y)\n",
    "\n",
    "    # epoch이 끝날때마다 실행\n",
    "    def on_epoch_end(self):\n",
    "        self.indices = np.arange(len(self.x))\n",
    "        if self.shuffle == True:\n",
    "            np.random.shuffle(self.indices)"
   ]
  },
  {
   "cell_type": "code",
   "execution_count": 10,
   "metadata": {},
   "outputs": [],
   "source": [
    "windows_normal_train_re = windows_normal_train.reshape(windows_normal_train.shape[0], w_size)\n",
    "windows_normal_test_re = windows_normal_test.reshape(windows_normal_test.shape[0], w_size)"
   ]
  },
  {
   "cell_type": "code",
   "execution_count": 11,
   "metadata": {},
   "outputs": [],
   "source": [
    "train_loader = Dataloader(windows_normal_train_re,windows_normal_train_re,BATCH_SIZE)\n",
    "test_loader = Dataloader(windows_normal_test_re,windows_normal_test_re,BATCH_SIZE)"
   ]
  },
  {
   "cell_type": "code",
   "execution_count": null,
   "metadata": {},
   "outputs": [],
   "source": []
  },
  {
   "cell_type": "markdown",
   "metadata": {},
   "source": [
    "* USAD tensorflow"
   ]
  },
  {
   "cell_type": "code",
   "execution_count": 12,
   "metadata": {},
   "outputs": [],
   "source": [
    "class Encoder(tf.keras.Model) :\n",
    "    def __init__(self, in_size, latent_size):\n",
    "        super().__init__()\n",
    "        self.model = tf.keras.Sequential([\n",
    "            tf.keras.Input(shape = (in_size)),\n",
    "            tf.keras.layers.Dense(int(in_size/2), activation = \"relu\"),\n",
    "            tf.keras.layers.Dense(int(in_size/4), activation = \"relu\"),\n",
    "            tf.keras.layers.Dense(latent_size, activation = \"relu\")\n",
    "        ])\n",
    "    \n",
    "    def call(self, x) :\n",
    "        z = self.model(x)\n",
    "        return z\n",
    "    \n",
    "class Decoder(tf.keras.Model) :\n",
    "    def __init__(self, latent_size, out_size):\n",
    "        super().__init__()\n",
    "        self.model = tf.keras.Sequential([\n",
    "            tf.keras.Input(shape = (latent_size)),\n",
    "            tf.keras.layers.Dense(int(out_size/4), activation = \"relu\"),\n",
    "            tf.keras.layers.Dense(int(out_size/2), activation = \"relu\"),\n",
    "            tf.keras.layers.Dense(out_size, activation = \"sigmoid\")\n",
    "        ])\n",
    "    \n",
    "    def call(self, x) :\n",
    "        w = self.model(x)\n",
    "        return w\n",
    "    \n",
    "class UsadModel(tf.keras.Model):\n",
    "    def __init__(self, w_size, z_size, alpha = .5, beta = .5):\n",
    "        super().__init__()\n",
    "        self.encoder = Encoder(w_size, z_size)\n",
    "        self.decoder1 = Decoder(z_size, w_size)\n",
    "        self.decoder2 = Decoder(z_size, w_size)\n",
    "        \n",
    "        self.latent_vector = self.encoder(self.encoder.model.inputs)\n",
    "        self.ae_output1 = self.decoder1(self.latent_vector)\n",
    "        self.ae_output2 = self.decoder2(self.latent_vector)\n",
    "\n",
    "        self.ae_model1 = tf.keras.Model(inputs = self.encoder.model.inputs, outputs = self.ae_output1)\n",
    "        self.ae_model2 = tf.keras.Model(inputs = self.encoder.model.inputs, outputs = self.ae_output2)\n",
    "        \n",
    "        self.optimizer = tf.keras.optimizers.Adam()\n",
    "        \n",
    "        self.alpha, self.beta = alpha, beta\n",
    "        \n",
    "    def evaluate(self, val_loader, n):\n",
    "        outputs = [self.validation_step(batch, n) for batch in val_loader]\n",
    "        return self.validation_epoch_end(outputs)\n",
    "    \n",
    "    def testing(self, test_loader):\n",
    "        results=[]\n",
    "        for batch, _ in test_loader:\n",
    "            w1=self.ae_model1(batch)\n",
    "            w2=self.ae_model2(w1)\n",
    "            results.append(self.alpha*np.mean((batch-w1).numpy()**2, axis = 1)+self.beta*np.mean((batch-w2).numpy()**2, axis = 1))\n",
    "        return results\n",
    "        \n",
    "    def call(self, x):\n",
    "        z = self.encoder(x)\n",
    "        w1 = self.decoder1(z)\n",
    "        w2 = self.decoder2(z)\n",
    "        w3 = self.decoder2(self.encoder(w1))\n",
    "        return w1, w2, w3\n",
    "    \n",
    "    def loss_fn(self, batch, n) :\n",
    "        loss1 = 1/n*tf.reduce_mean(tf.square(batch-self.w1)) + (1-1/n)*tf.reduce_mean(tf.square(batch-self.w3))\n",
    "        loss2 = 1/n*tf.reduce_mean(tf.square(batch-self.w2)) + (1-1/n)*tf.reduce_mean(tf.square(batch-self.w3))\n",
    "        \n",
    "        return loss1, loss2\n",
    "    \n",
    "    def training(self, train_loader, val_loader, num_epochs):\n",
    "        for n in range(num_epochs): \n",
    "            n += 1\n",
    "            \n",
    "            loss1_list, loss2_list = [], []\n",
    "            self.history = []\n",
    "            \n",
    "            # Iterate over the batches of a dataset.\n",
    "            for x_batch_train, y_batch_train in train_loader:\n",
    "                with tf.GradientTape() as ae1_tape, tf.GradientTape() as ae2_tape:\n",
    "                    self.z = self.encoder(x_batch_train)\n",
    "                    self.w1 = self.decoder1(self.z)\n",
    "                    self.w2 = self.decoder2(self.z)\n",
    "                    self.w3 = self.decoder2(self.encoder(self.w1))\n",
    "\n",
    "                    # Loss value for this minibatch\n",
    "                    loss1, loss2 = self.loss_fn(x_batch_train, n)\n",
    "                    \n",
    "                    # Add extra losses created during this forward pass:\n",
    "                    #loss_value += sum(model.losses)\n",
    "\n",
    "                grads_ae1 = ae1_tape.gradient(loss1, self.ae_model1.trainable_weights)\n",
    "                self.optimizer.apply_gradients(zip(grads_ae1, self.ae_model1.trainable_weights))\n",
    "                grads_ae2 = ae2_tape.gradient(loss2, self.ae_model2.trainable_weights)\n",
    "                self.optimizer.apply_gradients(zip(grads_ae2, self.ae_model2.trainable_weights))\n",
    "                loss1_list.append(loss1)\n",
    "                loss2_list.append(loss2)\n",
    "                \n",
    "            #print(\"Epoch [{}], train_loss1: {:.4f}, train_loss2: {:.4f}\".format(n, np.mean(loss1_list), np.mean(loss2_list)))\n",
    "            result = self.evaluate(val_loader, n)\n",
    "            self.epoch_end(n, result)\n",
    "            self.history.append(result)\n",
    "            \n",
    "    def validation_step(self, batch, n):\n",
    "        z = self.encoder(batch)\n",
    "        w1 = self.decoder1(z)\n",
    "        w2 = self.decoder2(z)\n",
    "        w3 = self.decoder2(self.encoder(w1))\n",
    "        loss1 = 1/n*tf.reduce_mean(tf.square(batch-w1)) + (1-1/n)*tf.reduce_mean(tf.square(batch-w3))\n",
    "        loss2 = 1/n*tf.reduce_mean(tf.square(batch-w2)) + (1-1/n)*tf.reduce_mean(tf.square(batch-w3))\n",
    "        \n",
    "        return {'val_loss1': loss1, 'val_loss2': loss2}\n",
    "    \n",
    "    def validation_epoch_end(self, outputs):\n",
    "        batch_losses1 = [x['val_loss1'] for x in outputs]\n",
    "        epoch_loss1 = tf.reduce_mean(batch_losses1)\n",
    "        batch_losses2 = [x['val_loss2'] for x in outputs]\n",
    "        epoch_loss2 = tf.reduce_mean(batch_losses2)\n",
    "        return {'val_loss1': epoch_loss1.numpy(), 'val_loss2': epoch_loss2.numpy()}\n",
    "    \n",
    "    def epoch_end(self, epoch, result):\n",
    "        print(\"Epoch [{}], val_loss1: {:.4f}, val_loss2: {:.4f}\".format(epoch, result['val_loss1'], result['val_loss2']))"
   ]
  },
  {
   "cell_type": "code",
   "execution_count": 15,
   "metadata": {
    "collapsed": true,
    "jupyter": {
     "outputs_hidden": true
    }
   },
   "outputs": [
    {
     "name": "stdout",
     "output_type": "stream",
     "text": [
      "WARNING:tensorflow:Entity <bound method Encoder.call of <__main__.Encoder object at 0x000001B05D56D888>> could not be transformed and will be executed as-is. Please report this to the AutoGraph team. When filing the bug, set the verbosity to 10 (on Linux, `export AUTOGRAPH_VERBOSITY=10`) and attach the full output. Cause: Bad argument number for Name: 3, expecting 4\n",
      "WARNING: Entity <bound method Encoder.call of <__main__.Encoder object at 0x000001B05D56D888>> could not be transformed and will be executed as-is. Please report this to the AutoGraph team. When filing the bug, set the verbosity to 10 (on Linux, `export AUTOGRAPH_VERBOSITY=10`) and attach the full output. Cause: Bad argument number for Name: 3, expecting 4\n",
      "WARNING:tensorflow:Entity <bound method Decoder.call of <__main__.Decoder object at 0x000001B05D676188>> could not be transformed and will be executed as-is. Please report this to the AutoGraph team. When filing the bug, set the verbosity to 10 (on Linux, `export AUTOGRAPH_VERBOSITY=10`) and attach the full output. Cause: Bad argument number for Name: 3, expecting 4\n",
      "WARNING: Entity <bound method Decoder.call of <__main__.Decoder object at 0x000001B05D676188>> could not be transformed and will be executed as-is. Please report this to the AutoGraph team. When filing the bug, set the verbosity to 10 (on Linux, `export AUTOGRAPH_VERBOSITY=10`) and attach the full output. Cause: Bad argument number for Name: 3, expecting 4\n",
      "WARNING:tensorflow:Entity <bound method Decoder.call of <__main__.Decoder object at 0x000001B05D669BC8>> could not be transformed and will be executed as-is. Please report this to the AutoGraph team. When filing the bug, set the verbosity to 10 (on Linux, `export AUTOGRAPH_VERBOSITY=10`) and attach the full output. Cause: Bad argument number for Name: 3, expecting 4\n",
      "WARNING: Entity <bound method Decoder.call of <__main__.Decoder object at 0x000001B05D669BC8>> could not be transformed and will be executed as-is. Please report this to the AutoGraph team. When filing the bug, set the verbosity to 10 (on Linux, `export AUTOGRAPH_VERBOSITY=10`) and attach the full output. Cause: Bad argument number for Name: 3, expecting 4\n",
      "Epoch [1], val_loss1: 0.2132, val_loss2: 0.2134\n",
      "Epoch [2], val_loss1: 0.2076, val_loss2: 0.2071\n",
      "Epoch [3], val_loss1: 0.1920, val_loss2: 0.1902\n",
      "Epoch [4], val_loss1: 0.1593, val_loss2: 0.1564\n",
      "Epoch [5], val_loss1: 0.1214, val_loss2: 0.1202\n",
      "Epoch [6], val_loss1: 0.0780, val_loss2: 0.0792\n",
      "Epoch [7], val_loss1: 0.0412, val_loss2: 0.0431\n",
      "Epoch [8], val_loss1: 0.0195, val_loss2: 0.0207\n",
      "Epoch [9], val_loss1: 0.0084, val_loss2: 0.0087\n",
      "Epoch [10], val_loss1: 0.0057, val_loss2: 0.0055\n",
      "Epoch [11], val_loss1: 0.0054, val_loss2: 0.0053\n",
      "Epoch [12], val_loss1: 0.0054, val_loss2: 0.0054\n",
      "Epoch [13], val_loss1: 0.0054, val_loss2: 0.0054\n",
      "Epoch [14], val_loss1: 0.0055, val_loss2: 0.0055\n",
      "Epoch [15], val_loss1: 0.0055, val_loss2: 0.0055\n",
      "Epoch [16], val_loss1: 0.0056, val_loss2: 0.0056\n",
      "Epoch [17], val_loss1: 0.0056, val_loss2: 0.0056\n",
      "Epoch [18], val_loss1: 0.0057, val_loss2: 0.0057\n",
      "Epoch [19], val_loss1: 0.0057, val_loss2: 0.0057\n",
      "Epoch [20], val_loss1: 0.0057, val_loss2: 0.0057\n",
      "Epoch [21], val_loss1: 0.0057, val_loss2: 0.0057\n",
      "Epoch [22], val_loss1: 0.0057, val_loss2: 0.0057\n",
      "Epoch [23], val_loss1: 0.0058, val_loss2: 0.0058\n",
      "Epoch [24], val_loss1: 0.0058, val_loss2: 0.0058\n",
      "Epoch [25], val_loss1: 0.0058, val_loss2: 0.0058\n",
      "Epoch [26], val_loss1: 0.0058, val_loss2: 0.0058\n",
      "Epoch [27], val_loss1: 0.0058, val_loss2: 0.0058\n",
      "Epoch [28], val_loss1: 0.0058, val_loss2: 0.0058\n",
      "Epoch [29], val_loss1: 0.0058, val_loss2: 0.0058\n",
      "Epoch [30], val_loss1: 0.0058, val_loss2: 0.0058\n",
      "Epoch [31], val_loss1: 0.0058, val_loss2: 0.0058\n",
      "Epoch [32], val_loss1: 0.0058, val_loss2: 0.0058\n",
      "Epoch [33], val_loss1: 0.0058, val_loss2: 0.0059\n",
      "Epoch [34], val_loss1: 0.0059, val_loss2: 0.0059\n",
      "Epoch [35], val_loss1: 0.0059, val_loss2: 0.0059\n",
      "Epoch [36], val_loss1: 0.0059, val_loss2: 0.0059\n",
      "Epoch [37], val_loss1: 0.0059, val_loss2: 0.0059\n",
      "Epoch [38], val_loss1: 0.0059, val_loss2: 0.0059\n",
      "Epoch [39], val_loss1: 0.0059, val_loss2: 0.0059\n",
      "Epoch [40], val_loss1: 0.0059, val_loss2: 0.0059\n",
      "Epoch [41], val_loss1: 0.0059, val_loss2: 0.0059\n",
      "Epoch [42], val_loss1: 0.0059, val_loss2: 0.0059\n",
      "Epoch [43], val_loss1: 0.0059, val_loss2: 0.0059\n",
      "Epoch [44], val_loss1: 0.0059, val_loss2: 0.0059\n",
      "Epoch [45], val_loss1: 0.0059, val_loss2: 0.0059\n",
      "Epoch [46], val_loss1: 0.0059, val_loss2: 0.0059\n",
      "Epoch [47], val_loss1: 0.0059, val_loss2: 0.0059\n",
      "Epoch [48], val_loss1: 0.0059, val_loss2: 0.0059\n",
      "Epoch [49], val_loss1: 0.0059, val_loss2: 0.0059\n",
      "Epoch [50], val_loss1: 0.0059, val_loss2: 0.0059\n",
      "Epoch [51], val_loss1: 0.0059, val_loss2: 0.0059\n",
      "Epoch [52], val_loss1: 0.0059, val_loss2: 0.0059\n",
      "Epoch [53], val_loss1: 0.0059, val_loss2: 0.0059\n",
      "Epoch [54], val_loss1: 0.0059, val_loss2: 0.0059\n",
      "Epoch [55], val_loss1: 0.0059, val_loss2: 0.0059\n",
      "Epoch [56], val_loss1: 0.0059, val_loss2: 0.0059\n",
      "Epoch [57], val_loss1: 0.0059, val_loss2: 0.0059\n",
      "Epoch [58], val_loss1: 0.0059, val_loss2: 0.0059\n",
      "Epoch [59], val_loss1: 0.0059, val_loss2: 0.0059\n",
      "Epoch [60], val_loss1: 0.0059, val_loss2: 0.0059\n",
      "Epoch [61], val_loss1: 0.0059, val_loss2: 0.0059\n",
      "Epoch [62], val_loss1: 0.0059, val_loss2: 0.0059\n",
      "Epoch [63], val_loss1: 0.0059, val_loss2: 0.0059\n",
      "Epoch [64], val_loss1: 0.0059, val_loss2: 0.0059\n",
      "Epoch [65], val_loss1: 0.0059, val_loss2: 0.0059\n",
      "Epoch [66], val_loss1: 0.0059, val_loss2: 0.0059\n",
      "Epoch [67], val_loss1: 0.0059, val_loss2: 0.0059\n",
      "Epoch [68], val_loss1: 0.0059, val_loss2: 0.0059\n",
      "Epoch [69], val_loss1: 0.0059, val_loss2: 0.0059\n",
      "Epoch [70], val_loss1: 0.0059, val_loss2: 0.0059\n",
      "Epoch [71], val_loss1: 0.0059, val_loss2: 0.0059\n",
      "Epoch [72], val_loss1: 0.0059, val_loss2: 0.0059\n",
      "Epoch [73], val_loss1: 0.0059, val_loss2: 0.0059\n",
      "Epoch [74], val_loss1: 0.0058, val_loss2: 0.0059\n",
      "Epoch [75], val_loss1: 0.0058, val_loss2: 0.0058\n",
      "Epoch [76], val_loss1: 0.0058, val_loss2: 0.0058\n",
      "Epoch [77], val_loss1: 0.0058, val_loss2: 0.0058\n",
      "Epoch [78], val_loss1: 0.0058, val_loss2: 0.0058\n",
      "Epoch [79], val_loss1: 0.0058, val_loss2: 0.0058\n",
      "Epoch [80], val_loss1: 0.0058, val_loss2: 0.0058\n",
      "Epoch [81], val_loss1: 0.0058, val_loss2: 0.0058\n",
      "Epoch [82], val_loss1: 0.0058, val_loss2: 0.0058\n",
      "Epoch [83], val_loss1: 0.0058, val_loss2: 0.0058\n",
      "Epoch [84], val_loss1: 0.0058, val_loss2: 0.0058\n",
      "Epoch [85], val_loss1: 0.0058, val_loss2: 0.0058\n",
      "Epoch [86], val_loss1: 0.0058, val_loss2: 0.0058\n",
      "Epoch [87], val_loss1: 0.0058, val_loss2: 0.0058\n",
      "Epoch [88], val_loss1: 0.0058, val_loss2: 0.0058\n",
      "Epoch [89], val_loss1: 0.0058, val_loss2: 0.0058\n",
      "Epoch [90], val_loss1: 0.0058, val_loss2: 0.0058\n",
      "Epoch [91], val_loss1: 0.0058, val_loss2: 0.0058\n",
      "Epoch [92], val_loss1: 0.0058, val_loss2: 0.0058\n",
      "Epoch [93], val_loss1: 0.0058, val_loss2: 0.0058\n",
      "Epoch [94], val_loss1: 0.0058, val_loss2: 0.0058\n",
      "Epoch [95], val_loss1: 0.0058, val_loss2: 0.0058\n",
      "Epoch [96], val_loss1: 0.0058, val_loss2: 0.0058\n",
      "Epoch [97], val_loss1: 0.0058, val_loss2: 0.0058\n",
      "Epoch [98], val_loss1: 0.0058, val_loss2: 0.0058\n",
      "Epoch [99], val_loss1: 0.0058, val_loss2: 0.0058\n",
      "Epoch [100], val_loss1: 0.0058, val_loss2: 0.0058\n"
     ]
    }
   ],
   "source": [
    "model_usad = UsadModel(w_size, z_size)\n",
    "model_usad.training(train_loader, test_loader, N_EPOCHS)"
   ]
  },
  {
   "cell_type": "code",
   "execution_count": 16,
   "metadata": {},
   "outputs": [],
   "source": [
    "results = model_usad.testing(test_loader)"
   ]
  },
  {
   "cell_type": "code",
   "execution_count": 17,
   "metadata": {},
   "outputs": [],
   "source": [
    "y_pred = np.concatenate([np.stack(results[:-1]).flatten(), results[-1].flatten()])\n",
    "#y_test = np.concatenate([np.zeros(windows_normal_test.shape[0]),np.ones(windows_attack.shape[0])])"
   ]
  },
  {
   "cell_type": "code",
   "execution_count": 20,
   "metadata": {},
   "outputs": [
    {
     "data": {
      "text/plain": [
       "<matplotlib.axes._subplots.AxesSubplot at 0x1b05db14708>"
      ]
     },
     "execution_count": 20,
     "metadata": {},
     "output_type": "execute_result"
    },
    {
     "data": {
      "image/png": "[encoded data removed]",
      "text/plain": [
       "<Figure size 432x288 with 1 Axes>"
      ]
     },
     "metadata": {
      "needs_background": "light"
     },
     "output_type": "display_data"
    }
   ],
   "source": [
    "pd.DataFrame(y_pred).plot()"
   ]
  },
  {
   "cell_type": "code",
   "execution_count": null,
   "metadata": {},
   "outputs": [],
   "source": []
  },
  {
   "cell_type": "markdown",
   "metadata": {},
   "source": [
    "## Anomaly gap maximize net\n",
    "\n",
    "* 제안 아이디어 검증"
   ]
  },
  {
   "cell_type": "code",
   "execution_count": 21,
   "metadata": {},
   "outputs": [],
   "source": [
    "class UsadModel_AGM(tf.keras.Model):\n",
    "    def __init__(self, w_size, z_size, alpha = .5, beta = .5):\n",
    "        super().__init__()\n",
    "        self.encoder = Encoder(w_size, z_size)\n",
    "        self.decoder1 = Decoder(z_size, w_size)\n",
    "        self.decoder2 = Decoder(z_size, w_size)\n",
    "        \n",
    "        self.latent_vector = self.encoder(self.encoder.model.inputs)\n",
    "        self.ae_output1 = self.decoder1(self.latent_vector)\n",
    "        self.ae_output2 = self.decoder2(self.latent_vector)\n",
    "\n",
    "        self.ae_model1 = tf.keras.Model(inputs = self.encoder.model.inputs, outputs = self.ae_output1)\n",
    "        self.ae_model2 = tf.keras.Model(inputs = self.encoder.model.inputs, outputs = self.ae_output2)\n",
    "        \n",
    "        self.optimizer = tf.keras.optimizers.Adam()\n",
    "        \n",
    "        self.alpha, self.beta = alpha, beta\n",
    "        \n",
    "    def evaluate(self, val_loader, n):\n",
    "        outputs = [self.validation_step(batch, n) for batch in val_loader]\n",
    "        return self.validation_epoch_end(outputs)\n",
    "\n",
    "    def testing(self, test_loader):\n",
    "        results=[]\n",
    "        for batch, _ in test_loader:\n",
    "            w1=self.ae_model1(batch)\n",
    "            w2=self.ae_model2(w1)\n",
    "            results.append(self.alpha*np.mean((batch-w1).numpy()**2, axis = 1)+self.beta*np.mean((batch-w2).numpy()**2, axis = 1))\n",
    "        return results\n",
    "        \n",
    "    def call(self, x):\n",
    "        z = self.encoder(x)\n",
    "        w1 = self.decoder1(z)\n",
    "        w2 = self.decoder2(z)\n",
    "        w3 = self.decoder2(self.encoder(w1))\n",
    "        return w1, w2, w3\n",
    "    \n",
    "    def loss_fn(self, batch, n) :\n",
    "        loss1 = 1/n*tf.reduce_mean(tf.square(batch-self.w1)) + (1-1/n)*tf.reduce_mean(tf.square(batch-self.w3))\n",
    "        loss2 = 1/n*tf.reduce_mean(tf.square(batch-self.w2)) + (1-1/n)*tf.reduce_mean(tf.square(batch-self.w3))\n",
    "        \n",
    "        return loss1, loss2\n",
    "    \n",
    "    def training(self, train_loader, val_loader, num_epochs):\n",
    "        self.history = []\n",
    "        \n",
    "        for n in range(num_epochs): \n",
    "            n += 1\n",
    "            \n",
    "            loss1_list, loss2_list, loss3_list = [], [], []\n",
    "            \n",
    "            # Iterate over the batches of a dataset.\n",
    "            for x_batch_train, y_batch_train in train_loader:\n",
    "                with tf.GradientTape() as ae1_tape, tf.GradientTape() as ae2_tape, tf.GradientTape() as pg_tape:\n",
    "                    self.z = self.encoder(x_batch_train)\n",
    "                    self.w1 = self.decoder1(self.z)\n",
    "                    self.w2 = self.decoder2(self.z)\n",
    "                    self.w3 = self.decoder2(self.encoder(self.w1))\n",
    "                    \n",
    "                    real_recon1 = x_batch_train-self.w1\n",
    "                    real_recon2 = x_batch_train-self.w2\n",
    "                    fake_recon = x_batch_train-self.w3\n",
    "\n",
    "                    # Loss value for this minibatch\n",
    "                    loss1, loss2 = self.loss_fn(x_batch_train, n)\n",
    "                    \n",
    "                    pg_advantage = tf.stop_gradient(tf.reduce_mean(tf.square(fake_recon))-tf.reduce_mean(tf.square(real_recon2)))\n",
    "                    loss3 = -tf.reduce_mean(tf.math.log(self.w3+1e-6) * pg_advantage)\n",
    "        \n",
    "                    \n",
    "                    # Add extra losses created during this forward pass:\n",
    "                    #loss_value += sum(model.losses)\n",
    "\n",
    "                grads_ae1 = ae1_tape.gradient(loss1, self.ae_model1.trainable_weights)\n",
    "                self.optimizer.apply_gradients(zip(grads_ae1, self.ae_model1.trainable_weights))\n",
    "                grads_ae2 = ae2_tape.gradient(loss2, self.ae_model2.trainable_weights)\n",
    "                self.optimizer.apply_gradients(zip(grads_ae2, self.ae_model2.trainable_weights))\n",
    "                grads_ae3 = pg_tape.gradient(loss3, self.ae_model2.trainable_weights)\n",
    "                self.optimizer.apply_gradients(zip(grads_ae3, self.ae_model2.trainable_weights))\n",
    "                \n",
    "                loss1_list.append(loss1)\n",
    "                loss2_list.append(loss2)\n",
    "                loss3_list.append(loss3)\n",
    "                \n",
    "            result = self.evaluate(val_loader, n)\n",
    "            self.epoch_end(n, result)\n",
    "            self.history.append(result)\n",
    "                \n",
    "            #print(\"Epoch [{}], train_loss1: {:.4f}, train_loss2: {:.4f}, train_loss3: {:.4f}\".format(n, np.mean(loss1_list), np.mean(loss2_list), np.mean(loss3_list)))\n",
    "            \n",
    "    def validation_step(self, batch, n):\n",
    "        z = self.encoder(batch)\n",
    "        w1 = self.decoder1(z)\n",
    "        w2 = self.decoder2(z)\n",
    "        w3 = self.decoder2(self.encoder(w1))\n",
    "        \n",
    "        real_recon1 = batch-w1\n",
    "        real_recon2 = batch-w2\n",
    "        fake_recon = batch-w3\n",
    "                \n",
    "        loss1 = 1/n*tf.reduce_mean(tf.square(batch-w1)) + (1-1/n)*tf.reduce_mean(tf.square(batch-w3))\n",
    "        loss2 = 1/n*tf.reduce_mean(tf.square(batch-w2)) + (1-1/n)*tf.reduce_mean(tf.square(batch-w3))\n",
    "        \n",
    "        pg_advantage = tf.reduce_mean(tf.square(fake_recon))-tf.reduce_mean(tf.square(real_recon2))\n",
    "        loss3 = -tf.reduce_mean(tf.math.log(w3+1e-6) * pg_advantage)\n",
    "        \n",
    "        return {'val_loss1': loss1, 'val_loss2': loss2, 'val_loss3': loss3}\n",
    "    \n",
    "    def validation_epoch_end(self, outputs):\n",
    "        batch_losses1 = [x['val_loss1'] for x in outputs]\n",
    "        epoch_loss1 = tf.reduce_mean(batch_losses1)\n",
    "        batch_losses2 = [x['val_loss2'] for x in outputs]\n",
    "        epoch_loss2 = tf.reduce_mean(batch_losses2)\n",
    "        batch_losses3 = [x['val_loss3'] for x in outputs]\n",
    "        epoch_loss3 = tf.reduce_mean(batch_losses3)\n",
    "        return {'val_loss1': epoch_loss1.numpy(), 'val_loss2': epoch_loss2.numpy(), 'val_loss3': epoch_loss3.numpy()}\n",
    "    \n",
    "    def epoch_end(self, epoch, result):\n",
    "        print(\"Epoch [{}], val_loss1: {:.4f}, val_loss2: {:.4f}, val_loss2: {:.4f}\".format(epoch, result['val_loss1'], result['val_loss2'], result['val_loss3']))"
   ]
  },
  {
   "cell_type": "code",
   "execution_count": 22,
   "metadata": {},
   "outputs": [
    {
     "name": "stdout",
     "output_type": "stream",
     "text": [
      "WARNING:tensorflow:Entity <bound method Encoder.call of <__main__.Encoder object at 0x000001B0642F4D08>> could not be transformed and will be executed as-is. Please report this to the AutoGraph team. When filing the bug, set the verbosity to 10 (on Linux, `export AUTOGRAPH_VERBOSITY=10`) and attach the full output. Cause: Bad argument number for Name: 3, expecting 4\n",
      "WARNING: Entity <bound method Encoder.call of <__main__.Encoder object at 0x000001B0642F4D08>> could not be transformed and will be executed as-is. Please report this to the AutoGraph team. When filing the bug, set the verbosity to 10 (on Linux, `export AUTOGRAPH_VERBOSITY=10`) and attach the full output. Cause: Bad argument number for Name: 3, expecting 4\n",
      "WARNING:tensorflow:Entity <bound method Decoder.call of <__main__.Decoder object at 0x000001B0642F44C8>> could not be transformed and will be executed as-is. Please report this to the AutoGraph team. When filing the bug, set the verbosity to 10 (on Linux, `export AUTOGRAPH_VERBOSITY=10`) and attach the full output. Cause: Bad argument number for Name: 3, expecting 4\n",
      "WARNING: Entity <bound method Decoder.call of <__main__.Decoder object at 0x000001B0642F44C8>> could not be transformed and will be executed as-is. Please report this to the AutoGraph team. When filing the bug, set the verbosity to 10 (on Linux, `export AUTOGRAPH_VERBOSITY=10`) and attach the full output. Cause: Bad argument number for Name: 3, expecting 4\n",
      "WARNING:tensorflow:Entity <bound method Decoder.call of <__main__.Decoder object at 0x000001B0642D4888>> could not be transformed and will be executed as-is. Please report this to the AutoGraph team. When filing the bug, set the verbosity to 10 (on Linux, `export AUTOGRAPH_VERBOSITY=10`) and attach the full output. Cause: Bad argument number for Name: 3, expecting 4\n",
      "WARNING: Entity <bound method Decoder.call of <__main__.Decoder object at 0x000001B0642D4888>> could not be transformed and will be executed as-is. Please report this to the AutoGraph team. When filing the bug, set the verbosity to 10 (on Linux, `export AUTOGRAPH_VERBOSITY=10`) and attach the full output. Cause: Bad argument number for Name: 3, expecting 4\n"
     ]
    }
   ],
   "source": [
    "usad_agm = UsadModel_AGM(w_size,z_size)"
   ]
  },
  {
   "cell_type": "code",
   "execution_count": 23,
   "metadata": {
    "collapsed": true,
    "jupyter": {
     "outputs_hidden": true
    }
   },
   "outputs": [
    {
     "name": "stdout",
     "output_type": "stream",
     "text": [
      "Epoch [1], val_loss1: 0.2063, val_loss2: 0.2080, val_loss2: -0.0068\n",
      "Epoch [2], val_loss1: 0.1681, val_loss2: 0.1669, val_loss2: -0.0303\n",
      "Epoch [3], val_loss1: 0.1154, val_loss2: 0.1174, val_loss2: -0.0316\n",
      "Epoch [4], val_loss1: 0.0613, val_loss2: 0.0685, val_loss2: -0.0410\n",
      "Epoch [5], val_loss1: 0.0339, val_loss2: 0.0393, val_loss2: -0.0280\n",
      "Epoch [6], val_loss1: 0.0178, val_loss2: 0.0203, val_loss2: -0.0255\n",
      "Epoch [7], val_loss1: 0.0085, val_loss2: 0.0092, val_loss2: -0.0311\n",
      "Epoch [8], val_loss1: 0.0063, val_loss2: 0.0062, val_loss2: -0.0376\n",
      "Epoch [9], val_loss1: 0.0062, val_loss2: 0.0058, val_loss2: -0.0366\n",
      "Epoch [10], val_loss1: 0.0062, val_loss2: 0.0057, val_loss2: -0.0337\n",
      "Epoch [11], val_loss1: 0.0062, val_loss2: 0.0057, val_loss2: -0.0322\n",
      "Epoch [12], val_loss1: 0.0060, val_loss2: 0.0056, val_loss2: -0.0289\n",
      "Epoch [13], val_loss1: 0.0058, val_loss2: 0.0053, val_loss2: -0.0252\n",
      "Epoch [14], val_loss1: 0.0055, val_loss2: 0.0051, val_loss2: -0.0208\n",
      "Epoch [15], val_loss1: 0.0053, val_loss2: 0.0050, val_loss2: -0.0170\n",
      "Epoch [16], val_loss1: 0.0052, val_loss2: 0.0049, val_loss2: -0.0147\n",
      "Epoch [17], val_loss1: 0.0051, val_loss2: 0.0049, val_loss2: -0.0133\n",
      "Epoch [18], val_loss1: 0.0050, val_loss2: 0.0048, val_loss2: -0.0123\n",
      "Epoch [19], val_loss1: 0.0050, val_loss2: 0.0048, val_loss2: -0.0116\n",
      "Epoch [20], val_loss1: 0.0049, val_loss2: 0.0048, val_loss2: -0.0110\n",
      "Epoch [21], val_loss1: 0.0049, val_loss2: 0.0048, val_loss2: -0.0106\n",
      "Epoch [22], val_loss1: 0.0049, val_loss2: 0.0048, val_loss2: -0.0101\n",
      "Epoch [23], val_loss1: 0.0049, val_loss2: 0.0048, val_loss2: -0.0097\n",
      "Epoch [24], val_loss1: 0.0049, val_loss2: 0.0048, val_loss2: -0.0094\n",
      "Epoch [25], val_loss1: 0.0048, val_loss2: 0.0048, val_loss2: -0.0090\n",
      "Epoch [26], val_loss1: 0.0048, val_loss2: 0.0048, val_loss2: -0.0087\n",
      "Epoch [27], val_loss1: 0.0048, val_loss2: 0.0048, val_loss2: -0.0083\n",
      "Epoch [28], val_loss1: 0.0048, val_loss2: 0.0048, val_loss2: -0.0079\n",
      "Epoch [29], val_loss1: 0.0048, val_loss2: 0.0048, val_loss2: -0.0074\n",
      "Epoch [30], val_loss1: 0.0048, val_loss2: 0.0048, val_loss2: -0.0067\n",
      "Epoch [31], val_loss1: 0.0049, val_loss2: 0.0049, val_loss2: -0.0061\n",
      "Epoch [32], val_loss1: 0.0050, val_loss2: 0.0050, val_loss2: -0.0055\n",
      "Epoch [33], val_loss1: 0.0051, val_loss2: 0.0051, val_loss2: -0.0051\n",
      "Epoch [34], val_loss1: 0.0052, val_loss2: 0.0052, val_loss2: -0.0048\n",
      "Epoch [35], val_loss1: 0.0052, val_loss2: 0.0052, val_loss2: -0.0046\n",
      "Epoch [36], val_loss1: 0.0053, val_loss2: 0.0053, val_loss2: -0.0044\n",
      "Epoch [37], val_loss1: 0.0053, val_loss2: 0.0053, val_loss2: -0.0043\n",
      "Epoch [38], val_loss1: 0.0053, val_loss2: 0.0053, val_loss2: -0.0043\n",
      "Epoch [39], val_loss1: 0.0054, val_loss2: 0.0054, val_loss2: -0.0042\n",
      "Epoch [40], val_loss1: 0.0054, val_loss2: 0.0054, val_loss2: -0.0041\n",
      "Epoch [41], val_loss1: 0.0054, val_loss2: 0.0054, val_loss2: -0.0040\n",
      "Epoch [42], val_loss1: 0.0054, val_loss2: 0.0054, val_loss2: -0.0040\n",
      "Epoch [43], val_loss1: 0.0055, val_loss2: 0.0055, val_loss2: -0.0039\n",
      "Epoch [44], val_loss1: 0.0055, val_loss2: 0.0055, val_loss2: -0.0038\n",
      "Epoch [45], val_loss1: 0.0055, val_loss2: 0.0055, val_loss2: -0.0038\n",
      "Epoch [46], val_loss1: 0.0055, val_loss2: 0.0055, val_loss2: -0.0037\n",
      "Epoch [47], val_loss1: 0.0056, val_loss2: 0.0056, val_loss2: -0.0036\n",
      "Epoch [48], val_loss1: 0.0056, val_loss2: 0.0056, val_loss2: -0.0036\n",
      "Epoch [49], val_loss1: 0.0056, val_loss2: 0.0056, val_loss2: -0.0035\n",
      "Epoch [50], val_loss1: 0.0056, val_loss2: 0.0056, val_loss2: -0.0034\n",
      "Epoch [51], val_loss1: 0.0057, val_loss2: 0.0057, val_loss2: -0.0033\n",
      "Epoch [52], val_loss1: 0.0057, val_loss2: 0.0057, val_loss2: -0.0033\n",
      "Epoch [53], val_loss1: 0.0057, val_loss2: 0.0057, val_loss2: -0.0032\n",
      "Epoch [54], val_loss1: 0.0057, val_loss2: 0.0057, val_loss2: -0.0031\n",
      "Epoch [55], val_loss1: 0.0057, val_loss2: 0.0057, val_loss2: -0.0031\n",
      "Epoch [56], val_loss1: 0.0057, val_loss2: 0.0057, val_loss2: -0.0030\n",
      "Epoch [57], val_loss1: 0.0058, val_loss2: 0.0058, val_loss2: -0.0030\n",
      "Epoch [58], val_loss1: 0.0058, val_loss2: 0.0058, val_loss2: -0.0029\n",
      "Epoch [59], val_loss1: 0.0058, val_loss2: 0.0058, val_loss2: -0.0029\n",
      "Epoch [60], val_loss1: 0.0058, val_loss2: 0.0058, val_loss2: -0.0028\n",
      "Epoch [61], val_loss1: 0.0058, val_loss2: 0.0058, val_loss2: -0.0028\n",
      "Epoch [62], val_loss1: 0.0058, val_loss2: 0.0058, val_loss2: -0.0028\n",
      "Epoch [63], val_loss1: 0.0058, val_loss2: 0.0058, val_loss2: -0.0027\n",
      "Epoch [64], val_loss1: 0.0058, val_loss2: 0.0058, val_loss2: -0.0027\n",
      "Epoch [65], val_loss1: 0.0059, val_loss2: 0.0059, val_loss2: -0.0027\n",
      "Epoch [66], val_loss1: 0.0059, val_loss2: 0.0059, val_loss2: -0.0026\n",
      "Epoch [67], val_loss1: 0.0059, val_loss2: 0.0059, val_loss2: -0.0026\n",
      "Epoch [68], val_loss1: 0.0059, val_loss2: 0.0059, val_loss2: -0.0025\n",
      "Epoch [69], val_loss1: 0.0059, val_loss2: 0.0059, val_loss2: -0.0025\n",
      "Epoch [70], val_loss1: 0.0059, val_loss2: 0.0059, val_loss2: -0.0025\n",
      "Epoch [71], val_loss1: 0.0059, val_loss2: 0.0059, val_loss2: -0.0024\n",
      "Epoch [72], val_loss1: 0.0059, val_loss2: 0.0059, val_loss2: -0.0024\n",
      "Epoch [73], val_loss1: 0.0059, val_loss2: 0.0059, val_loss2: -0.0023\n",
      "Epoch [74], val_loss1: 0.0060, val_loss2: 0.0060, val_loss2: -0.0023\n",
      "Epoch [75], val_loss1: 0.0060, val_loss2: 0.0060, val_loss2: -0.0023\n",
      "Epoch [76], val_loss1: 0.0060, val_loss2: 0.0060, val_loss2: -0.0022\n",
      "Epoch [77], val_loss1: 0.0060, val_loss2: 0.0060, val_loss2: -0.0022\n",
      "Epoch [78], val_loss1: 0.0060, val_loss2: 0.0060, val_loss2: -0.0022\n",
      "Epoch [79], val_loss1: 0.0060, val_loss2: 0.0060, val_loss2: -0.0021\n",
      "Epoch [80], val_loss1: 0.0060, val_loss2: 0.0060, val_loss2: -0.0021\n",
      "Epoch [81], val_loss1: 0.0060, val_loss2: 0.0060, val_loss2: -0.0020\n",
      "Epoch [82], val_loss1: 0.0060, val_loss2: 0.0060, val_loss2: -0.0020\n",
      "Epoch [83], val_loss1: 0.0060, val_loss2: 0.0060, val_loss2: -0.0020\n",
      "Epoch [84], val_loss1: 0.0061, val_loss2: 0.0061, val_loss2: -0.0019\n",
      "Epoch [85], val_loss1: 0.0061, val_loss2: 0.0061, val_loss2: -0.0019\n",
      "Epoch [86], val_loss1: 0.0061, val_loss2: 0.0061, val_loss2: -0.0018\n",
      "Epoch [87], val_loss1: 0.0061, val_loss2: 0.0061, val_loss2: -0.0018\n",
      "Epoch [88], val_loss1: 0.0061, val_loss2: 0.0061, val_loss2: -0.0017\n",
      "Epoch [89], val_loss1: 0.0061, val_loss2: 0.0061, val_loss2: -0.0017\n",
      "Epoch [90], val_loss1: 0.0061, val_loss2: 0.0061, val_loss2: -0.0016\n",
      "Epoch [91], val_loss1: 0.0062, val_loss2: 0.0062, val_loss2: -0.0016\n",
      "Epoch [92], val_loss1: 0.0062, val_loss2: 0.0062, val_loss2: -0.0016\n",
      "Epoch [93], val_loss1: 0.0062, val_loss2: 0.0062, val_loss2: -0.0016\n",
      "Epoch [94], val_loss1: 0.0062, val_loss2: 0.0062, val_loss2: -0.0016\n",
      "Epoch [95], val_loss1: 0.0062, val_loss2: 0.0062, val_loss2: -0.0016\n",
      "Epoch [96], val_loss1: 0.0062, val_loss2: 0.0062, val_loss2: -0.0016\n",
      "Epoch [97], val_loss1: 0.0062, val_loss2: 0.0062, val_loss2: -0.0016\n",
      "Epoch [98], val_loss1: 0.0062, val_loss2: 0.0062, val_loss2: -0.0016\n",
      "Epoch [99], val_loss1: 0.0062, val_loss2: 0.0062, val_loss2: -0.0016\n",
      "Epoch [100], val_loss1: 0.0062, val_loss2: 0.0062, val_loss2: -0.0016\n"
     ]
    }
   ],
   "source": [
    "usad_agm.training(train_loader, test_loader, N_EPOCHS)"
   ]
  },
  {
   "cell_type": "code",
   "execution_count": null,
   "metadata": {},
   "outputs": [],
   "source": []
  },
  {
   "cell_type": "markdown",
   "metadata": {
    "id": "ymhjbmvR_DgJ"
   },
   "source": [
    "## Testing"
   ]
  },
  {
   "cell_type": "code",
   "execution_count": 24,
   "metadata": {},
   "outputs": [],
   "source": [
    "results = model_usad.testing(test_loader)"
   ]
  },
  {
   "cell_type": "code",
   "execution_count": 25,
   "metadata": {},
   "outputs": [],
   "source": [
    "y_pred = np.concatenate([np.stack(results[:-1]).flatten(), results[-1].flatten()])"
   ]
  },
  {
   "cell_type": "code",
   "execution_count": 26,
   "metadata": {},
   "outputs": [
    {
     "data": {
      "text/plain": [
       "<matplotlib.axes._subplots.AxesSubplot at 0x1b063c67708>"
      ]
     },
     "execution_count": 26,
     "metadata": {},
     "output_type": "execute_result"
    },
    {
     "data": {
      "image/png": "[encoded data removed]",
      "text/plain": [
       "<Figure size 432x288 with 1 Axes>"
      ]
     },
     "metadata": {
      "needs_background": "light"
     },
     "output_type": "display_data"
    }
   ],
   "source": [
    "pd.DataFrame(y_pred).plot()"
   ]
  },
  {
   "cell_type": "code",
   "execution_count": null,
   "metadata": {},
   "outputs": [],
   "source": []
  }
 ],
 "metadata": {
  "accelerator": "GPU",
  "colab": {
   "name": "USAD_test.ipynb",
   "provenance": [],
   "toc_visible": true
  },
  "kernelspec": {
   "display_name": "Python 3",
   "language": "python",
   "name": "python3"
  },
  "language_info": {
   "codemirror_mode": {
    "name": "ipython",
    "version": 3
   },
   "file_extension": ".py",
   "mimetype": "text/x-python",
   "name": "python",
   "nbconvert_exporter": "python",
   "pygments_lexer": "ipython3",
   "version": "3.7.6"
  }
 },
 "nbformat": 4,
 "nbformat_minor": 4
}
