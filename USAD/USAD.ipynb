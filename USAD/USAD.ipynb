{
 "cells": [
  {
   "cell_type": "markdown",
   "metadata": {
    "id": "etniX_KTlJ5U"
   },
   "source": [
    "# USAD"
   ]
  },
  {
   "cell_type": "code",
   "execution_count": null,
   "metadata": {},
   "outputs": [],
   "source": [
    "'''\n",
    "## 최초 1회 실행\n",
    "!rm -r sample_data\n",
    "'''"
   ]
  },
  {
   "cell_type": "code",
   "execution_count": null,
   "metadata": {},
   "outputs": [],
   "source": []
  },
  {
   "cell_type": "markdown",
   "metadata": {
    "id": "N3jM0qLU8MgZ"
   },
   "source": [
    "## Environment"
   ]
  },
  {
   "cell_type": "code",
   "execution_count": 1,
   "metadata": {
    "id": "6u1DGKsAlLF-"
   },
   "outputs": [],
   "source": [
    "import numpy as np\n",
    "import pandas as pd\n",
    "import matplotlib.pyplot as plt\n",
    "import seaborn as sns\n",
    "import torch\n",
    "import torch.nn as nn\n",
    "\n",
    "from utils import *\n",
    "from usad import *"
   ]
  },
  {
   "cell_type": "code",
   "execution_count": null,
   "metadata": {},
   "outputs": [],
   "source": []
  },
  {
   "cell_type": "markdown",
   "metadata": {
    "id": "1crx5rGP9ONf"
   },
   "source": [
    "## EDA - Data Pre-Processing"
   ]
  },
  {
   "cell_type": "markdown",
   "metadata": {},
   "source": [
    "### Down load datasets"
   ]
  },
  {
   "cell_type": "code",
   "execution_count": 2,
   "metadata": {},
   "outputs": [
    {
     "data": {
      "text/plain": [
       "'\\n## 최초 1회 실행\\n!mkdir input\\n#normal period\\n!python gdrivedl.py https://drive.google.com/open?id=1rVJ5ry5GG-ZZi5yI4x9lICB8VhErXwCw input/\\n#anomalies\\n!python gdrivedl.py https://drive.google.com/open?id=1iDYc0OEmidN712fquOBRFjln90SbpaE7 input/\\n'"
      ]
     },
     "execution_count": 2,
     "metadata": {},
     "output_type": "execute_result"
    }
   ],
   "source": [
    "'''\n",
    "## 최초 1회 실행\n",
    "!mkdir input\n",
    "#normal period\n",
    "!python gdrivedl.py https://drive.google.com/open?id=1rVJ5ry5GG-ZZi5yI4x9lICB8VhErXwCw input/\n",
    "#anomalies\n",
    "!python gdrivedl.py https://drive.google.com/open?id=1iDYc0OEmidN712fquOBRFjln90SbpaE7 input/\n",
    "'''"
   ]
  },
  {
   "cell_type": "code",
   "execution_count": null,
   "metadata": {},
   "outputs": [],
   "source": []
  },
  {
   "cell_type": "markdown",
   "metadata": {
    "id": "kfSj4FYL9W8Y"
   },
   "source": [
    "### Normal period"
   ]
  },
  {
   "cell_type": "code",
   "execution_count": 3,
   "metadata": {
    "colab": {
     "base_uri": "https://localhost:8080/",
     "height": 87
    },
    "id": "XeDLxV_r1G9n",
    "outputId": "576538dd-64f2-46fa-8e6f-6c2ffdebad15"
   },
   "outputs": [
    {
     "name": "stderr",
     "output_type": "stream",
     "text": [
      "C:\\Users\\PC0\\anaconda3\\lib\\site-packages\\IPython\\core\\interactiveshell.py:3063: DtypeWarning: Columns (26) have mixed types. Specify dtype option on import or set low_memory=False.\n",
      "  interactivity=interactivity, compiler=compiler, result=result)\n"
     ]
    },
    {
     "data": {
      "text/plain": [
       "(495000, 51)"
      ]
     },
     "execution_count": 3,
     "metadata": {},
     "output_type": "execute_result"
    }
   ],
   "source": [
    "data_path = \"C:\\\\Users\\\\PC0\\\\Documents\\\\GitHub\\\\datasets\\\\\"\n",
    "\n",
    "#Read data\n",
    "normal = pd.read_csv(data_path + \"SWaT_Dataset_Normal_v1.csv\")#, nrows=1000)\n",
    "normal = normal.drop([\"Timestamp\" , \"Normal/Attack\" ] , axis = 1)\n",
    "normal.shape"
   ]
  },
  {
   "cell_type": "code",
   "execution_count": 4,
   "metadata": {
    "id": "fFuLm1GH1G2n"
   },
   "outputs": [],
   "source": [
    "# Transform all columns into float64\n",
    "for i in list(normal): \n",
    "    normal[i]=normal[i].apply(lambda x: str(x).replace(\",\" , \".\"))\n",
    "normal = normal.astype(float)"
   ]
  },
  {
   "cell_type": "code",
   "execution_count": null,
   "metadata": {},
   "outputs": [],
   "source": []
  },
  {
   "cell_type": "markdown",
   "metadata": {
    "id": "zxFNH5kU9hIE"
   },
   "source": [
    "#### Normalization"
   ]
  },
  {
   "cell_type": "code",
   "execution_count": 5,
   "metadata": {
    "id": "Mfxj4Uxn9kv4"
   },
   "outputs": [],
   "source": [
    "from sklearn import preprocessing\n",
    "min_max_scaler = preprocessing.MinMaxScaler()\n",
    "\n",
    "x = normal.values\n",
    "x_scaled = min_max_scaler.fit_transform(x)\n",
    "normal = pd.DataFrame(x_scaled)"
   ]
  },
  {
   "cell_type": "code",
   "execution_count": 6,
   "metadata": {
    "colab": {
     "base_uri": "https://localhost:8080/",
     "height": 126
    },
    "id": "mQ6_U4jn9nlw",
    "outputId": "f1cc1bd6-f1cc-4764-b1cc-2fd989ac4918"
   },
   "outputs": [
    {
     "data": {
      "text/html": [
       "<div>\n",
       "<style scoped>\n",
       "    .dataframe tbody tr th:only-of-type {\n",
       "        vertical-align: middle;\n",
       "    }\n",
       "\n",
       "    .dataframe tbody tr th {\n",
       "        vertical-align: top;\n",
       "    }\n",
       "\n",
       "    .dataframe thead th {\n",
       "        text-align: right;\n",
       "    }\n",
       "</style>\n",
       "<table border=\"1\" class=\"dataframe\">\n",
       "  <thead>\n",
       "    <tr style=\"text-align: right;\">\n",
       "      <th></th>\n",
       "      <th>0</th>\n",
       "      <th>1</th>\n",
       "      <th>2</th>\n",
       "      <th>3</th>\n",
       "      <th>4</th>\n",
       "      <th>5</th>\n",
       "      <th>6</th>\n",
       "      <th>7</th>\n",
       "      <th>8</th>\n",
       "      <th>9</th>\n",
       "      <th>...</th>\n",
       "      <th>41</th>\n",
       "      <th>42</th>\n",
       "      <th>43</th>\n",
       "      <th>44</th>\n",
       "      <th>45</th>\n",
       "      <th>46</th>\n",
       "      <th>47</th>\n",
       "      <th>48</th>\n",
       "      <th>49</th>\n",
       "      <th>50</th>\n",
       "    </tr>\n",
       "  </thead>\n",
       "  <tbody>\n",
       "    <tr>\n",
       "      <th>0</th>\n",
       "      <td>0.0</td>\n",
       "      <td>0.005294</td>\n",
       "      <td>0.5</td>\n",
       "      <td>0.0</td>\n",
       "      <td>0.0</td>\n",
       "      <td>0.012291</td>\n",
       "      <td>0.075099</td>\n",
       "      <td>0.002009</td>\n",
       "      <td>0.0</td>\n",
       "      <td>0.5</td>\n",
       "      <td>...</td>\n",
       "      <td>0.0</td>\n",
       "      <td>0.0</td>\n",
       "      <td>0.0</td>\n",
       "      <td>0.000814</td>\n",
       "      <td>0.0</td>\n",
       "      <td>0.001217</td>\n",
       "      <td>0.000147</td>\n",
       "      <td>0.0</td>\n",
       "      <td>0.0</td>\n",
       "      <td>0.0</td>\n",
       "    </tr>\n",
       "    <tr>\n",
       "      <th>1</th>\n",
       "      <td>0.0</td>\n",
       "      <td>0.005407</td>\n",
       "      <td>0.5</td>\n",
       "      <td>0.0</td>\n",
       "      <td>0.0</td>\n",
       "      <td>0.012291</td>\n",
       "      <td>0.075099</td>\n",
       "      <td>0.002009</td>\n",
       "      <td>0.0</td>\n",
       "      <td>0.5</td>\n",
       "      <td>...</td>\n",
       "      <td>0.0</td>\n",
       "      <td>0.0</td>\n",
       "      <td>0.0</td>\n",
       "      <td>0.000814</td>\n",
       "      <td>0.0</td>\n",
       "      <td>0.001217</td>\n",
       "      <td>0.000147</td>\n",
       "      <td>0.0</td>\n",
       "      <td>0.0</td>\n",
       "      <td>0.0</td>\n",
       "    </tr>\n",
       "  </tbody>\n",
       "</table>\n",
       "<p>2 rows × 51 columns</p>\n",
       "</div>"
      ],
      "text/plain": [
       "    0         1    2    3    4         5         6         7    8    9   ...  \\\n",
       "0  0.0  0.005294  0.5  0.0  0.0  0.012291  0.075099  0.002009  0.0  0.5  ...   \n",
       "1  0.0  0.005407  0.5  0.0  0.0  0.012291  0.075099  0.002009  0.0  0.5  ...   \n",
       "\n",
       "    41   42   43        44   45        46        47   48   49   50  \n",
       "0  0.0  0.0  0.0  0.000814  0.0  0.001217  0.000147  0.0  0.0  0.0  \n",
       "1  0.0  0.0  0.0  0.000814  0.0  0.001217  0.000147  0.0  0.0  0.0  \n",
       "\n",
       "[2 rows x 51 columns]"
      ]
     },
     "execution_count": 6,
     "metadata": {},
     "output_type": "execute_result"
    }
   ],
   "source": [
    "normal.head(2)"
   ]
  },
  {
   "cell_type": "code",
   "execution_count": null,
   "metadata": {},
   "outputs": [],
   "source": []
  },
  {
   "cell_type": "markdown",
   "metadata": {
    "id": "_i71RFAi9spa"
   },
   "source": [
    "### Attack"
   ]
  },
  {
   "cell_type": "code",
   "execution_count": 7,
   "metadata": {
    "colab": {
     "base_uri": "https://localhost:8080/",
     "height": 87
    },
    "id": "aN_TFp5x9uTE",
    "outputId": "38d7993d-c9a3-461d-c430-ebde697afbc6"
   },
   "outputs": [
    {
     "name": "stderr",
     "output_type": "stream",
     "text": [
      "C:\\Users\\PC0\\anaconda3\\lib\\site-packages\\IPython\\core\\interactiveshell.py:3063: DtypeWarning: Columns (1,9,28,46) have mixed types. Specify dtype option on import or set low_memory=False.\n",
      "  interactivity=interactivity, compiler=compiler, result=result)\n"
     ]
    },
    {
     "data": {
      "text/plain": [
       "(449919, 51)"
      ]
     },
     "execution_count": 7,
     "metadata": {},
     "output_type": "execute_result"
    }
   ],
   "source": [
    "#Read data\n",
    "attack = pd.read_csv(data_path + \"SWaT_Dataset_Attack_v0.csv\",sep=\";\")#, nrows=1000)\n",
    "attack = attack.drop([\"Timestamp\" , \"Normal/Attack\" ] , axis = 1)\n",
    "attack.shape"
   ]
  },
  {
   "cell_type": "code",
   "execution_count": 8,
   "metadata": {
    "id": "qLCInT-I9_-D"
   },
   "outputs": [],
   "source": [
    "# Transform all columns into float64\n",
    "for i in list(attack):\n",
    "    attack[i]=attack[i].apply(lambda x: str(x).replace(\",\" , \".\"))\n",
    "attack = attack.astype(float)"
   ]
  },
  {
   "cell_type": "code",
   "execution_count": null,
   "metadata": {},
   "outputs": [],
   "source": []
  },
  {
   "cell_type": "markdown",
   "metadata": {
    "id": "c4cB4v3N-Dhu"
   },
   "source": [
    "#### Normalization"
   ]
  },
  {
   "cell_type": "code",
   "execution_count": 9,
   "metadata": {
    "id": "jZrha9cO-BGK"
   },
   "outputs": [],
   "source": [
    "from sklearn import preprocessing\n",
    "\n",
    "x = attack.values \n",
    "x_scaled = min_max_scaler.transform(x)\n",
    "attack = pd.DataFrame(x_scaled)"
   ]
  },
  {
   "cell_type": "code",
   "execution_count": 10,
   "metadata": {
    "colab": {
     "base_uri": "https://localhost:8080/",
     "height": 126
    },
    "id": "z9SwiPco-BUa",
    "outputId": "f2507282-c0f9-4253-ece7-0a802b68240f"
   },
   "outputs": [
    {
     "data": {
      "text/html": [
       "<div>\n",
       "<style scoped>\n",
       "    .dataframe tbody tr th:only-of-type {\n",
       "        vertical-align: middle;\n",
       "    }\n",
       "\n",
       "    .dataframe tbody tr th {\n",
       "        vertical-align: top;\n",
       "    }\n",
       "\n",
       "    .dataframe thead th {\n",
       "        text-align: right;\n",
       "    }\n",
       "</style>\n",
       "<table border=\"1\" class=\"dataframe\">\n",
       "  <thead>\n",
       "    <tr style=\"text-align: right;\">\n",
       "      <th></th>\n",
       "      <th>0</th>\n",
       "      <th>1</th>\n",
       "      <th>2</th>\n",
       "      <th>3</th>\n",
       "      <th>4</th>\n",
       "      <th>5</th>\n",
       "      <th>6</th>\n",
       "      <th>7</th>\n",
       "      <th>8</th>\n",
       "      <th>9</th>\n",
       "      <th>...</th>\n",
       "      <th>41</th>\n",
       "      <th>42</th>\n",
       "      <th>43</th>\n",
       "      <th>44</th>\n",
       "      <th>45</th>\n",
       "      <th>46</th>\n",
       "      <th>47</th>\n",
       "      <th>48</th>\n",
       "      <th>49</th>\n",
       "      <th>50</th>\n",
       "    </tr>\n",
       "  </thead>\n",
       "  <tbody>\n",
       "    <tr>\n",
       "      <th>0</th>\n",
       "      <td>0.884144</td>\n",
       "      <td>0.577133</td>\n",
       "      <td>1.0</td>\n",
       "      <td>1.0</td>\n",
       "      <td>0.0</td>\n",
       "      <td>0.496158</td>\n",
       "      <td>0.188845</td>\n",
       "      <td>0.064088</td>\n",
       "      <td>0.982899</td>\n",
       "      <td>1.0</td>\n",
       "      <td>...</td>\n",
       "      <td>0.970903</td>\n",
       "      <td>1.0</td>\n",
       "      <td>0.0</td>\n",
       "      <td>0.946125</td>\n",
       "      <td>0.449782</td>\n",
       "      <td>0.944116</td>\n",
       "      <td>0.000073</td>\n",
       "      <td>0.0</td>\n",
       "      <td>0.0</td>\n",
       "      <td>0.0</td>\n",
       "    </tr>\n",
       "    <tr>\n",
       "      <th>1</th>\n",
       "      <td>0.891145</td>\n",
       "      <td>0.577190</td>\n",
       "      <td>1.0</td>\n",
       "      <td>1.0</td>\n",
       "      <td>0.0</td>\n",
       "      <td>0.496158</td>\n",
       "      <td>0.188845</td>\n",
       "      <td>0.064088</td>\n",
       "      <td>0.982899</td>\n",
       "      <td>1.0</td>\n",
       "      <td>...</td>\n",
       "      <td>0.970903</td>\n",
       "      <td>1.0</td>\n",
       "      <td>0.0</td>\n",
       "      <td>0.946125</td>\n",
       "      <td>0.449782</td>\n",
       "      <td>0.944521</td>\n",
       "      <td>0.000073</td>\n",
       "      <td>0.0</td>\n",
       "      <td>0.0</td>\n",
       "      <td>0.0</td>\n",
       "    </tr>\n",
       "  </tbody>\n",
       "</table>\n",
       "<p>2 rows × 51 columns</p>\n",
       "</div>"
      ],
      "text/plain": [
       "         0         1    2    3    4         5         6         7         8   \\\n",
       "0  0.884144  0.577133  1.0  1.0  0.0  0.496158  0.188845  0.064088  0.982899   \n",
       "1  0.891145  0.577190  1.0  1.0  0.0  0.496158  0.188845  0.064088  0.982899   \n",
       "\n",
       "    9   ...        41   42   43        44        45        46        47   48  \\\n",
       "0  1.0  ...  0.970903  1.0  0.0  0.946125  0.449782  0.944116  0.000073  0.0   \n",
       "1  1.0  ...  0.970903  1.0  0.0  0.946125  0.449782  0.944521  0.000073  0.0   \n",
       "\n",
       "    49   50  \n",
       "0  0.0  0.0  \n",
       "1  0.0  0.0  \n",
       "\n",
       "[2 rows x 51 columns]"
      ]
     },
     "execution_count": 10,
     "metadata": {},
     "output_type": "execute_result"
    }
   ],
   "source": [
    "attack.head(2)"
   ]
  },
  {
   "cell_type": "code",
   "execution_count": null,
   "metadata": {},
   "outputs": [],
   "source": []
  },
  {
   "cell_type": "markdown",
   "metadata": {
    "id": "xXJi503b-j_d"
   },
   "source": [
    "### Windows"
   ]
  },
  {
   "cell_type": "code",
   "execution_count": 11,
   "metadata": {
    "id": "vyplttZa-BRN"
   },
   "outputs": [],
   "source": [
    "window_size=12"
   ]
  },
  {
   "cell_type": "code",
   "execution_count": 12,
   "metadata": {
    "colab": {
     "base_uri": "https://localhost:8080/",
     "height": 34
    },
    "id": "dzGJMp6Y-BN5",
    "outputId": "2949d278-1313-442c-f06b-275a8c6c6578"
   },
   "outputs": [
    {
     "data": {
      "text/plain": [
       "(494988, 12, 51)"
      ]
     },
     "execution_count": 12,
     "metadata": {},
     "output_type": "execute_result"
    }
   ],
   "source": [
    "windows_normal=normal.values[np.arange(window_size)[None, :] + np.arange(normal.shape[0]-window_size)[:, None]]\n",
    "windows_normal.shape"
   ]
  },
  {
   "cell_type": "code",
   "execution_count": 13,
   "metadata": {
    "colab": {
     "base_uri": "https://localhost:8080/",
     "height": 34
    },
    "id": "17LdB3c8-pRH",
    "outputId": "721059d4-5937-4dd3-d73c-e5d255fc273c"
   },
   "outputs": [
    {
     "data": {
      "text/plain": [
       "(449907, 12, 51)"
      ]
     },
     "execution_count": 13,
     "metadata": {},
     "output_type": "execute_result"
    }
   ],
   "source": [
    "windows_attack=attack.values[np.arange(window_size)[None, :] + np.arange(attack.shape[0]-window_size)[:, None]]\n",
    "windows_attack.shape"
   ]
  },
  {
   "cell_type": "code",
   "execution_count": null,
   "metadata": {},
   "outputs": [],
   "source": []
  },
  {
   "cell_type": "markdown",
   "metadata": {
    "id": "k70ZFxGs-_7m"
   },
   "source": [
    "## Training"
   ]
  },
  {
   "cell_type": "code",
   "execution_count": 14,
   "metadata": {
    "id": "yi9S0SGnDKNc"
   },
   "outputs": [],
   "source": [
    "import torch.utils.data as data_utils\n",
    "\n",
    "BATCH_SIZE =  7919\n",
    "N_EPOCHS = 100\n",
    "hidden_size = 10\n",
    "\n",
    "w_size=windows_normal.shape[1]*windows_normal.shape[2]\n",
    "z_size=windows_normal.shape[1]*hidden_size\n",
    "\n",
    "windows_normal_train = windows_normal[:int(np.floor(.8 * .5 * windows_normal.shape[0]))]\n",
    "windows_normal_val = windows_normal[int(np.floor(.8 * .5 * windows_normal.shape[0])):int(np.floor(.5 * windows_normal.shape[0]))]\n",
    "windows_normal_test = windows_normal[int(np.floor(.5 * windows_normal.shape[0])):]\n",
    "\n",
    "train_loader = torch.utils.data.DataLoader(data_utils.TensorDataset(\n",
    "    torch.from_numpy(windows_normal_train).float().view(([windows_normal_train.shape[0],w_size]))\n",
    ") , batch_size=BATCH_SIZE, shuffle=False, num_workers=0)\n",
    "\n",
    "val_loader = torch.utils.data.DataLoader(data_utils.TensorDataset(\n",
    "    torch.from_numpy(windows_normal_val).float().view(([windows_normal_val.shape[0],w_size]))\n",
    ") , batch_size=BATCH_SIZE, shuffle=False, num_workers=0)\n",
    "\n",
    "test_loader = torch.utils.data.DataLoader(data_utils.TensorDataset(\n",
    "    torch.from_numpy(np.concatenate([windows_normal_test,windows_attack])).float().view(([windows_normal_test.shape[0]+windows_attack.shape[0],w_size]))\n",
    ") , batch_size=BATCH_SIZE, shuffle=False, num_workers=0)\n",
    "\n",
    "model = UsadModel(w_size, z_size)\n",
    "model = to_device(model,device)"
   ]
  },
  {
   "cell_type": "code",
   "execution_count": 15,
   "metadata": {
    "colab": {
     "base_uri": "https://localhost:8080/",
     "height": 1000
    },
    "collapsed": true,
    "id": "So9yjDPEDObC",
    "jupyter": {
     "outputs_hidden": true
    },
    "outputId": "629bcd13-37b1-4907-ef0d-46d9e3ad5398"
   },
   "outputs": [
    {
     "name": "stdout",
     "output_type": "stream",
     "text": [
      "Epoch [0], val_loss1: 0.0633, val_loss2: 0.0638\n",
      "Epoch [1], val_loss1: 0.0415, val_loss2: -0.0004\n",
      "Epoch [2], val_loss1: 0.0330, val_loss2: -0.0130\n",
      "Epoch [3], val_loss1: 0.0343, val_loss2: -0.0194\n",
      "Epoch [4], val_loss1: 0.0345, val_loss2: -0.0228\n",
      "Epoch [5], val_loss1: 0.0363, val_loss2: -0.0259\n",
      "Epoch [6], val_loss1: 0.0359, val_loss2: -0.0268\n",
      "Epoch [7], val_loss1: 0.0356, val_loss2: -0.0281\n",
      "Epoch [8], val_loss1: 0.0352, val_loss2: -0.0286\n",
      "Epoch [9], val_loss1: 0.0346, val_loss2: -0.0286\n",
      "Epoch [10], val_loss1: 0.0337, val_loss2: -0.0285\n",
      "Epoch [11], val_loss1: 0.0328, val_loss2: -0.0281\n",
      "Epoch [12], val_loss1: 0.0241, val_loss2: -0.0214\n",
      "Epoch [13], val_loss1: 0.0179, val_loss2: -0.0154\n",
      "Epoch [14], val_loss1: 0.0173, val_loss2: -0.0151\n",
      "Epoch [15], val_loss1: 0.0171, val_loss2: -0.0152\n",
      "Epoch [16], val_loss1: 0.0181, val_loss2: -0.0164\n",
      "Epoch [17], val_loss1: 0.0193, val_loss2: -0.0176\n",
      "Epoch [18], val_loss1: 0.0177, val_loss2: -0.0164\n",
      "Epoch [19], val_loss1: 0.0190, val_loss2: -0.0173\n",
      "Epoch [20], val_loss1: 0.0135, val_loss2: -0.0123\n",
      "Epoch [21], val_loss1: 0.0122, val_loss2: -0.0112\n",
      "Epoch [22], val_loss1: 0.0130, val_loss2: -0.0119\n",
      "Epoch [23], val_loss1: 0.0127, val_loss2: -0.0117\n",
      "Epoch [24], val_loss1: 0.0132, val_loss2: -0.0122\n",
      "Epoch [25], val_loss1: 0.0126, val_loss2: -0.0116\n",
      "Epoch [26], val_loss1: 0.0125, val_loss2: -0.0116\n",
      "Epoch [27], val_loss1: 0.0121, val_loss2: -0.0113\n",
      "Epoch [28], val_loss1: 0.0121, val_loss2: -0.0113\n",
      "Epoch [29], val_loss1: 0.0107, val_loss2: -0.0100\n",
      "Epoch [30], val_loss1: 0.0103, val_loss2: -0.0097\n",
      "Epoch [31], val_loss1: 0.0098, val_loss2: -0.0092\n",
      "Epoch [32], val_loss1: 0.0094, val_loss2: -0.0089\n",
      "Epoch [33], val_loss1: 0.0094, val_loss2: -0.0089\n",
      "Epoch [34], val_loss1: 0.0090, val_loss2: -0.0085\n",
      "Epoch [35], val_loss1: 0.0095, val_loss2: -0.0090\n",
      "Epoch [36], val_loss1: 0.0086, val_loss2: -0.0082\n",
      "Epoch [37], val_loss1: 0.0086, val_loss2: -0.0082\n",
      "Epoch [38], val_loss1: 0.0081, val_loss2: -0.0077\n",
      "Epoch [39], val_loss1: 0.0075, val_loss2: -0.0072\n",
      "Epoch [40], val_loss1: 0.0075, val_loss2: -0.0072\n",
      "Epoch [41], val_loss1: 0.0066, val_loss2: -0.0063\n",
      "Epoch [42], val_loss1: 0.0063, val_loss2: -0.0060\n",
      "Epoch [43], val_loss1: 0.0064, val_loss2: -0.0062\n",
      "Epoch [44], val_loss1: 0.0065, val_loss2: -0.0062\n",
      "Epoch [45], val_loss1: 0.0062, val_loss2: -0.0060\n",
      "Epoch [46], val_loss1: 0.0057, val_loss2: -0.0055\n",
      "Epoch [47], val_loss1: 0.0060, val_loss2: -0.0058\n",
      "Epoch [48], val_loss1: 0.0062, val_loss2: -0.0059\n",
      "Epoch [49], val_loss1: 0.0061, val_loss2: -0.0059\n",
      "Epoch [50], val_loss1: 0.0060, val_loss2: -0.0058\n",
      "Epoch [51], val_loss1: 0.0062, val_loss2: -0.0060\n",
      "Epoch [52], val_loss1: 0.0060, val_loss2: -0.0058\n",
      "Epoch [53], val_loss1: 0.0059, val_loss2: -0.0056\n",
      "Epoch [54], val_loss1: 0.0057, val_loss2: -0.0055\n",
      "Epoch [55], val_loss1: 0.0057, val_loss2: -0.0055\n",
      "Epoch [56], val_loss1: 0.0059, val_loss2: -0.0057\n",
      "Epoch [57], val_loss1: 0.0058, val_loss2: -0.0056\n",
      "Epoch [58], val_loss1: 0.0057, val_loss2: -0.0056\n",
      "Epoch [59], val_loss1: 0.0057, val_loss2: -0.0056\n",
      "Epoch [60], val_loss1: 0.0057, val_loss2: -0.0055\n",
      "Epoch [61], val_loss1: 0.0057, val_loss2: -0.0055\n",
      "Epoch [62], val_loss1: 0.0058, val_loss2: -0.0056\n",
      "Epoch [63], val_loss1: 0.0059, val_loss2: -0.0057\n",
      "Epoch [64], val_loss1: 0.0063, val_loss2: -0.0061\n",
      "Epoch [65], val_loss1: 0.0055, val_loss2: -0.0054\n",
      "Epoch [66], val_loss1: 0.0058, val_loss2: -0.0056\n",
      "Epoch [67], val_loss1: 0.0056, val_loss2: -0.0055\n",
      "Epoch [68], val_loss1: 0.0060, val_loss2: -0.0059\n",
      "Epoch [69], val_loss1: 0.0057, val_loss2: -0.0056\n",
      "Epoch [70], val_loss1: 0.0055, val_loss2: -0.0054\n",
      "Epoch [71], val_loss1: 0.0058, val_loss2: -0.0056\n",
      "Epoch [72], val_loss1: 0.0059, val_loss2: -0.0058\n",
      "Epoch [73], val_loss1: 0.0059, val_loss2: -0.0057\n",
      "Epoch [74], val_loss1: 0.0056, val_loss2: -0.0055\n",
      "Epoch [75], val_loss1: 0.0059, val_loss2: -0.0058\n",
      "Epoch [76], val_loss1: 0.0054, val_loss2: -0.0053\n",
      "Epoch [77], val_loss1: 0.0056, val_loss2: -0.0055\n",
      "Epoch [78], val_loss1: 0.0056, val_loss2: -0.0054\n",
      "Epoch [79], val_loss1: 0.0056, val_loss2: -0.0054\n",
      "Epoch [80], val_loss1: 0.0065, val_loss2: -0.0064\n",
      "Epoch [81], val_loss1: 0.0055, val_loss2: -0.0054\n",
      "Epoch [82], val_loss1: 0.0054, val_loss2: -0.0053\n",
      "Epoch [83], val_loss1: 0.0055, val_loss2: -0.0054\n",
      "Epoch [84], val_loss1: 0.0069, val_loss2: -0.0067\n",
      "Epoch [85], val_loss1: 0.0053, val_loss2: -0.0052\n",
      "Epoch [86], val_loss1: 0.0056, val_loss2: -0.0055\n",
      "Epoch [87], val_loss1: 0.0055, val_loss2: -0.0054\n",
      "Epoch [88], val_loss1: 0.0056, val_loss2: -0.0055\n",
      "Epoch [89], val_loss1: 0.0056, val_loss2: -0.0055\n",
      "Epoch [90], val_loss1: 0.0058, val_loss2: -0.0057\n",
      "Epoch [91], val_loss1: 0.0059, val_loss2: -0.0057\n",
      "Epoch [92], val_loss1: 0.0054, val_loss2: -0.0053\n",
      "Epoch [93], val_loss1: 0.0055, val_loss2: -0.0053\n",
      "Epoch [94], val_loss1: 0.0058, val_loss2: -0.0057\n",
      "Epoch [95], val_loss1: 0.0055, val_loss2: -0.0054\n",
      "Epoch [96], val_loss1: 0.0055, val_loss2: -0.0053\n",
      "Epoch [97], val_loss1: 0.0054, val_loss2: -0.0053\n",
      "Epoch [98], val_loss1: 0.0055, val_loss2: -0.0054\n",
      "Epoch [99], val_loss1: 0.0059, val_loss2: -0.0058\n"
     ]
    }
   ],
   "source": [
    "history = training(N_EPOCHS,model,train_loader,val_loader)"
   ]
  },
  {
   "cell_type": "code",
   "execution_count": 16,
   "metadata": {
    "colab": {
     "base_uri": "https://localhost:8080/",
     "height": 295
    },
    "id": "fYwlN0JKVVtN",
    "outputId": "c742ff8b-3b4a-41f5-dd09-effee1be928a"
   },
   "outputs": [
    {
     "data": {
      "image/png": "[encoded data removed]",
      "text/plain": [
       "<Figure size 432x288 with 1 Axes>"
      ]
     },
     "metadata": {
      "needs_background": "light"
     },
     "output_type": "display_data"
    }
   ],
   "source": [
    "plot_history(history)"
   ]
  },
  {
   "cell_type": "code",
   "execution_count": 17,
   "metadata": {
    "id": "ieObNqKYsOzh"
   },
   "outputs": [],
   "source": [
    "torch.save({\n",
    "            'encoder': model.encoder.state_dict(),\n",
    "            'decoder1': model.decoder1.state_dict(),\n",
    "            'decoder2': model.decoder2.state_dict()\n",
    "            }, \"model.pth\")"
   ]
  },
  {
   "cell_type": "code",
   "execution_count": null,
   "metadata": {},
   "outputs": [],
   "source": []
  },
  {
   "cell_type": "markdown",
   "metadata": {
    "id": "ymhjbmvR_DgJ"
   },
   "source": [
    "## Testing"
   ]
  },
  {
   "cell_type": "code",
   "execution_count": 18,
   "metadata": {
    "colab": {
     "base_uri": "https://localhost:8080/",
     "height": 34
    },
    "id": "b7rbm9wdXKeF",
    "outputId": "076309c7-22be-41f6-f916-5f11cb679672"
   },
   "outputs": [
    {
     "data": {
      "text/plain": [
       "<All keys matched successfully>"
      ]
     },
     "execution_count": 18,
     "metadata": {},
     "output_type": "execute_result"
    }
   ],
   "source": [
    "checkpoint = torch.load(\"model.pth\")\n",
    "\n",
    "model.encoder.load_state_dict(checkpoint['encoder'])\n",
    "model.decoder1.load_state_dict(checkpoint['decoder1'])\n",
    "model.decoder2.load_state_dict(checkpoint['decoder2'])"
   ]
  },
  {
   "cell_type": "code",
   "execution_count": 19,
   "metadata": {
    "id": "Ry1QTp6V2ny4"
   },
   "outputs": [],
   "source": [
    "results=testing(model,test_loader)"
   ]
  },
  {
   "cell_type": "code",
   "execution_count": 20,
   "metadata": {
    "id": "FSWwxheNvxR7"
   },
   "outputs": [],
   "source": [
    "y_pred=np.concatenate([torch.stack(results[:-1]).flatten().detach().cpu().numpy(),\n",
    "                              results[-1].flatten().detach().cpu().numpy()])\n",
    "y_test=np.concatenate([np.zeros(windows_normal_test.shape[0]),\n",
    "                       np.ones(windows_attack.shape[0])])"
   ]
  },
  {
   "cell_type": "code",
   "execution_count": 21,
   "metadata": {
    "colab": {
     "base_uri": "https://localhost:8080/",
     "height": 395
    },
    "id": "S6R9tL9PJc9A",
    "outputId": "ef92dc99-7990-46d3-b049-70ef9f10f738"
   },
   "outputs": [
    {
     "data": {
      "image/png": "[encoded data removed]",
      "text/plain": [
       "<Figure size 864x432 with 1 Axes>"
      ]
     },
     "metadata": {
      "needs_background": "light"
     },
     "output_type": "display_data"
    }
   ],
   "source": [
    "histogram(y_test,y_pred)"
   ]
  },
  {
   "cell_type": "code",
   "execution_count": 22,
   "metadata": {
    "colab": {
     "base_uri": "https://localhost:8080/",
     "height": 279
    },
    "id": "bROUyLM93cG3",
    "outputId": "755359d9-d0fb-4deb-b313-d3c2a2465a26"
   },
   "outputs": [
    {
     "data": {
      "image/png": "[encoded data removed]",
      "text/plain": [
       "<Figure size 432x288 with 1 Axes>"
      ]
     },
     "metadata": {
      "needs_background": "light"
     },
     "output_type": "display_data"
    }
   ],
   "source": [
    "threshold=ROC(y_test,y_pred)"
   ]
  },
  {
   "cell_type": "code",
   "execution_count": 23,
   "metadata": {
    "colab": {
     "base_uri": "https://localhost:8080/",
     "height": 279
    },
    "id": "8CbQmMjCIl1_",
    "outputId": "25c93a9e-9c5d-449e-8b77-2cc906b269f0"
   },
   "outputs": [
    {
     "data": {
      "image/png": "[encoded data removed]",
      "text/plain": [
       "<Figure size 432x288 with 2 Axes>"
      ]
     },
     "metadata": {
      "needs_background": "light"
     },
     "output_type": "display_data"
    }
   ],
   "source": [
    "confusion_matrix(y_test,np.where(y_pred > threshold, 1, 0),perc=True)"
   ]
  },
  {
   "cell_type": "code",
   "execution_count": null,
   "metadata": {},
   "outputs": [],
   "source": []
  },
  {
   "cell_type": "markdown",
   "metadata": {},
   "source": [
    "## Anomaly gap maximize net\n",
    "\n",
    "* 제안 아이디어 검증"
   ]
  },
  {
   "cell_type": "code",
   "execution_count": 24,
   "metadata": {},
   "outputs": [],
   "source": [
    "class UsadModel_AGM(nn.Module):\n",
    "    def __init__(self, w_size, z_size):\n",
    "        super().__init__()\n",
    "        self.encoder = Encoder(w_size, z_size)\n",
    "        self.decoder1 = Decoder(z_size, w_size)\n",
    "        self.decoder2 = Decoder(z_size, w_size)\n",
    "\n",
    "    def training_step(self, batch, n):\n",
    "        z = self.encoder(batch)\n",
    "        w1 = self.decoder1(z)\n",
    "        w2 = self.decoder2(z)\n",
    "        w3 = self.decoder2(self.encoder(w1))\n",
    "        real_recon1 = batch-w1\n",
    "        real_recon2 = batch-w2\n",
    "        fake_recon = batch-w3\n",
    "        \n",
    "        with torch.no_grad():\n",
    "            pg_advantage = torch.mean((fake_recon)**2)-torch.mean((real_recon2)**2)\n",
    "        \n",
    "        loss1 = 1/n*torch.mean((real_recon1)**2)+(1-1/n)*torch.mean((fake_recon)**2) # AE1 - generator\n",
    "        loss2 = 1/n*torch.mean((real_recon2)**2)-(1-1/n)*torch.mean((fake_recon)**2) # AE2 - discriminator\n",
    "        loss3 = -torch.mean(torch.log(w3+1e-6) * pg_advantage)\n",
    "        #loss3 = -torch.sum(torch.log(w3+1e-6) * pg_advantage)\n",
    "        \n",
    "        return loss1,loss2,loss3\n",
    "\n",
    "    def validation_step(self, batch, n):\n",
    "        z = self.encoder(batch)\n",
    "        w1 = self.decoder1(z)\n",
    "        w2 = self.decoder2(z)\n",
    "        w3 = self.decoder2(self.encoder(w1))\n",
    "        \n",
    "        real_recon1 = batch-w1\n",
    "        real_recon2 = batch-w2\n",
    "        fake_recon = batch-w3\n",
    "        \n",
    "        pg_advantage = torch.mean((fake_recon)**2)-torch.mean((real_recon2)**2)\n",
    "        \n",
    "        loss1 = 1/n*torch.mean((real_recon1)**2)+(1-1/n)*torch.mean((fake_recon)**2) # AE1 - generator\n",
    "        loss2 = 1/n*torch.mean((real_recon2)**2)-(1-1/n)*torch.mean((fake_recon)**2) # AE2 - discriminator\n",
    "        loss3 = -torch.mean(torch.log(w3+1e-6) * pg_advantage)\n",
    "        #loss3 = -torch.sum(torch.log(w3+1e-6) * pg_advantage)\n",
    "        \n",
    "        return {'val_loss1': loss1, 'val_loss2': loss2, 'val_loss3': loss3}\n",
    "\n",
    "    def validation_epoch_end(self, outputs):\n",
    "        batch_losses1 = [x['val_loss1'] for x in outputs]\n",
    "        epoch_loss1 = torch.stack(batch_losses1).mean()\n",
    "        batch_losses2 = [x['val_loss2'] for x in outputs]\n",
    "        epoch_loss2 = torch.stack(batch_losses2).mean()\n",
    "        batch_losses3 = [x['val_loss3'] for x in outputs]\n",
    "        epoch_loss3 = torch.stack(batch_losses3).mean()\n",
    "        return {'val_loss1': epoch_loss1.item(), 'val_loss2': epoch_loss2.item(), 'val_loss3': epoch_loss3.item()}\n",
    "\n",
    "    def epoch_end(self, epoch, result):\n",
    "        print(\"Epoch [{}], val_loss1: {:.4f}, val_loss2: {:.4f}, val_loss3: {:.4f}\".format(epoch, result['val_loss1'], result['val_loss2'], result['val_loss3']))\n",
    "    \n",
    "def evaluate(model, val_loader, n):\n",
    "    outputs = [model.validation_step(to_device(batch,device), n) for [batch] in val_loader]\n",
    "    return model.validation_epoch_end(outputs)\n",
    "\n",
    "def training(epochs, model, train_loader, val_loader, opt_func=torch.optim.Adam, max_norm = 3):\n",
    "    history = []\n",
    "    optimizer1 = opt_func(list(model.encoder.parameters())+list(model.decoder1.parameters()))\n",
    "    optimizer2 = opt_func(list(model.encoder.parameters())+list(model.decoder2.parameters()))\n",
    "    for epoch in range(epochs):\n",
    "        for [batch] in train_loader:\n",
    "            batch=to_device(batch,device)\n",
    "            loss1,loss2,loss3 = model.training_step(batch,epoch+1)\n",
    "            loss1.backward(retain_graph=True)\n",
    "            loss2.backward(retain_graph=True)\n",
    "            loss3.backward()\n",
    "            \n",
    "            ## gradient clipping\n",
    "            torch.nn.utils.clip_grad_norm_(model.parameters(), max_norm)\n",
    "            \n",
    "            optimizer1.step()\n",
    "            optimizer2.step()\n",
    "            optimizer1.zero_grad()\n",
    "            optimizer2.zero_grad()\n",
    "        result = evaluate(model, val_loader, epoch+1)\n",
    "        model.epoch_end(epoch, result)\n",
    "        history.append(result)\n",
    "    return history\n",
    "    \n",
    "def testing(model, test_loader, alpha=.5, beta=.5):\n",
    "    results=[]\n",
    "    for [batch] in test_loader:\n",
    "        batch=to_device(batch,device)\n",
    "        w1=model.decoder1(model.encoder(batch))\n",
    "        w2=model.decoder2(model.encoder(w1))\n",
    "        results.append(alpha*torch.mean((batch-w1)**2,axis=1)+beta*torch.mean((batch-w2)**2,axis=1))\n",
    "    return results"
   ]
  },
  {
   "cell_type": "code",
   "execution_count": 25,
   "metadata": {
    "id": "yi9S0SGnDKNc"
   },
   "outputs": [],
   "source": [
    "import torch.utils.data as data_utils\n",
    "\n",
    "BATCH_SIZE = 7919\n",
    "N_EPOCHS = 100\n",
    "hidden_size = 10\n",
    "\n",
    "w_size=windows_normal.shape[1]*windows_normal.shape[2]\n",
    "z_size=windows_normal.shape[1]*hidden_size\n",
    "\n",
    "windows_normal_train = windows_normal[:int(np.floor(.8 * .5 * windows_normal.shape[0]))]\n",
    "windows_normal_val = windows_normal[int(np.floor(.8 * .5 * windows_normal.shape[0])):int(np.floor(.5 * windows_normal.shape[0]))]\n",
    "windows_normal_test = windows_normal[int(np.floor(.5 * windows_normal.shape[0])):]\n",
    "\n",
    "train_loader = torch.utils.data.DataLoader(data_utils.TensorDataset(\n",
    "    torch.from_numpy(windows_normal_train).float().view(([windows_normal_train.shape[0],w_size]))\n",
    ") , batch_size=BATCH_SIZE, shuffle=False, num_workers=0)\n",
    "\n",
    "val_loader = torch.utils.data.DataLoader(data_utils.TensorDataset(\n",
    "    torch.from_numpy(windows_normal_val).float().view(([windows_normal_val.shape[0],w_size]))\n",
    ") , batch_size=BATCH_SIZE, shuffle=False, num_workers=0)\n",
    "\n",
    "test_loader = torch.utils.data.DataLoader(data_utils.TensorDataset(\n",
    "    torch.from_numpy(np.concatenate([windows_normal_test,windows_attack])).float().view(([windows_normal_test.shape[0]+windows_attack.shape[0],w_size]))\n",
    ") , batch_size=BATCH_SIZE, shuffle=False, num_workers=0)\n",
    "\n",
    "model = UsadModel_AGM(w_size, z_size)\n",
    "model = to_device(model,device)"
   ]
  },
  {
   "cell_type": "code",
   "execution_count": 26,
   "metadata": {
    "colab": {
     "base_uri": "https://localhost:8080/",
     "height": 1000
    },
    "id": "So9yjDPEDObC",
    "outputId": "629bcd13-37b1-4907-ef0d-46d9e3ad5398"
   },
   "outputs": [
    {
     "name": "stdout",
     "output_type": "stream",
     "text": [
      "Epoch [0], val_loss1: 0.0505, val_loss2: 0.0510, val_loss3: 0.0014\n",
      "Epoch [1], val_loss1: 0.0339, val_loss2: -0.0008, val_loss3: 0.0016\n",
      "Epoch [2], val_loss1: 0.0347, val_loss2: -0.0133, val_loss3: 0.0035\n",
      "Epoch [3], val_loss1: 0.3270, val_loss2: -0.3073, val_loss3: 0.0000\n",
      "Epoch [4], val_loss1: 0.3457, val_loss2: -0.2540, val_loss3: 0.0000\n",
      "Epoch [5], val_loss1: 0.3581, val_loss2: -0.2822, val_loss3: 0.0000\n",
      "Epoch [6], val_loss1: 0.3674, val_loss2: -0.3024, val_loss3: 0.0000\n",
      "Epoch [7], val_loss1: 0.3744, val_loss2: -0.3175, val_loss3: 0.0000\n",
      "Epoch [8], val_loss1: 0.3798, val_loss2: -0.3293, val_loss3: 0.0000\n",
      "Epoch [9], val_loss1: 0.3841, val_loss2: -0.3387, val_loss3: 0.0000\n",
      "Epoch [10], val_loss1: 0.3876, val_loss2: -0.3464, val_loss3: 0.0000\n",
      "Epoch [11], val_loss1: 0.3905, val_loss2: -0.3528, val_loss3: 0.0000\n",
      "Epoch [12], val_loss1: 0.3923, val_loss2: -0.3582, val_loss3: -0.0000\n",
      "Epoch [13], val_loss1: 0.0391, val_loss2: -0.0336, val_loss3: -0.0002\n",
      "Epoch [14], val_loss1: 0.0366, val_loss2: -0.0317, val_loss3: 0.0010\n",
      "Epoch [15], val_loss1: 0.0360, val_loss2: -0.0316, val_loss3: 0.0010\n",
      "Epoch [16], val_loss1: 0.0377, val_loss2: -0.0335, val_loss3: 0.0014\n",
      "Epoch [17], val_loss1: 0.0399, val_loss2: -0.0358, val_loss3: 0.0017\n",
      "Epoch [18], val_loss1: 0.0452, val_loss2: -0.0411, val_loss3: 0.0024\n",
      "Epoch [19], val_loss1: 0.0553, val_loss2: -0.0515, val_loss3: 0.0055\n",
      "Epoch [20], val_loss1: 0.3999, val_loss2: -0.3932, val_loss3: 0.0016\n",
      "Epoch [21], val_loss1: 0.4059, val_loss2: -0.4026, val_loss3: 0.0000\n",
      "Epoch [22], val_loss1: 0.4059, val_loss2: -0.4038, val_loss3: 0.0000\n",
      "Epoch [23], val_loss1: 0.4067, val_loss2: -0.4047, val_loss3: 0.0000\n",
      "Epoch [24], val_loss1: 0.4073, val_loss2: -0.4057, val_loss3: 0.0000\n",
      "Epoch [25], val_loss1: 0.4079, val_loss2: -0.4063, val_loss3: 0.0000\n",
      "Epoch [26], val_loss1: 0.4084, val_loss2: -0.4070, val_loss3: 0.0000\n",
      "Epoch [27], val_loss1: 0.4090, val_loss2: -0.4076, val_loss3: -0.0000\n",
      "Epoch [28], val_loss1: 0.4094, val_loss2: -0.4081, val_loss3: 0.0000\n",
      "Epoch [29], val_loss1: 0.4099, val_loss2: -0.4086, val_loss3: 0.0000\n",
      "Epoch [30], val_loss1: 0.4103, val_loss2: -0.4091, val_loss3: -0.0000\n",
      "Epoch [31], val_loss1: 0.4107, val_loss2: -0.4096, val_loss3: -0.0000\n",
      "Epoch [32], val_loss1: 0.4116, val_loss2: -0.4098, val_loss3: -0.0000\n",
      "Epoch [33], val_loss1: 0.4115, val_loss2: -0.4104, val_loss3: 0.0000\n",
      "Epoch [34], val_loss1: 0.4118, val_loss2: -0.4108, val_loss3: 0.0000\n",
      "Epoch [35], val_loss1: 0.4121, val_loss2: -0.4111, val_loss3: -0.0000\n",
      "Epoch [36], val_loss1: 0.4124, val_loss2: -0.4114, val_loss3: 0.0000\n",
      "Epoch [37], val_loss1: 0.4127, val_loss2: -0.4117, val_loss3: -0.0000\n",
      "Epoch [38], val_loss1: 0.4129, val_loss2: -0.4120, val_loss3: 0.0000\n",
      "Epoch [39], val_loss1: 0.4132, val_loss2: -0.4124, val_loss3: -0.0000\n",
      "Epoch [40], val_loss1: 0.4135, val_loss2: -0.4126, val_loss3: -0.0000\n",
      "Epoch [41], val_loss1: 0.4137, val_loss2: -0.4128, val_loss3: -0.0000\n",
      "Epoch [42], val_loss1: 0.4139, val_loss2: -0.4131, val_loss3: -0.0000\n",
      "Epoch [43], val_loss1: 0.4141, val_loss2: -0.4133, val_loss3: -0.0000\n",
      "Epoch [44], val_loss1: 0.4143, val_loss2: -0.4136, val_loss3: 0.0000\n",
      "Epoch [45], val_loss1: 0.4145, val_loss2: -0.4138, val_loss3: -0.0000\n",
      "Epoch [46], val_loss1: 0.4147, val_loss2: -0.4138, val_loss3: -0.0000\n",
      "Epoch [47], val_loss1: 0.4149, val_loss2: -0.4142, val_loss3: -0.0000\n",
      "Epoch [48], val_loss1: 0.4150, val_loss2: -0.4144, val_loss3: -0.0000\n",
      "Epoch [49], val_loss1: 0.4152, val_loss2: -0.4146, val_loss3: -0.0000\n",
      "Epoch [50], val_loss1: 0.4154, val_loss2: -0.4148, val_loss3: -0.0000\n",
      "Epoch [51], val_loss1: 0.4158, val_loss2: -0.4149, val_loss3: -0.0000\n",
      "Epoch [52], val_loss1: 0.4158, val_loss2: -0.4151, val_loss3: 0.0000\n",
      "Epoch [53], val_loss1: 0.4163, val_loss2: -0.4077, val_loss3: 0.0000\n",
      "Epoch [54], val_loss1: 0.4162, val_loss2: -0.4080, val_loss3: 0.0000\n",
      "Epoch [55], val_loss1: 0.4161, val_loss2: -0.4082, val_loss3: 0.0000\n",
      "Epoch [56], val_loss1: 0.4162, val_loss2: -0.4085, val_loss3: 0.0000\n",
      "Epoch [57], val_loss1: 0.4163, val_loss2: -0.4088, val_loss3: -0.0000\n",
      "Epoch [58], val_loss1: 0.4164, val_loss2: -0.4090, val_loss3: -0.0000\n",
      "Epoch [59], val_loss1: 0.4165, val_loss2: -0.4092, val_loss3: 0.0000\n",
      "Epoch [60], val_loss1: 0.4166, val_loss2: -0.4095, val_loss3: 0.0000\n",
      "Epoch [61], val_loss1: 0.4168, val_loss2: -0.4097, val_loss3: 0.0000\n",
      "Epoch [62], val_loss1: 0.4169, val_loss2: -0.4099, val_loss3: 0.0000\n",
      "Epoch [63], val_loss1: 0.4170, val_loss2: -0.4101, val_loss3: 0.0000\n",
      "Epoch [64], val_loss1: 0.4170, val_loss2: -0.4103, val_loss3: 0.0000\n",
      "Epoch [65], val_loss1: 0.4171, val_loss2: -0.4105, val_loss3: 0.0000\n",
      "Epoch [66], val_loss1: 0.3080, val_loss2: -0.3029, val_loss3: 0.0042\n",
      "Epoch [67], val_loss1: 0.4177, val_loss2: -0.4109, val_loss3: 0.0000\n",
      "Epoch [68], val_loss1: 0.4175, val_loss2: -0.4111, val_loss3: -0.0000\n",
      "Epoch [69], val_loss1: 0.4179, val_loss2: -0.4113, val_loss3: 0.0000\n",
      "Epoch [70], val_loss1: 0.4179, val_loss2: -0.4114, val_loss3: 0.0000\n",
      "Epoch [71], val_loss1: 0.4180, val_loss2: -0.4116, val_loss3: 0.0000\n",
      "Epoch [72], val_loss1: 0.4180, val_loss2: -0.4117, val_loss3: 0.0000\n",
      "Epoch [73], val_loss1: 0.4180, val_loss2: -0.4119, val_loss3: 0.0000\n",
      "Epoch [74], val_loss1: 0.4181, val_loss2: -0.4121, val_loss3: 0.0000\n",
      "Epoch [75], val_loss1: 0.4181, val_loss2: -0.4122, val_loss3: 0.0000\n",
      "Epoch [76], val_loss1: 0.4182, val_loss2: -0.4124, val_loss3: 0.0000\n",
      "Epoch [77], val_loss1: 0.4182, val_loss2: -0.4125, val_loss3: 0.0000\n",
      "Epoch [78], val_loss1: 0.4182, val_loss2: -0.4126, val_loss3: 0.0000\n",
      "Epoch [79], val_loss1: 0.4183, val_loss2: -0.4128, val_loss3: 0.0000\n",
      "Epoch [80], val_loss1: 0.4183, val_loss2: -0.4129, val_loss3: 0.0000\n",
      "Epoch [81], val_loss1: 0.4184, val_loss2: -0.4130, val_loss3: 0.0000\n",
      "Epoch [82], val_loss1: 0.4185, val_loss2: -0.4131, val_loss3: -0.0000\n",
      "Epoch [83], val_loss1: 0.4185, val_loss2: -0.4133, val_loss3: -0.0000\n",
      "Epoch [84], val_loss1: 0.4186, val_loss2: -0.4134, val_loss3: -0.0000\n",
      "Epoch [85], val_loss1: 0.4186, val_loss2: -0.4135, val_loss3: -0.0000\n",
      "Epoch [86], val_loss1: 0.4180, val_loss2: -0.4129, val_loss3: 0.0000\n",
      "Epoch [87], val_loss1: 0.4188, val_loss2: -0.4150, val_loss3: -0.0000\n",
      "Epoch [88], val_loss1: 0.4195, val_loss2: -0.4138, val_loss3: 0.0000\n",
      "Epoch [89], val_loss1: 0.4189, val_loss2: -0.4139, val_loss3: 0.0000\n",
      "Epoch [90], val_loss1: 0.4189, val_loss2: -0.4140, val_loss3: 0.0000\n",
      "Epoch [91], val_loss1: 0.4190, val_loss2: -0.4148, val_loss3: -0.0000\n",
      "Epoch [92], val_loss1: 0.4197, val_loss2: -0.4142, val_loss3: 0.0000\n",
      "Epoch [93], val_loss1: 0.4196, val_loss2: -0.4143, val_loss3: 0.0000\n",
      "Epoch [94], val_loss1: 0.4196, val_loss2: -0.4144, val_loss3: 0.0000\n",
      "Epoch [95], val_loss1: 0.4196, val_loss2: -0.4145, val_loss3: 0.0000\n",
      "Epoch [96], val_loss1: 0.4196, val_loss2: -0.4146, val_loss3: 0.0000\n",
      "Epoch [97], val_loss1: 0.4196, val_loss2: -0.4147, val_loss3: 0.0000\n",
      "Epoch [98], val_loss1: 0.4197, val_loss2: -0.4148, val_loss3: 0.0000\n",
      "Epoch [99], val_loss1: 0.4197, val_loss2: -0.4149, val_loss3: 0.0000\n"
     ]
    }
   ],
   "source": [
    "history = training(N_EPOCHS,model,train_loader,val_loader)"
   ]
  },
  {
   "cell_type": "code",
   "execution_count": null,
   "metadata": {},
   "outputs": [],
   "source": []
  },
  {
   "cell_type": "markdown",
   "metadata": {},
   "source": [
    "* print each step"
   ]
  },
  {
   "cell_type": "code",
   "execution_count": 76,
   "metadata": {},
   "outputs": [],
   "source": [
    "results = []\n",
    "w1_list = []\n",
    "w2_list = []\n",
    "batch_list = []\n",
    "for [batch] in val_loader:\n",
    "    batch=to_device(batch,device)\n",
    "    w1=model.decoder1(model.encoder(batch))\n",
    "    w2=model.decoder2(model.encoder(w1))\n",
    "    results.append(.5*torch.mean((batch-w1)**2,axis=1)+.5*torch.mean((batch-w2)**2,axis=1))\n",
    "    batch_list.append(batch)\n",
    "    w1_list.append(w1)\n",
    "    w2_list.append(w2)"
   ]
  },
  {
   "cell_type": "code",
   "execution_count": 80,
   "metadata": {},
   "outputs": [
    {
     "data": {
      "text/plain": [
       "array([[0.725, 0.611, 0.903, ..., 0.   , 0.   , 0.   ],\n",
       "       [0.726, 0.611, 0.903, ..., 0.   , 0.   , 0.   ],\n",
       "       [0.726, 0.61 , 0.903, ..., 0.   , 0.   , 0.   ],\n",
       "       ...,\n",
       "       [0.673, 0.656, 0.874, ..., 0.   , 0.   , 0.   ],\n",
       "       [0.671, 0.658, 0.873, ..., 0.   , 0.   , 0.   ],\n",
       "       [0.667, 0.662, 0.87 , ..., 0.   , 0.   , 0.   ]], dtype=float32)"
      ]
     },
     "execution_count": 80,
     "metadata": {},
     "output_type": "execute_result"
    }
   ],
   "source": [
    "np.round(w1_list[0].detach().numpy(),3)"
   ]
  },
  {
   "cell_type": "code",
   "execution_count": 81,
   "metadata": {},
   "outputs": [
    {
     "data": {
      "text/plain": [
       "array([[1., 1., 1., ..., 1., 1., 1.],\n",
       "       [1., 1., 1., ..., 1., 1., 1.],\n",
       "       [1., 1., 1., ..., 1., 1., 1.],\n",
       "       ...,\n",
       "       [1., 1., 1., ..., 1., 1., 1.],\n",
       "       [1., 1., 1., ..., 1., 1., 1.],\n",
       "       [1., 1., 1., ..., 1., 1., 1.]], dtype=float32)"
      ]
     },
     "execution_count": 81,
     "metadata": {},
     "output_type": "execute_result"
    }
   ],
   "source": [
    "np.round(w2_list[0].detach().numpy(),3)"
   ]
  },
  {
   "cell_type": "code",
   "execution_count": 78,
   "metadata": {},
   "outputs": [
    {
     "data": {
      "text/plain": [
       "tensor([[0.8922, 0.5583, 1.0000,  ..., 0.0000, 0.0000, 0.0000],\n",
       "        [0.8872, 0.5582, 1.0000,  ..., 0.0000, 0.0000, 0.0000],\n",
       "        [0.8819, 0.5580, 1.0000,  ..., 0.0000, 0.0000, 0.0000],\n",
       "        ...,\n",
       "        [0.8866, 0.5483, 1.0000,  ..., 0.0000, 0.0000, 0.0000],\n",
       "        [0.8848, 0.5483, 1.0000,  ..., 0.0000, 0.0000, 0.0000],\n",
       "        [0.8841, 0.5480, 1.0000,  ..., 0.0000, 1.0000, 0.0000]])"
      ]
     },
     "execution_count": 78,
     "metadata": {},
     "output_type": "execute_result"
    }
   ],
   "source": [
    "batch_list[0]"
   ]
  },
  {
   "cell_type": "code",
   "execution_count": 82,
   "metadata": {},
   "outputs": [],
   "source": [
    "n = 100\n",
    "z = model.encoder(batch)\n",
    "w1 = model.decoder1(z)\n",
    "w2 = model.decoder2(z)\n",
    "w3 = model.decoder2(model.encoder(w1))\n",
    "\n",
    "real_recon1 = batch-w1\n",
    "real_recon2 = batch-w2\n",
    "fake_recon = batch-w3\n",
    "\n",
    "pg_advantage = torch.mean((fake_recon)**2)-torch.mean((real_recon2)**2)\n",
    "\n",
    "loss1 = 1/n*torch.mean((real_recon1)**2)+(1-1/n)*torch.mean((fake_recon)**2) # AE1 - generator\n",
    "loss2 = 1/n*torch.mean((real_recon2)**2)-(1-1/n)*torch.mean((fake_recon)**2) # AE2 - discriminator\n",
    "loss3 = -torch.mean(torch.log(w3+1e-6) * pg_advantage)"
   ]
  },
  {
   "cell_type": "code",
   "execution_count": 83,
   "metadata": {},
   "outputs": [
    {
     "data": {
      "text/plain": [
       "tensor(0.4198, grad_fn=<AddBackward0>)"
      ]
     },
     "execution_count": 83,
     "metadata": {},
     "output_type": "execute_result"
    }
   ],
   "source": [
    "loss1"
   ]
  },
  {
   "cell_type": "code",
   "execution_count": 84,
   "metadata": {},
   "outputs": [
    {
     "data": {
      "text/plain": [
       "tensor(-0.4154, grad_fn=<SubBackward0>)"
      ]
     },
     "execution_count": 84,
     "metadata": {},
     "output_type": "execute_result"
    }
   ],
   "source": [
    "loss2"
   ]
  },
  {
   "cell_type": "code",
   "execution_count": 85,
   "metadata": {},
   "outputs": [
    {
     "data": {
      "text/plain": [
       "tensor(0.4238, grad_fn=<MeanBackward0>)"
      ]
     },
     "execution_count": 85,
     "metadata": {},
     "output_type": "execute_result"
    }
   ],
   "source": [
    "torch.mean((fake_recon)**2)"
   ]
  },
  {
   "cell_type": "code",
   "execution_count": 86,
   "metadata": {},
   "outputs": [
    {
     "data": {
      "text/plain": [
       "tensor(0.4238, grad_fn=<MeanBackward0>)"
      ]
     },
     "execution_count": 86,
     "metadata": {},
     "output_type": "execute_result"
    }
   ],
   "source": [
    "torch.mean((real_recon2)**2)"
   ]
  },
  {
   "cell_type": "code",
   "execution_count": 87,
   "metadata": {},
   "outputs": [
    {
     "data": {
      "text/plain": [
       "tensor(-0., grad_fn=<NegBackward>)"
      ]
     },
     "execution_count": 87,
     "metadata": {},
     "output_type": "execute_result"
    }
   ],
   "source": [
    "-torch.sum(torch.log(w3+1e-6)*pg_advantage)"
   ]
  },
  {
   "cell_type": "code",
   "execution_count": 88,
   "metadata": {},
   "outputs": [
    {
     "data": {
      "text/plain": [
       "tensor([[9.5367e-07, 9.5367e-07, 9.5367e-07,  ..., 9.5367e-07, 9.5367e-07,\n",
       "         9.5367e-07],\n",
       "        [9.5367e-07, 9.5367e-07, 9.5367e-07,  ..., 9.5367e-07, 9.5367e-07,\n",
       "         9.5367e-07],\n",
       "        [9.5367e-07, 9.5367e-07, 9.5367e-07,  ..., 9.5367e-07, 9.5367e-07,\n",
       "         9.5367e-07],\n",
       "        ...,\n",
       "        [9.5367e-07, 9.5367e-07, 9.5367e-07,  ..., 9.5367e-07, 9.5367e-07,\n",
       "         9.5367e-07],\n",
       "        [9.5367e-07, 9.5367e-07, 9.5367e-07,  ..., 9.5367e-07, 9.5367e-07,\n",
       "         9.5367e-07],\n",
       "        [9.5367e-07, 9.5367e-07, 9.5367e-07,  ..., 9.5367e-07, 9.5367e-07,\n",
       "         9.5367e-07]], grad_fn=<LogBackward>)"
      ]
     },
     "execution_count": 88,
     "metadata": {},
     "output_type": "execute_result"
    }
   ],
   "source": [
    "torch.log(w3+1e-6)"
   ]
  },
  {
   "cell_type": "code",
   "execution_count": 89,
   "metadata": {},
   "outputs": [
    {
     "data": {
      "text/plain": [
       "tensor(0., grad_fn=<SubBackward0>)"
      ]
     },
     "execution_count": 89,
     "metadata": {},
     "output_type": "execute_result"
    }
   ],
   "source": [
    "pg_advantage"
   ]
  },
  {
   "cell_type": "code",
   "execution_count": null,
   "metadata": {},
   "outputs": [],
   "source": []
  },
  {
   "cell_type": "code",
   "execution_count": 27,
   "metadata": {},
   "outputs": [],
   "source": [
    "def plot_history_2(history):\n",
    "    losses1 = [x['val_loss1'] for x in history]\n",
    "    losses2 = [x['val_loss2'] for x in history]\n",
    "    losses3 = [x['val_loss3'] for x in history]\n",
    "    plt.plot(losses1, '-x', label=\"loss1\")\n",
    "    plt.plot(losses2, '-x', label=\"loss2\")\n",
    "    plt.plot(losses3, '-x', label=\"loss2\")\n",
    "    plt.xlabel('epoch')\n",
    "    plt.ylabel('loss')\n",
    "    plt.legend()\n",
    "    plt.title('Losses vs. No. of epochs')\n",
    "    plt.grid()\n",
    "    plt.show()"
   ]
  },
  {
   "cell_type": "code",
   "execution_count": 28,
   "metadata": {
    "colab": {
     "base_uri": "https://localhost:8080/",
     "height": 295
    },
    "id": "fYwlN0JKVVtN",
    "outputId": "c742ff8b-3b4a-41f5-dd09-effee1be928a"
   },
   "outputs": [
    {
     "data": {
      "image/png": "[encoded data removed]",
      "text/plain": [
       "<Figure size 432x288 with 1 Axes>"
      ]
     },
     "metadata": {
      "needs_background": "light"
     },
     "output_type": "display_data"
    }
   ],
   "source": [
    "plot_history_2(history)"
   ]
  },
  {
   "cell_type": "code",
   "execution_count": 18,
   "metadata": {
    "id": "ieObNqKYsOzh"
   },
   "outputs": [],
   "source": [
    "torch.save({\n",
    "            'encoder': model.encoder.state_dict(),\n",
    "            'decoder1': model.decoder1.state_dict(),\n",
    "            'decoder2': model.decoder2.state_dict()\n",
    "            }, \"model_agm_1.pth\")"
   ]
  },
  {
   "cell_type": "code",
   "execution_count": null,
   "metadata": {},
   "outputs": [],
   "source": []
  },
  {
   "cell_type": "markdown",
   "metadata": {
    "id": "ymhjbmvR_DgJ"
   },
   "source": [
    "## Testing"
   ]
  },
  {
   "cell_type": "code",
   "execution_count": 19,
   "metadata": {
    "colab": {
     "base_uri": "https://localhost:8080/",
     "height": 34
    },
    "id": "b7rbm9wdXKeF",
    "outputId": "076309c7-22be-41f6-f916-5f11cb679672"
   },
   "outputs": [
    {
     "data": {
      "text/plain": [
       "<All keys matched successfully>"
      ]
     },
     "execution_count": 19,
     "metadata": {},
     "output_type": "execute_result"
    }
   ],
   "source": [
    "checkpoint = torch.load(\"model_agm_1.pth\")\n",
    "\n",
    "model.encoder.load_state_dict(checkpoint['encoder'])\n",
    "model.decoder1.load_state_dict(checkpoint['decoder1'])\n",
    "model.decoder2.load_state_dict(checkpoint['decoder2'])"
   ]
  },
  {
   "cell_type": "code",
   "execution_count": 20,
   "metadata": {
    "id": "Ry1QTp6V2ny4"
   },
   "outputs": [],
   "source": [
    "results=testing(model,test_loader)"
   ]
  },
  {
   "cell_type": "code",
   "execution_count": 21,
   "metadata": {
    "id": "FSWwxheNvxR7"
   },
   "outputs": [],
   "source": [
    "y_pred=np.concatenate([torch.stack(results[:-1]).flatten().detach().cpu().numpy(),\n",
    "                              results[-1].flatten().detach().cpu().numpy()])\n",
    "y_test=np.concatenate([np.zeros(windows_normal_test.shape[0]),\n",
    "                       np.ones(windows_attack.shape[0])])"
   ]
  },
  {
   "cell_type": "code",
   "execution_count": 22,
   "metadata": {
    "colab": {
     "base_uri": "https://localhost:8080/",
     "height": 395
    },
    "id": "S6R9tL9PJc9A",
    "outputId": "ef92dc99-7990-46d3-b049-70ef9f10f738"
   },
   "outputs": [
    {
     "data": {
      "image/png": "[encoded data removed]",
      "text/plain": [
       "<Figure size 864x432 with 1 Axes>"
      ]
     },
     "metadata": {
      "needs_background": "light"
     },
     "output_type": "display_data"
    }
   ],
   "source": [
    "histogram(y_test,y_pred)"
   ]
  },
  {
   "cell_type": "code",
   "execution_count": 23,
   "metadata": {
    "colab": {
     "base_uri": "https://localhost:8080/",
     "height": 279
    },
    "id": "bROUyLM93cG3",
    "outputId": "755359d9-d0fb-4deb-b313-d3c2a2465a26"
   },
   "outputs": [
    {
     "data": {
      "image/png": "[encoded data removed]",
      "text/plain": [
       "<Figure size 432x288 with 1 Axes>"
      ]
     },
     "metadata": {
      "needs_background": "light"
     },
     "output_type": "display_data"
    }
   ],
   "source": [
    "threshold=ROC(y_test,y_pred)"
   ]
  },
  {
   "cell_type": "code",
   "execution_count": 24,
   "metadata": {
    "colab": {
     "base_uri": "https://localhost:8080/",
     "height": 279
    },
    "id": "8CbQmMjCIl1_",
    "outputId": "25c93a9e-9c5d-449e-8b77-2cc906b269f0"
   },
   "outputs": [
    {
     "data": {
      "image/png": "[encoded data removed]",
      "text/plain": [
       "<Figure size 432x288 with 2 Axes>"
      ]
     },
     "metadata": {
      "needs_background": "light"
     },
     "output_type": "display_data"
    }
   ],
   "source": [
    "confusion_matrix(y_test,np.where(y_pred > threshold, 1, 0),perc=True)"
   ]
  },
  {
   "cell_type": "code",
   "execution_count": null,
   "metadata": {},
   "outputs": [],
   "source": []
  }
 ],
 "metadata": {
  "accelerator": "GPU",
  "colab": {
   "name": "USAD_test.ipynb",
   "provenance": [],
   "toc_visible": true
  },
  "kernelspec": {
   "display_name": "Python 3",
   "language": "python",
   "name": "python3"
  },
  "language_info": {
   "codemirror_mode": {
    "name": "ipython",
    "version": 3
   },
   "file_extension": ".py",
   "mimetype": "text/x-python",
   "name": "python",
   "nbconvert_exporter": "python",
   "pygments_lexer": "ipython3",
   "version": "3.7.6"
  }
 },
 "nbformat": 4,
 "nbformat_minor": 4
}
